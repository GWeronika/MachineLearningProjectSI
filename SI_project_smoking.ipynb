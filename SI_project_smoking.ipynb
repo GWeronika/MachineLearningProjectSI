{
 "cells": [
  {
   "cell_type": "markdown",
   "id": "393c2fd4",
   "metadata": {},
   "source": [
    "# Rozpoznanie osób palących na podstawie ich wewnętrznego stanu biologicznego"
   ]
  },
  {
   "cell_type": "markdown",
   "id": "491e359e",
   "metadata": {},
   "source": [
    "Na podstawie zbioru: https://www.kaggle.com/datasets/kukuroo3/body-signal-of-smoking"
   ]
  },
  {
   "cell_type": "code",
   "execution_count": 2,
   "id": "530d2266",
   "metadata": {},
   "outputs": [],
   "source": [
    "import pandas as pd\n",
    "df = pd.read_csv('smoking.csv')"
   ]
  },
  {
   "cell_type": "markdown",
   "id": "fb868e2f",
   "metadata": {},
   "source": [
    "## Opis danych wejściowych"
   ]
  },
  {
   "cell_type": "markdown",
   "id": "df859680",
   "metadata": {},
   "source": [
    "Przedstawienie pierwszych pięciu wierszy zbioru danych za pomocą funkcji *head()*. Zbiór danych zawiera 27 atrybuty przedstawione poniżej."
   ]
  },
  {
   "cell_type": "code",
   "execution_count": 3,
   "id": "caf3aaef",
   "metadata": {},
   "outputs": [
    {
     "data": {
      "text/html": [
       "<div>\n",
       "<style scoped>\n",
       "    .dataframe tbody tr th:only-of-type {\n",
       "        vertical-align: middle;\n",
       "    }\n",
       "\n",
       "    .dataframe tbody tr th {\n",
       "        vertical-align: top;\n",
       "    }\n",
       "\n",
       "    .dataframe thead th {\n",
       "        text-align: right;\n",
       "    }\n",
       "</style>\n",
       "<table border=\"1\" class=\"dataframe\">\n",
       "  <thead>\n",
       "    <tr style=\"text-align: right;\">\n",
       "      <th></th>\n",
       "      <th>ID</th>\n",
       "      <th>gender</th>\n",
       "      <th>age</th>\n",
       "      <th>height(cm)</th>\n",
       "      <th>weight(kg)</th>\n",
       "      <th>waist(cm)</th>\n",
       "      <th>eyesight(left)</th>\n",
       "      <th>eyesight(right)</th>\n",
       "      <th>hearing(left)</th>\n",
       "      <th>hearing(right)</th>\n",
       "      <th>...</th>\n",
       "      <th>hemoglobin</th>\n",
       "      <th>Urine protein</th>\n",
       "      <th>serum creatinine</th>\n",
       "      <th>AST</th>\n",
       "      <th>ALT</th>\n",
       "      <th>Gtp</th>\n",
       "      <th>oral</th>\n",
       "      <th>dental caries</th>\n",
       "      <th>tartar</th>\n",
       "      <th>smoking</th>\n",
       "    </tr>\n",
       "  </thead>\n",
       "  <tbody>\n",
       "    <tr>\n",
       "      <th>0</th>\n",
       "      <td>0</td>\n",
       "      <td>F</td>\n",
       "      <td>40</td>\n",
       "      <td>155</td>\n",
       "      <td>60</td>\n",
       "      <td>81.3</td>\n",
       "      <td>1.2</td>\n",
       "      <td>1.0</td>\n",
       "      <td>1.0</td>\n",
       "      <td>1.0</td>\n",
       "      <td>...</td>\n",
       "      <td>12.9</td>\n",
       "      <td>1.0</td>\n",
       "      <td>0.7</td>\n",
       "      <td>18.0</td>\n",
       "      <td>19.0</td>\n",
       "      <td>27.0</td>\n",
       "      <td>Y</td>\n",
       "      <td>0</td>\n",
       "      <td>Y</td>\n",
       "      <td>0</td>\n",
       "    </tr>\n",
       "    <tr>\n",
       "      <th>1</th>\n",
       "      <td>1</td>\n",
       "      <td>F</td>\n",
       "      <td>40</td>\n",
       "      <td>160</td>\n",
       "      <td>60</td>\n",
       "      <td>81.0</td>\n",
       "      <td>0.8</td>\n",
       "      <td>0.6</td>\n",
       "      <td>1.0</td>\n",
       "      <td>1.0</td>\n",
       "      <td>...</td>\n",
       "      <td>12.7</td>\n",
       "      <td>1.0</td>\n",
       "      <td>0.6</td>\n",
       "      <td>22.0</td>\n",
       "      <td>19.0</td>\n",
       "      <td>18.0</td>\n",
       "      <td>Y</td>\n",
       "      <td>0</td>\n",
       "      <td>Y</td>\n",
       "      <td>0</td>\n",
       "    </tr>\n",
       "    <tr>\n",
       "      <th>2</th>\n",
       "      <td>2</td>\n",
       "      <td>M</td>\n",
       "      <td>55</td>\n",
       "      <td>170</td>\n",
       "      <td>60</td>\n",
       "      <td>80.0</td>\n",
       "      <td>0.8</td>\n",
       "      <td>0.8</td>\n",
       "      <td>1.0</td>\n",
       "      <td>1.0</td>\n",
       "      <td>...</td>\n",
       "      <td>15.8</td>\n",
       "      <td>1.0</td>\n",
       "      <td>1.0</td>\n",
       "      <td>21.0</td>\n",
       "      <td>16.0</td>\n",
       "      <td>22.0</td>\n",
       "      <td>Y</td>\n",
       "      <td>0</td>\n",
       "      <td>N</td>\n",
       "      <td>1</td>\n",
       "    </tr>\n",
       "    <tr>\n",
       "      <th>3</th>\n",
       "      <td>3</td>\n",
       "      <td>M</td>\n",
       "      <td>40</td>\n",
       "      <td>165</td>\n",
       "      <td>70</td>\n",
       "      <td>88.0</td>\n",
       "      <td>1.5</td>\n",
       "      <td>1.5</td>\n",
       "      <td>1.0</td>\n",
       "      <td>1.0</td>\n",
       "      <td>...</td>\n",
       "      <td>14.7</td>\n",
       "      <td>1.0</td>\n",
       "      <td>1.0</td>\n",
       "      <td>19.0</td>\n",
       "      <td>26.0</td>\n",
       "      <td>18.0</td>\n",
       "      <td>Y</td>\n",
       "      <td>0</td>\n",
       "      <td>Y</td>\n",
       "      <td>0</td>\n",
       "    </tr>\n",
       "    <tr>\n",
       "      <th>4</th>\n",
       "      <td>4</td>\n",
       "      <td>F</td>\n",
       "      <td>40</td>\n",
       "      <td>155</td>\n",
       "      <td>60</td>\n",
       "      <td>86.0</td>\n",
       "      <td>1.0</td>\n",
       "      <td>1.0</td>\n",
       "      <td>1.0</td>\n",
       "      <td>1.0</td>\n",
       "      <td>...</td>\n",
       "      <td>12.5</td>\n",
       "      <td>1.0</td>\n",
       "      <td>0.6</td>\n",
       "      <td>16.0</td>\n",
       "      <td>14.0</td>\n",
       "      <td>22.0</td>\n",
       "      <td>Y</td>\n",
       "      <td>0</td>\n",
       "      <td>N</td>\n",
       "      <td>0</td>\n",
       "    </tr>\n",
       "  </tbody>\n",
       "</table>\n",
       "<p>5 rows × 27 columns</p>\n",
       "</div>"
      ],
      "text/plain": [
       "   ID gender  age  height(cm)  weight(kg)  waist(cm)  eyesight(left)  \\\n",
       "0   0      F   40         155          60       81.3             1.2   \n",
       "1   1      F   40         160          60       81.0             0.8   \n",
       "2   2      M   55         170          60       80.0             0.8   \n",
       "3   3      M   40         165          70       88.0             1.5   \n",
       "4   4      F   40         155          60       86.0             1.0   \n",
       "\n",
       "   eyesight(right)  hearing(left)  hearing(right)  ...  hemoglobin  \\\n",
       "0              1.0            1.0             1.0  ...        12.9   \n",
       "1              0.6            1.0             1.0  ...        12.7   \n",
       "2              0.8            1.0             1.0  ...        15.8   \n",
       "3              1.5            1.0             1.0  ...        14.7   \n",
       "4              1.0            1.0             1.0  ...        12.5   \n",
       "\n",
       "   Urine protein  serum creatinine   AST   ALT   Gtp  oral  dental caries  \\\n",
       "0            1.0               0.7  18.0  19.0  27.0     Y              0   \n",
       "1            1.0               0.6  22.0  19.0  18.0     Y              0   \n",
       "2            1.0               1.0  21.0  16.0  22.0     Y              0   \n",
       "3            1.0               1.0  19.0  26.0  18.0     Y              0   \n",
       "4            1.0               0.6  16.0  14.0  22.0     Y              0   \n",
       "\n",
       "   tartar  smoking  \n",
       "0       Y        0  \n",
       "1       Y        0  \n",
       "2       N        1  \n",
       "3       Y        0  \n",
       "4       N        0  \n",
       "\n",
       "[5 rows x 27 columns]"
      ]
     },
     "execution_count": 3,
     "metadata": {},
     "output_type": "execute_result"
    }
   ],
   "source": [
    "df.head()"
   ]
  },
  {
   "cell_type": "markdown",
   "id": "4bc99385",
   "metadata": {},
   "source": [
    "Zapoznanie się z krótkim opisem danych za pomocą funkcji *info()*. Funkcja ta ukazuje ogólne informacje o danych, takie jak liczba wierszy, typy danych oraz ewentualne brakujące wartości."
   ]
  },
  {
   "cell_type": "code",
   "execution_count": 4,
   "id": "b3aa50a7",
   "metadata": {},
   "outputs": [
    {
     "name": "stdout",
     "output_type": "stream",
     "text": [
      "<class 'pandas.core.frame.DataFrame'>\n",
      "RangeIndex: 55692 entries, 0 to 55691\n",
      "Data columns (total 27 columns):\n",
      " #   Column               Non-Null Count  Dtype  \n",
      "---  ------               --------------  -----  \n",
      " 0   ID                   55692 non-null  int64  \n",
      " 1   gender               55692 non-null  object \n",
      " 2   age                  55692 non-null  int64  \n",
      " 3   height(cm)           55692 non-null  int64  \n",
      " 4   weight(kg)           55692 non-null  int64  \n",
      " 5   waist(cm)            55692 non-null  float64\n",
      " 6   eyesight(left)       55692 non-null  float64\n",
      " 7   eyesight(right)      55692 non-null  float64\n",
      " 8   hearing(left)        55692 non-null  float64\n",
      " 9   hearing(right)       55692 non-null  float64\n",
      " 10  systolic             55692 non-null  float64\n",
      " 11  relaxation           55692 non-null  float64\n",
      " 12  fasting blood sugar  55692 non-null  float64\n",
      " 13  Cholesterol          55692 non-null  float64\n",
      " 14  triglyceride         55692 non-null  float64\n",
      " 15  HDL                  55692 non-null  float64\n",
      " 16  LDL                  55692 non-null  float64\n",
      " 17  hemoglobin           55692 non-null  float64\n",
      " 18  Urine protein        55692 non-null  float64\n",
      " 19  serum creatinine     55692 non-null  float64\n",
      " 20  AST                  55692 non-null  float64\n",
      " 21  ALT                  55692 non-null  float64\n",
      " 22  Gtp                  55692 non-null  float64\n",
      " 23  oral                 55692 non-null  object \n",
      " 24  dental caries        55692 non-null  int64  \n",
      " 25  tartar               55692 non-null  object \n",
      " 26  smoking              55692 non-null  int64  \n",
      "dtypes: float64(18), int64(6), object(3)\n",
      "memory usage: 11.5+ MB\n"
     ]
    }
   ],
   "source": [
    "df.info()"
   ]
  },
  {
   "cell_type": "markdown",
   "id": "931fb5e0",
   "metadata": {},
   "source": [
    "Zbiór składa się z 55 692 przykładów. Większość atrybutów ma wartości typu numerycznego (int64 i float64).\n",
    "\n",
    "Wyjątek stanowią trzy pola: gender - opisujące płeć badanego pacjenta, oral - opisujące stan jamy ustnej pacjenta, tartar - opisujące czy pacjent posiada kamień nazębny. Typem tych atrybutów jest object, czyli nadrzędna klasa dla wszystkich obiektów tekstowych stworzonych w Pythonie.\n",
    "\n",
    "Wartości tych trzech pól są powtarzalne, co oznacza, że stanowią one wartości kategorialne.\n",
    "\n",
    "Warto więc sprawdzić powtarzalność tych danych."
   ]
  },
  {
   "cell_type": "code",
   "execution_count": 5,
   "id": "5e272e8e",
   "metadata": {},
   "outputs": [
    {
     "data": {
      "text/plain": [
       "gender\n",
       "M    35401\n",
       "F    20291\n",
       "Name: count, dtype: int64"
      ]
     },
     "execution_count": 5,
     "metadata": {},
     "output_type": "execute_result"
    }
   ],
   "source": [
    "df[\"gender\"].value_counts()"
   ]
  },
  {
   "cell_type": "code",
   "execution_count": 6,
   "id": "8a177308",
   "metadata": {},
   "outputs": [
    {
     "data": {
      "text/plain": [
       "oral\n",
       "Y    55692\n",
       "Name: count, dtype: int64"
      ]
     },
     "execution_count": 6,
     "metadata": {},
     "output_type": "execute_result"
    }
   ],
   "source": [
    "df[\"oral\"].value_counts()"
   ]
  },
  {
   "cell_type": "code",
   "execution_count": 7,
   "id": "e08b2c39",
   "metadata": {},
   "outputs": [
    {
     "data": {
      "text/plain": [
       "tartar\n",
       "Y    30940\n",
       "N    24752\n",
       "Name: count, dtype: int64"
      ]
     },
     "execution_count": 7,
     "metadata": {},
     "output_type": "execute_result"
    }
   ],
   "source": [
    "df[\"tartar\"].value_counts()"
   ]
  },
  {
   "cell_type": "markdown",
   "id": "8e4da98f",
   "metadata": {},
   "source": [
    "Zauważyć można, że zarówno wartości atrybutu *gender*, jak i *tartar* są wartościami typu binarnego (zawierają tylko dwie kategorie). Natomiast wartość atrybutu *oral* posiada tylko jedną kategorię dla wszystkich wierszy, co prowadzi do wniosków, że można usunąć te kolumnę.\n",
    "\n",
    "Oba binarne atrybuty zostaną więc, za pomocą funkcji *replace()*, przekształcone na wartość binarną, gdzie\n",
    "- dla *gender*: 0-F, 1-M,\n",
    "- dla *tartar*: 0-N, 1-Y."
   ]
  },
  {
   "cell_type": "code",
   "execution_count": 8,
   "id": "39f49984",
   "metadata": {},
   "outputs": [],
   "source": [
    "df['gender'].replace({'M': 1, 'F': 0}, inplace=True)\n",
    "df['tartar'].replace({'Y': 1, 'N': 0}, inplace=True)"
   ]
  },
  {
   "cell_type": "markdown",
   "id": "d7bde46f",
   "metadata": {},
   "source": [
    "Po wykonaniu tej operacji, dla obu kolumn zostały utworzone nowe kolumny binarne. Każda z tych kolumn reprezentuje jedną z unikalnych wartości, a wiersze zawierają wartości 0 lub 1."
   ]
  },
  {
   "cell_type": "markdown",
   "id": "f5351641",
   "metadata": {},
   "source": [
    "## Analiza eksploracyjna"
   ]
  },
  {
   "cell_type": "markdown",
   "id": "351a0a98",
   "metadata": {},
   "source": [
    "Analiza wszystkich pól numerycznych metodą *describe()*, która daje możliwość podsumowania atrybutów numerycznych. Obejmuje ona średnie, odchylenia standardowe, minimum, maksimum zbioru i inne wartości opisujące dane."
   ]
  },
  {
   "cell_type": "code",
   "execution_count": 9,
   "id": "13761e05",
   "metadata": {},
   "outputs": [
    {
     "data": {
      "text/html": [
       "<div>\n",
       "<style scoped>\n",
       "    .dataframe tbody tr th:only-of-type {\n",
       "        vertical-align: middle;\n",
       "    }\n",
       "\n",
       "    .dataframe tbody tr th {\n",
       "        vertical-align: top;\n",
       "    }\n",
       "\n",
       "    .dataframe thead th {\n",
       "        text-align: right;\n",
       "    }\n",
       "</style>\n",
       "<table border=\"1\" class=\"dataframe\">\n",
       "  <thead>\n",
       "    <tr style=\"text-align: right;\">\n",
       "      <th></th>\n",
       "      <th>ID</th>\n",
       "      <th>gender</th>\n",
       "      <th>age</th>\n",
       "      <th>height(cm)</th>\n",
       "      <th>weight(kg)</th>\n",
       "      <th>waist(cm)</th>\n",
       "      <th>eyesight(left)</th>\n",
       "      <th>eyesight(right)</th>\n",
       "      <th>hearing(left)</th>\n",
       "      <th>hearing(right)</th>\n",
       "      <th>...</th>\n",
       "      <th>LDL</th>\n",
       "      <th>hemoglobin</th>\n",
       "      <th>Urine protein</th>\n",
       "      <th>serum creatinine</th>\n",
       "      <th>AST</th>\n",
       "      <th>ALT</th>\n",
       "      <th>Gtp</th>\n",
       "      <th>dental caries</th>\n",
       "      <th>tartar</th>\n",
       "      <th>smoking</th>\n",
       "    </tr>\n",
       "  </thead>\n",
       "  <tbody>\n",
       "    <tr>\n",
       "      <th>count</th>\n",
       "      <td>55692.000000</td>\n",
       "      <td>55692.000000</td>\n",
       "      <td>55692.000000</td>\n",
       "      <td>55692.000000</td>\n",
       "      <td>55692.000000</td>\n",
       "      <td>55692.000000</td>\n",
       "      <td>55692.000000</td>\n",
       "      <td>55692.000000</td>\n",
       "      <td>55692.000000</td>\n",
       "      <td>55692.000000</td>\n",
       "      <td>...</td>\n",
       "      <td>55692.000000</td>\n",
       "      <td>55692.000000</td>\n",
       "      <td>55692.000000</td>\n",
       "      <td>55692.000000</td>\n",
       "      <td>55692.000000</td>\n",
       "      <td>55692.000000</td>\n",
       "      <td>55692.000000</td>\n",
       "      <td>55692.000000</td>\n",
       "      <td>55692.000000</td>\n",
       "      <td>55692.000000</td>\n",
       "    </tr>\n",
       "    <tr>\n",
       "      <th>mean</th>\n",
       "      <td>27845.500000</td>\n",
       "      <td>0.635657</td>\n",
       "      <td>44.182917</td>\n",
       "      <td>164.649321</td>\n",
       "      <td>65.864936</td>\n",
       "      <td>82.046418</td>\n",
       "      <td>1.012623</td>\n",
       "      <td>1.007443</td>\n",
       "      <td>1.025587</td>\n",
       "      <td>1.026144</td>\n",
       "      <td>...</td>\n",
       "      <td>114.964501</td>\n",
       "      <td>14.622592</td>\n",
       "      <td>1.087212</td>\n",
       "      <td>0.885738</td>\n",
       "      <td>26.182935</td>\n",
       "      <td>27.036037</td>\n",
       "      <td>39.952201</td>\n",
       "      <td>0.213334</td>\n",
       "      <td>0.555556</td>\n",
       "      <td>0.367288</td>\n",
       "    </tr>\n",
       "    <tr>\n",
       "      <th>std</th>\n",
       "      <td>16077.039933</td>\n",
       "      <td>0.481250</td>\n",
       "      <td>12.071418</td>\n",
       "      <td>9.194597</td>\n",
       "      <td>12.820306</td>\n",
       "      <td>9.274223</td>\n",
       "      <td>0.486873</td>\n",
       "      <td>0.485964</td>\n",
       "      <td>0.157902</td>\n",
       "      <td>0.159564</td>\n",
       "      <td>...</td>\n",
       "      <td>40.926476</td>\n",
       "      <td>1.564498</td>\n",
       "      <td>0.404882</td>\n",
       "      <td>0.221524</td>\n",
       "      <td>19.355460</td>\n",
       "      <td>30.947853</td>\n",
       "      <td>50.290539</td>\n",
       "      <td>0.409665</td>\n",
       "      <td>0.496908</td>\n",
       "      <td>0.482070</td>\n",
       "    </tr>\n",
       "    <tr>\n",
       "      <th>min</th>\n",
       "      <td>0.000000</td>\n",
       "      <td>0.000000</td>\n",
       "      <td>20.000000</td>\n",
       "      <td>130.000000</td>\n",
       "      <td>30.000000</td>\n",
       "      <td>51.000000</td>\n",
       "      <td>0.100000</td>\n",
       "      <td>0.100000</td>\n",
       "      <td>1.000000</td>\n",
       "      <td>1.000000</td>\n",
       "      <td>...</td>\n",
       "      <td>1.000000</td>\n",
       "      <td>4.900000</td>\n",
       "      <td>1.000000</td>\n",
       "      <td>0.100000</td>\n",
       "      <td>6.000000</td>\n",
       "      <td>1.000000</td>\n",
       "      <td>1.000000</td>\n",
       "      <td>0.000000</td>\n",
       "      <td>0.000000</td>\n",
       "      <td>0.000000</td>\n",
       "    </tr>\n",
       "    <tr>\n",
       "      <th>25%</th>\n",
       "      <td>13922.750000</td>\n",
       "      <td>0.000000</td>\n",
       "      <td>40.000000</td>\n",
       "      <td>160.000000</td>\n",
       "      <td>55.000000</td>\n",
       "      <td>76.000000</td>\n",
       "      <td>0.800000</td>\n",
       "      <td>0.800000</td>\n",
       "      <td>1.000000</td>\n",
       "      <td>1.000000</td>\n",
       "      <td>...</td>\n",
       "      <td>92.000000</td>\n",
       "      <td>13.600000</td>\n",
       "      <td>1.000000</td>\n",
       "      <td>0.800000</td>\n",
       "      <td>19.000000</td>\n",
       "      <td>15.000000</td>\n",
       "      <td>17.000000</td>\n",
       "      <td>0.000000</td>\n",
       "      <td>0.000000</td>\n",
       "      <td>0.000000</td>\n",
       "    </tr>\n",
       "    <tr>\n",
       "      <th>50%</th>\n",
       "      <td>27845.500000</td>\n",
       "      <td>1.000000</td>\n",
       "      <td>40.000000</td>\n",
       "      <td>165.000000</td>\n",
       "      <td>65.000000</td>\n",
       "      <td>82.000000</td>\n",
       "      <td>1.000000</td>\n",
       "      <td>1.000000</td>\n",
       "      <td>1.000000</td>\n",
       "      <td>1.000000</td>\n",
       "      <td>...</td>\n",
       "      <td>113.000000</td>\n",
       "      <td>14.800000</td>\n",
       "      <td>1.000000</td>\n",
       "      <td>0.900000</td>\n",
       "      <td>23.000000</td>\n",
       "      <td>21.000000</td>\n",
       "      <td>25.000000</td>\n",
       "      <td>0.000000</td>\n",
       "      <td>1.000000</td>\n",
       "      <td>0.000000</td>\n",
       "    </tr>\n",
       "    <tr>\n",
       "      <th>75%</th>\n",
       "      <td>41768.250000</td>\n",
       "      <td>1.000000</td>\n",
       "      <td>55.000000</td>\n",
       "      <td>170.000000</td>\n",
       "      <td>75.000000</td>\n",
       "      <td>88.000000</td>\n",
       "      <td>1.200000</td>\n",
       "      <td>1.200000</td>\n",
       "      <td>1.000000</td>\n",
       "      <td>1.000000</td>\n",
       "      <td>...</td>\n",
       "      <td>136.000000</td>\n",
       "      <td>15.800000</td>\n",
       "      <td>1.000000</td>\n",
       "      <td>1.000000</td>\n",
       "      <td>28.000000</td>\n",
       "      <td>31.000000</td>\n",
       "      <td>43.000000</td>\n",
       "      <td>0.000000</td>\n",
       "      <td>1.000000</td>\n",
       "      <td>1.000000</td>\n",
       "    </tr>\n",
       "    <tr>\n",
       "      <th>max</th>\n",
       "      <td>55691.000000</td>\n",
       "      <td>1.000000</td>\n",
       "      <td>85.000000</td>\n",
       "      <td>190.000000</td>\n",
       "      <td>135.000000</td>\n",
       "      <td>129.000000</td>\n",
       "      <td>9.900000</td>\n",
       "      <td>9.900000</td>\n",
       "      <td>2.000000</td>\n",
       "      <td>2.000000</td>\n",
       "      <td>...</td>\n",
       "      <td>1860.000000</td>\n",
       "      <td>21.100000</td>\n",
       "      <td>6.000000</td>\n",
       "      <td>11.600000</td>\n",
       "      <td>1311.000000</td>\n",
       "      <td>2914.000000</td>\n",
       "      <td>999.000000</td>\n",
       "      <td>1.000000</td>\n",
       "      <td>1.000000</td>\n",
       "      <td>1.000000</td>\n",
       "    </tr>\n",
       "  </tbody>\n",
       "</table>\n",
       "<p>8 rows × 26 columns</p>\n",
       "</div>"
      ],
      "text/plain": [
       "                 ID        gender           age    height(cm)    weight(kg)  \\\n",
       "count  55692.000000  55692.000000  55692.000000  55692.000000  55692.000000   \n",
       "mean   27845.500000      0.635657     44.182917    164.649321     65.864936   \n",
       "std    16077.039933      0.481250     12.071418      9.194597     12.820306   \n",
       "min        0.000000      0.000000     20.000000    130.000000     30.000000   \n",
       "25%    13922.750000      0.000000     40.000000    160.000000     55.000000   \n",
       "50%    27845.500000      1.000000     40.000000    165.000000     65.000000   \n",
       "75%    41768.250000      1.000000     55.000000    170.000000     75.000000   \n",
       "max    55691.000000      1.000000     85.000000    190.000000    135.000000   \n",
       "\n",
       "          waist(cm)  eyesight(left)  eyesight(right)  hearing(left)  \\\n",
       "count  55692.000000    55692.000000     55692.000000   55692.000000   \n",
       "mean      82.046418        1.012623         1.007443       1.025587   \n",
       "std        9.274223        0.486873         0.485964       0.157902   \n",
       "min       51.000000        0.100000         0.100000       1.000000   \n",
       "25%       76.000000        0.800000         0.800000       1.000000   \n",
       "50%       82.000000        1.000000         1.000000       1.000000   \n",
       "75%       88.000000        1.200000         1.200000       1.000000   \n",
       "max      129.000000        9.900000         9.900000       2.000000   \n",
       "\n",
       "       hearing(right)  ...           LDL    hemoglobin  Urine protein  \\\n",
       "count    55692.000000  ...  55692.000000  55692.000000   55692.000000   \n",
       "mean         1.026144  ...    114.964501     14.622592       1.087212   \n",
       "std          0.159564  ...     40.926476      1.564498       0.404882   \n",
       "min          1.000000  ...      1.000000      4.900000       1.000000   \n",
       "25%          1.000000  ...     92.000000     13.600000       1.000000   \n",
       "50%          1.000000  ...    113.000000     14.800000       1.000000   \n",
       "75%          1.000000  ...    136.000000     15.800000       1.000000   \n",
       "max          2.000000  ...   1860.000000     21.100000       6.000000   \n",
       "\n",
       "       serum creatinine           AST           ALT           Gtp  \\\n",
       "count      55692.000000  55692.000000  55692.000000  55692.000000   \n",
       "mean           0.885738     26.182935     27.036037     39.952201   \n",
       "std            0.221524     19.355460     30.947853     50.290539   \n",
       "min            0.100000      6.000000      1.000000      1.000000   \n",
       "25%            0.800000     19.000000     15.000000     17.000000   \n",
       "50%            0.900000     23.000000     21.000000     25.000000   \n",
       "75%            1.000000     28.000000     31.000000     43.000000   \n",
       "max           11.600000   1311.000000   2914.000000    999.000000   \n",
       "\n",
       "       dental caries        tartar       smoking  \n",
       "count   55692.000000  55692.000000  55692.000000  \n",
       "mean        0.213334      0.555556      0.367288  \n",
       "std         0.409665      0.496908      0.482070  \n",
       "min         0.000000      0.000000      0.000000  \n",
       "25%         0.000000      0.000000      0.000000  \n",
       "50%         0.000000      1.000000      0.000000  \n",
       "75%         0.000000      1.000000      1.000000  \n",
       "max         1.000000      1.000000      1.000000  \n",
       "\n",
       "[8 rows x 26 columns]"
      ]
     },
     "execution_count": 9,
     "metadata": {},
     "output_type": "execute_result"
    }
   ],
   "source": [
    "df.describe()"
   ]
  },
  {
   "cell_type": "markdown",
   "id": "d285ce6d",
   "metadata": {},
   "source": [
    "Z wywołania funkcji *describe()* wynika, że dla każdej kolumny istnieją 55692 niepuste wartości, co oznacza, że w zbiorze nie ma wartości pustych dla żadnej kolumny.\n",
    "\n",
    "Na podstawie tych wartości można zauważyć, że odchylenia standardowe różnią się dla różnych cech, co sugeruje, że dane nie zostały ustandaryzowane. Średnie wartości różnią się również dla różnych cech, co oznacza, że dane nie zostały znormalizowane. Może być to spowodowane różnicami w jednostkach, w jakich wyrażane są dane oraz zakresach między różnymi kolumnami."
   ]
  },
  {
   "cell_type": "markdown",
   "id": "c4db0ce3",
   "metadata": {},
   "source": [
    "## Analiza etykiety"
   ]
  },
  {
   "cell_type": "markdown",
   "id": "b66f7bd9",
   "metadata": {},
   "source": [
    "Celem przewidywań jest kolumna *smoking*, przypisująca osobę o danych parametrach biologicznych do jednej z dwóch kategorii (pali albo nie pali).\n",
    "\n",
    "Pracując z problemem klasyfikacji, warto sprawdzić, jak reprezentowane są dane w kolumnie etykiety."
   ]
  },
  {
   "cell_type": "code",
   "execution_count": 10,
   "id": "8cac14fc",
   "metadata": {},
   "outputs": [
    {
     "data": {
      "image/png": "[encoded data removed]",
      "text/plain": [
       "<Figure size 600x400 with 1 Axes>"
      ]
     },
     "metadata": {},
     "output_type": "display_data"
    }
   ],
   "source": [
    "import matplotlib.pyplot as plt\n",
    "\n",
    "target_dis = df['smoking'].value_counts()\n",
    "plt.figure(figsize=(6, 4))\n",
    "target_dis.plot(kind='pie', labels=['Niepalący', 'Palący'], autopct='%1.1f%%', colors=['purple', 'orange'])\n",
    "plt.title('Rozkład klas')\n",
    "plt.ylabel('')\n",
    "\n",
    "plt.legend(loc='upper right')\n",
    "\n",
    "plt.show()"
   ]
  },
  {
   "cell_type": "markdown",
   "id": "88071517",
   "metadata": {},
   "source": [
    "Zauważyć można, że większość, bo aż 2/3 badanych pacjentów jest niepaląca. Kolumna ta jest niezrównoważona, ponieważ jedna klasa występuje znacznie częściej niż druga, co wpływa na wydajność modelu klasyfikacyjnego.\n",
    "\n",
    "Z racji 55k danych w zbiorze *smoking.csv* możemy sobie pozwolić zarówno na metodę oversamplingu, jak i metodę undersamplingu. W przypadku tego wzoru, z uwagi na jego niewielki rozmiar, może jednak okazać się podejście oversamplingu, czyli duplikowania wierszy klasy, której jest w zbiorze zdecydowanie mniej.\n",
    "\n",
    "Aby zrównoważyć obie te grupy użyta zostanie metoda $RandomOverSampler$ z biblioteki *imbalanced-learn*, która polega na losowym duplikowaniu próbek z klasy mniejszościowej."
   ]
  },
  {
   "cell_type": "code",
   "execution_count": 11,
   "id": "bd5e5597",
   "metadata": {},
   "outputs": [],
   "source": [
    "from imblearn.over_sampling import RandomOverSampler\n",
    "\n",
    "X = df.drop('smoking', axis=1)\n",
    "y = df['smoking']\n",
    "\n",
    "over_sampler = RandomOverSampler(random_state=42)\n",
    "X_res, y_res = over_sampler.fit_resample(X, y)"
   ]
  },
  {
   "cell_type": "markdown",
   "id": "1994458f",
   "metadata": {},
   "source": [
    "Poniższy kod pokazuje, jaki podział etykiet występuje przed oversamplingiem i po wykonaniu metody $RandomOverSampler$."
   ]
  },
  {
   "cell_type": "code",
   "execution_count": 13,
   "id": "2c6d7546",
   "metadata": {},
   "outputs": [
    {
     "name": "stdout",
     "output_type": "stream",
     "text": [
      "Liczba próbek przed oversamplingiem:\n",
      "smoking\n",
      "0    35237\n",
      "1    20455\n",
      "Name: count, dtype: int64\n",
      "\n",
      "Liczba próbek po oversamplingu:\n",
      "smoking\n",
      "0    35237\n",
      "1    35237\n",
      "Name: count, dtype: int64\n"
     ]
    }
   ],
   "source": [
    "print(\"Liczba próbek przed oversamplingiem:\")\n",
    "print(y.value_counts())\n",
    "\n",
    "print(\"\\nLiczba próbek po oversamplingu:\")\n",
    "print(pd.Series(y_res).value_counts())\n",
    "\n",
    "df_resampled = pd.concat([pd.DataFrame(X_res), pd.DataFrame(y_res, columns=['smoking'])], axis=1)"
   ]
  },
  {
   "cell_type": "markdown",
   "id": "8177fbe9",
   "metadata": {},
   "source": [
    "A tak w tej chwilii wartości kolumny etykiet rozkładają się na wykresie kołowym."
   ]
  },
  {
   "cell_type": "code",
   "execution_count": 15,
   "id": "dcd0f819",
   "metadata": {},
   "outputs": [
    {
     "data": {
      "image/png": "[encoded data removed]",
      "text/plain": [
       "<Figure size 600x400 with 1 Axes>"
      ]
     },
     "metadata": {},
     "output_type": "display_data"
    }
   ],
   "source": [
    "target_dis_resampled = df_resampled['smoking'].value_counts()\n",
    "plt.figure(figsize=(6, 4))\n",
    "target_dis_resampled.plot(kind='pie', labels=['Niepalący', 'Palący'], autopct='%1.1f%%', colors=['purple', 'orange'])\n",
    "plt.title('Rozkład klas')\n",
    "plt.ylabel('')\n",
    "\n",
    "plt.legend(loc='upper right')\n",
    "\n",
    "plt.show()"
   ]
  },
  {
   "cell_type": "markdown",
   "id": "578f2e19",
   "metadata": {},
   "source": [
    "Zbiór danych zostanie teraz podzielony na dwie części: cechy i etykiety. \n",
    "Cechy to kolumny, na podstawie których model będzie przypisywał obiekt (w tym przypadku badanego pacjenta) do jednej z dwóch kategorii. Należą  do nich wszystkie kolumny oprócz kolumn 'smoking', 'ID' (identyfikator to nieistotna cecha) oraz 'oral' atrybut, którego wartości przybierają jedynie jedną wartość (cecha, która nie daje żadnej istotnej informacji). \n",
    "Etykiety (inaczej targety) to wartości które chcemy przewidzieć. Targetem więc będzie kolumna 'smoking', czyli informacja o tym czy dany pacjent jest palący."
   ]
  },
  {
   "cell_type": "code",
   "execution_count": 16,
   "id": "134e9718",
   "metadata": {},
   "outputs": [],
   "source": [
    "data = df_resampled.drop(['smoking', 'ID', 'oral'], axis = 1)\n",
    "target = df_resampled['smoking']"
   ]
  },
  {
   "cell_type": "markdown",
   "id": "f33b1909",
   "metadata": {},
   "source": [
    "Z wcześniejszego wywołania funkcji *describe()* wynika, że dane numeryczne są nieustandaryzowane (standardowe odchylenia nie są równe 0). Możemy to zaobserwować poniżej."
   ]
  },
  {
   "cell_type": "code",
   "execution_count": 19,
   "id": "c211ebbb",
   "metadata": {},
   "outputs": [
    {
     "name": "stdout",
     "output_type": "stream",
     "text": [
      "Średnia\n",
      "gender                   0.703891\n",
      "age                     43.621406\n",
      "height(cm)             165.649034\n",
      "weight(kg)              66.931776\n",
      "waist(cm)               82.629215\n",
      "eyesight(left)           1.020481\n",
      "eyesight(right)          1.016012\n",
      "hearing(left)            1.024392\n",
      "hearing(right)           1.025187\n",
      "systolic               121.810682\n",
      "relaxation              76.323155\n",
      "fasting blood sugar     99.882680\n",
      "Cholesterol            196.712802\n",
      "triglyceride           131.705962\n",
      "HDL                     56.581917\n",
      "LDL                    114.497432\n",
      "hemoglobin              14.797178\n",
      "Urine protein            1.089210\n",
      "serum creatinine         0.898926\n",
      "AST                     26.534438\n",
      "ALT                     27.902333\n",
      "Gtp                     43.361410\n",
      "dental caries            0.225232\n",
      "tartar                   0.568806\n",
      "dtype: float64\n",
      "\n",
      "Standardowe odchylenie\n",
      "gender                  0.456543\n",
      "age                    11.987445\n",
      "height(cm)              8.955666\n",
      "weight(kg)             12.817178\n",
      "waist(cm)               9.227103\n",
      "eyesight(left)          0.483686\n",
      "eyesight(right)         0.482555\n",
      "hearing(left)           0.154264\n",
      "hearing(right)          0.156693\n",
      "systolic               13.597845\n",
      "relaxation              9.681197\n",
      "fasting blood sugar    21.692508\n",
      "Cholesterol            36.325697\n",
      "triglyceride           73.778310\n",
      "HDL                    14.743415\n",
      "LDL                    40.811215\n",
      "hemoglobin              1.522371\n",
      "Urine protein           0.412065\n",
      "serum creatinine        0.215462\n",
      "AST                    19.532766\n",
      "ALT                    30.294936\n",
      "Gtp                    54.207622\n",
      "dental caries           0.417738\n",
      "tartar                  0.495247\n",
      "dtype: float64\n"
     ]
    }
   ],
   "source": [
    "numeric_data = data.select_dtypes(include='number')\n",
    "\n",
    "print(\"Średnia\")\n",
    "print(numeric_data.mean(axis=0))\n",
    "print(\"\\nStandardowe odchylenie\")\n",
    "print(numeric_data.std(axis=0))"
   ]
  },
  {
   "cell_type": "markdown",
   "id": "aecf9731",
   "metadata": {},
   "source": [
    "Z powyższych danych możemy się przekonać, że dane numeryczne nie są ustandaryzowane. Za pomocą funkcji fit_transform z biblioteki sklearn.preprocessing standaryzujemy dane, aby uzyskać odchylenie standardowe równe 1."
   ]
  },
  {
   "cell_type": "code",
   "execution_count": 21,
   "id": "970af695",
   "metadata": {},
   "outputs": [
    {
     "name": "stdout",
     "output_type": "stream",
     "text": [
      "Średnia\n",
      "[ 6.45269675e-17  2.45202477e-16 -1.38410345e-15  4.61367818e-16\n",
      "  5.45252876e-16 -2.00840186e-16  2.16165341e-16 -3.86758512e-16\n",
      " -3.08317917e-16 -1.09695845e-16 -7.25928385e-16 -1.93580903e-17\n",
      "  2.44194243e-16 -5.48479224e-17  1.74222812e-16 -1.02436561e-16\n",
      "  1.96807251e-15  1.14132074e-16  5.00083998e-16 -1.20988064e-18\n",
      "  3.22634838e-18  4.19425289e-17  1.93580903e-17 -4.03293547e-17]\n",
      "Standardowe odchylenie\n",
      "[1. 1. 1. 1. 1. 1. 1. 1. 1. 1. 1. 1. 1. 1. 1. 1. 1. 1. 1. 1. 1. 1. 1. 1.]\n"
     ]
    }
   ],
   "source": [
    "from sklearn.preprocessing import StandardScaler\n",
    "scaler = StandardScaler()\n",
    "scaled_data = scaler.fit_transform(numeric_data)\n",
    "\n",
    "print(\"Średnia\")\n",
    "print(scaled_data.mean(axis=0))\n",
    "print(\"Standardowe odchylenie\")\n",
    "print(scaled_data.std(axis=0))"
   ]
  },
  {
   "cell_type": "markdown",
   "id": "8830df38",
   "metadata": {},
   "source": [
    "Po przeskalowaniu danych otrzymaliśmy ustandaryzowane dane numeryczne. Można to stwierdzić obserwując, że standardowe odchylenie we wszystkich przypadkach wynosi 1."
   ]
  },
  {
   "cell_type": "markdown",
   "id": "1ed2f6f6",
   "metadata": {},
   "source": [
    "# Podział danych"
   ]
  },
  {
   "cell_type": "markdown",
   "id": "cac593e1",
   "metadata": {},
   "source": [
    "Przygotowane i ustandaryzowane dane zostaną nastepnie podzielone na zbiór treningowy i zbiór testowy. Zbiór treningowy zawiera 80% danych całego zbioru, zbiór testowy 20%. Dzięki ustawieniu parametru random_state zapewnione jest, że dane, przy każdym uruchomieniu, będą podzielone na te same zbiory."
   ]
  },
  {
   "cell_type": "code",
   "execution_count": 22,
   "id": "74844ce3",
   "metadata": {},
   "outputs": [],
   "source": [
    "from sklearn.model_selection import train_test_split\n",
    "\n",
    "data_train, data_test, target_train, target_test = train_test_split(data, target, test_size=0.2, random_state=42)"
   ]
  }
 ],
 "metadata": {
  "kernelspec": {
   "display_name": "Python 3 (ipykernel)",
   "language": "python",
   "name": "python3"
  },
  "language_info": {
   "codemirror_mode": {
    "name": "ipython",
    "version": 3
   },
   "file_extension": ".py",
   "mimetype": "text/x-python",
   "name": "python",
   "nbconvert_exporter": "python",
   "pygments_lexer": "ipython3",
   "version": "3.11.5"
  }
 },
 "nbformat": 4,
 "nbformat_minor": 5
}
