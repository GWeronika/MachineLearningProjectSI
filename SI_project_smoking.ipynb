{
 "cells": [
  {
   "cell_type": "markdown",
   "id": "393c2fd4",
   "metadata": {},
   "source": [
    "# Rozpoznanie osób palących na podstawie ich wewnętrznego stanu biologicznego"
   ]
  },
  {
   "cell_type": "markdown",
   "id": "491e359e",
   "metadata": {},
   "source": [
    "Na podstawie zbioru: https://www.kaggle.com/datasets/kukuroo3/body-signal-of-smoking"
   ]
  },
  {
   "cell_type": "code",
   "execution_count": 1,
   "id": "530d2266",
   "metadata": {},
   "outputs": [],
   "source": [
    "import pandas as pd\n",
    "df = pd.read_csv('smoking.csv')"
   ]
  },
  {
   "cell_type": "markdown",
   "id": "fb868e2f",
   "metadata": {},
   "source": [
    "## Opis danych wejściowych"
   ]
  },
  {
   "cell_type": "markdown",
   "id": "df859680",
   "metadata": {},
   "source": [
    "Przedstawienie pierwszych pięciu wierszy zbioru danych za pomocą funkcji *head()*. Zbiór danych zawiera 27 atrybuty przedstawione poniżej."
   ]
  },
  {
   "cell_type": "code",
   "execution_count": 2,
   "id": "caf3aaef",
   "metadata": {},
   "outputs": [
    {
     "data": {
      "text/html": [
       "<div>\n",
       "<style scoped>\n",
       "    .dataframe tbody tr th:only-of-type {\n",
       "        vertical-align: middle;\n",
       "    }\n",
       "\n",
       "    .dataframe tbody tr th {\n",
       "        vertical-align: top;\n",
       "    }\n",
       "\n",
       "    .dataframe thead th {\n",
       "        text-align: right;\n",
       "    }\n",
       "</style>\n",
       "<table border=\"1\" class=\"dataframe\">\n",
       "  <thead>\n",
       "    <tr style=\"text-align: right;\">\n",
       "      <th></th>\n",
       "      <th>ID</th>\n",
       "      <th>gender</th>\n",
       "      <th>age</th>\n",
       "      <th>height(cm)</th>\n",
       "      <th>weight(kg)</th>\n",
       "      <th>waist(cm)</th>\n",
       "      <th>eyesight(left)</th>\n",
       "      <th>eyesight(right)</th>\n",
       "      <th>hearing(left)</th>\n",
       "      <th>hearing(right)</th>\n",
       "      <th>...</th>\n",
       "      <th>hemoglobin</th>\n",
       "      <th>Urine protein</th>\n",
       "      <th>serum creatinine</th>\n",
       "      <th>AST</th>\n",
       "      <th>ALT</th>\n",
       "      <th>Gtp</th>\n",
       "      <th>oral</th>\n",
       "      <th>dental caries</th>\n",
       "      <th>tartar</th>\n",
       "      <th>smoking</th>\n",
       "    </tr>\n",
       "  </thead>\n",
       "  <tbody>\n",
       "    <tr>\n",
       "      <th>0</th>\n",
       "      <td>0</td>\n",
       "      <td>F</td>\n",
       "      <td>40</td>\n",
       "      <td>155</td>\n",
       "      <td>60</td>\n",
       "      <td>81.3</td>\n",
       "      <td>1.2</td>\n",
       "      <td>1.0</td>\n",
       "      <td>1.0</td>\n",
       "      <td>1.0</td>\n",
       "      <td>...</td>\n",
       "      <td>12.9</td>\n",
       "      <td>1.0</td>\n",
       "      <td>0.7</td>\n",
       "      <td>18.0</td>\n",
       "      <td>19.0</td>\n",
       "      <td>27.0</td>\n",
       "      <td>Y</td>\n",
       "      <td>0</td>\n",
       "      <td>Y</td>\n",
       "      <td>0</td>\n",
       "    </tr>\n",
       "    <tr>\n",
       "      <th>1</th>\n",
       "      <td>1</td>\n",
       "      <td>F</td>\n",
       "      <td>40</td>\n",
       "      <td>160</td>\n",
       "      <td>60</td>\n",
       "      <td>81.0</td>\n",
       "      <td>0.8</td>\n",
       "      <td>0.6</td>\n",
       "      <td>1.0</td>\n",
       "      <td>1.0</td>\n",
       "      <td>...</td>\n",
       "      <td>12.7</td>\n",
       "      <td>1.0</td>\n",
       "      <td>0.6</td>\n",
       "      <td>22.0</td>\n",
       "      <td>19.0</td>\n",
       "      <td>18.0</td>\n",
       "      <td>Y</td>\n",
       "      <td>0</td>\n",
       "      <td>Y</td>\n",
       "      <td>0</td>\n",
       "    </tr>\n",
       "    <tr>\n",
       "      <th>2</th>\n",
       "      <td>2</td>\n",
       "      <td>M</td>\n",
       "      <td>55</td>\n",
       "      <td>170</td>\n",
       "      <td>60</td>\n",
       "      <td>80.0</td>\n",
       "      <td>0.8</td>\n",
       "      <td>0.8</td>\n",
       "      <td>1.0</td>\n",
       "      <td>1.0</td>\n",
       "      <td>...</td>\n",
       "      <td>15.8</td>\n",
       "      <td>1.0</td>\n",
       "      <td>1.0</td>\n",
       "      <td>21.0</td>\n",
       "      <td>16.0</td>\n",
       "      <td>22.0</td>\n",
       "      <td>Y</td>\n",
       "      <td>0</td>\n",
       "      <td>N</td>\n",
       "      <td>1</td>\n",
       "    </tr>\n",
       "    <tr>\n",
       "      <th>3</th>\n",
       "      <td>3</td>\n",
       "      <td>M</td>\n",
       "      <td>40</td>\n",
       "      <td>165</td>\n",
       "      <td>70</td>\n",
       "      <td>88.0</td>\n",
       "      <td>1.5</td>\n",
       "      <td>1.5</td>\n",
       "      <td>1.0</td>\n",
       "      <td>1.0</td>\n",
       "      <td>...</td>\n",
       "      <td>14.7</td>\n",
       "      <td>1.0</td>\n",
       "      <td>1.0</td>\n",
       "      <td>19.0</td>\n",
       "      <td>26.0</td>\n",
       "      <td>18.0</td>\n",
       "      <td>Y</td>\n",
       "      <td>0</td>\n",
       "      <td>Y</td>\n",
       "      <td>0</td>\n",
       "    </tr>\n",
       "    <tr>\n",
       "      <th>4</th>\n",
       "      <td>4</td>\n",
       "      <td>F</td>\n",
       "      <td>40</td>\n",
       "      <td>155</td>\n",
       "      <td>60</td>\n",
       "      <td>86.0</td>\n",
       "      <td>1.0</td>\n",
       "      <td>1.0</td>\n",
       "      <td>1.0</td>\n",
       "      <td>1.0</td>\n",
       "      <td>...</td>\n",
       "      <td>12.5</td>\n",
       "      <td>1.0</td>\n",
       "      <td>0.6</td>\n",
       "      <td>16.0</td>\n",
       "      <td>14.0</td>\n",
       "      <td>22.0</td>\n",
       "      <td>Y</td>\n",
       "      <td>0</td>\n",
       "      <td>N</td>\n",
       "      <td>0</td>\n",
       "    </tr>\n",
       "  </tbody>\n",
       "</table>\n",
       "<p>5 rows × 27 columns</p>\n",
       "</div>"
      ],
      "text/plain": [
       "   ID gender  age  height(cm)  weight(kg)  waist(cm)  eyesight(left)  \\\n",
       "0   0      F   40         155          60       81.3             1.2   \n",
       "1   1      F   40         160          60       81.0             0.8   \n",
       "2   2      M   55         170          60       80.0             0.8   \n",
       "3   3      M   40         165          70       88.0             1.5   \n",
       "4   4      F   40         155          60       86.0             1.0   \n",
       "\n",
       "   eyesight(right)  hearing(left)  hearing(right)  ...  hemoglobin  \\\n",
       "0              1.0            1.0             1.0  ...        12.9   \n",
       "1              0.6            1.0             1.0  ...        12.7   \n",
       "2              0.8            1.0             1.0  ...        15.8   \n",
       "3              1.5            1.0             1.0  ...        14.7   \n",
       "4              1.0            1.0             1.0  ...        12.5   \n",
       "\n",
       "   Urine protein  serum creatinine   AST   ALT   Gtp  oral  dental caries  \\\n",
       "0            1.0               0.7  18.0  19.0  27.0     Y              0   \n",
       "1            1.0               0.6  22.0  19.0  18.0     Y              0   \n",
       "2            1.0               1.0  21.0  16.0  22.0     Y              0   \n",
       "3            1.0               1.0  19.0  26.0  18.0     Y              0   \n",
       "4            1.0               0.6  16.0  14.0  22.0     Y              0   \n",
       "\n",
       "   tartar  smoking  \n",
       "0       Y        0  \n",
       "1       Y        0  \n",
       "2       N        1  \n",
       "3       Y        0  \n",
       "4       N        0  \n",
       "\n",
       "[5 rows x 27 columns]"
      ]
     },
     "execution_count": 2,
     "metadata": {},
     "output_type": "execute_result"
    }
   ],
   "source": [
    "df.head()"
   ]
  },
  {
   "cell_type": "markdown",
   "id": "4bc99385",
   "metadata": {},
   "source": [
    "Zapoznanie się z krótkim opisem danych za pomocą funkcji *info()*. Funkcja ta ukazuje ogólne informacje o danych, takie jak liczba wierszy, typy danych oraz ewentualne brakujące wartości."
   ]
  },
  {
   "cell_type": "code",
   "execution_count": 3,
   "id": "b3aa50a7",
   "metadata": {},
   "outputs": [
    {
     "name": "stdout",
     "output_type": "stream",
     "text": [
      "<class 'pandas.core.frame.DataFrame'>\n",
      "RangeIndex: 55692 entries, 0 to 55691\n",
      "Data columns (total 27 columns):\n",
      " #   Column               Non-Null Count  Dtype  \n",
      "---  ------               --------------  -----  \n",
      " 0   ID                   55692 non-null  int64  \n",
      " 1   gender               55692 non-null  object \n",
      " 2   age                  55692 non-null  int64  \n",
      " 3   height(cm)           55692 non-null  int64  \n",
      " 4   weight(kg)           55692 non-null  int64  \n",
      " 5   waist(cm)            55692 non-null  float64\n",
      " 6   eyesight(left)       55692 non-null  float64\n",
      " 7   eyesight(right)      55692 non-null  float64\n",
      " 8   hearing(left)        55692 non-null  float64\n",
      " 9   hearing(right)       55692 non-null  float64\n",
      " 10  systolic             55692 non-null  float64\n",
      " 11  relaxation           55692 non-null  float64\n",
      " 12  fasting blood sugar  55692 non-null  float64\n",
      " 13  Cholesterol          55692 non-null  float64\n",
      " 14  triglyceride         55692 non-null  float64\n",
      " 15  HDL                  55692 non-null  float64\n",
      " 16  LDL                  55692 non-null  float64\n",
      " 17  hemoglobin           55692 non-null  float64\n",
      " 18  Urine protein        55692 non-null  float64\n",
      " 19  serum creatinine     55692 non-null  float64\n",
      " 20  AST                  55692 non-null  float64\n",
      " 21  ALT                  55692 non-null  float64\n",
      " 22  Gtp                  55692 non-null  float64\n",
      " 23  oral                 55692 non-null  object \n",
      " 24  dental caries        55692 non-null  int64  \n",
      " 25  tartar               55692 non-null  object \n",
      " 26  smoking              55692 non-null  int64  \n",
      "dtypes: float64(18), int64(6), object(3)\n",
      "memory usage: 11.5+ MB\n"
     ]
    }
   ],
   "source": [
    "df.info()"
   ]
  },
  {
   "cell_type": "markdown",
   "id": "931fb5e0",
   "metadata": {},
   "source": [
    "Zbiór składa się z 55 692 przykładów. Większość atrybutów ma wartości typu numerycznego (int64 i float64).\n",
    "\n",
    "Wyjątek stanowią trzy pola: gender - opisujące płeć badanego pacjenta, oral - opisujące stan jamy ustnej pacjenta, tartar - opisujące czy pacjent posiada kamień nazębny. Typem tych atrybutów jest object, czyli nadrzędna klasa dla wszystkich obiektów tekstowych stworzonych w Pythonie.\n",
    "\n",
    "Wartości tych trzech pól są powtarzalne, co oznacza, że stanowią one wartości kategorialne.\n",
    "\n",
    "Warto więc sprawdzić powtarzalność tych danych."
   ]
  },
  {
   "cell_type": "code",
   "execution_count": 4,
   "id": "5e272e8e",
   "metadata": {},
   "outputs": [
    {
     "data": {
      "text/plain": [
       "gender\n",
       "M    35401\n",
       "F    20291\n",
       "Name: count, dtype: int64"
      ]
     },
     "execution_count": 4,
     "metadata": {},
     "output_type": "execute_result"
    }
   ],
   "source": [
    "df[\"gender\"].value_counts()"
   ]
  },
  {
   "cell_type": "code",
   "execution_count": 5,
   "id": "8a177308",
   "metadata": {},
   "outputs": [
    {
     "data": {
      "text/plain": [
       "oral\n",
       "Y    55692\n",
       "Name: count, dtype: int64"
      ]
     },
     "execution_count": 5,
     "metadata": {},
     "output_type": "execute_result"
    }
   ],
   "source": [
    "df[\"oral\"].value_counts()"
   ]
  },
  {
   "cell_type": "code",
   "execution_count": 6,
   "id": "e08b2c39",
   "metadata": {},
   "outputs": [
    {
     "data": {
      "text/plain": [
       "tartar\n",
       "Y    30940\n",
       "N    24752\n",
       "Name: count, dtype: int64"
      ]
     },
     "execution_count": 6,
     "metadata": {},
     "output_type": "execute_result"
    }
   ],
   "source": [
    "df[\"tartar\"].value_counts()"
   ]
  },
  {
   "cell_type": "markdown",
   "id": "8e4da98f",
   "metadata": {},
   "source": [
    "Zauważyć można, że zarówno wartości atrybutu *gender*, jak i *tartar* są wartościami typu binarnego (zawierają tylko dwie kategorie). Natomiast wartość atrybutu *oral* posiada tylko jedną kategorię dla wszystkich wierszy, co prowadzi do wniosków, że można usunąć te kolumnę.\n",
    "\n",
    "Oba binarne atrybuty zostaną więc, za pomocą techniki one-hot encoding, przekształcone na wartości binarne."
   ]
  },
  {
   "cell_type": "code",
   "execution_count": 7,
   "id": "39f49984",
   "metadata": {},
   "outputs": [],
   "source": [
    "from sklearn.preprocessing import OneHotEncoder\n",
    "\n",
    "encoder = OneHotEncoder(sparse_output=False, drop='first')\n",
    "encoded_data = encoder.fit_transform(df[['gender', 'oral', 'tartar']])\n",
    "\n",
    "encoded_df = pd.DataFrame(encoded_data, columns=encoder.get_feature_names_out(['gender', 'oral', 'tartar']))\n",
    "\n",
    "df.drop(['gender', 'oral', 'tartar'], axis=1, inplace=True)\n",
    "\n",
    "df = pd.concat([df.reset_index(drop=True), encoded_df], axis=1)"
   ]
  },
  {
   "cell_type": "markdown",
   "id": "d7bde46f",
   "metadata": {},
   "source": [
    "Po wykonaniu tej operacji, dla obu kolumn zostały utworzone nowe kolumny binarne. Każda z tych kolumn reprezentuje jedną z unikalnych wartości, a wiersze zawierają wartości 0 lub 1."
   ]
  },
  {
   "cell_type": "markdown",
   "id": "f5351641",
   "metadata": {},
   "source": [
    "## Analiza eksploracyjna"
   ]
  },
  {
   "cell_type": "markdown",
   "id": "351a0a98",
   "metadata": {},
   "source": [
    "Analiza wszystkich pól numerycznych metodą *describe()*, która daje możliwość podsumowania atrybutów numerycznych. Obejmuje ona średnie, odchylenia standardowe, minimum, maksimum zbioru i inne wartości opisujące dane."
   ]
  },
  {
   "cell_type": "code",
   "execution_count": 8,
   "id": "13761e05",
   "metadata": {},
   "outputs": [
    {
     "data": {
      "text/html": [
       "<div>\n",
       "<style scoped>\n",
       "    .dataframe tbody tr th:only-of-type {\n",
       "        vertical-align: middle;\n",
       "    }\n",
       "\n",
       "    .dataframe tbody tr th {\n",
       "        vertical-align: top;\n",
       "    }\n",
       "\n",
       "    .dataframe thead th {\n",
       "        text-align: right;\n",
       "    }\n",
       "</style>\n",
       "<table border=\"1\" class=\"dataframe\">\n",
       "  <thead>\n",
       "    <tr style=\"text-align: right;\">\n",
       "      <th></th>\n",
       "      <th>count</th>\n",
       "      <th>mean</th>\n",
       "      <th>std</th>\n",
       "      <th>min</th>\n",
       "      <th>25%</th>\n",
       "      <th>50%</th>\n",
       "      <th>75%</th>\n",
       "      <th>max</th>\n",
       "    </tr>\n",
       "  </thead>\n",
       "  <tbody>\n",
       "    <tr>\n",
       "      <th>ID</th>\n",
       "      <td>55692.0</td>\n",
       "      <td>27845.500000</td>\n",
       "      <td>16077.039933</td>\n",
       "      <td>0.0</td>\n",
       "      <td>13922.75</td>\n",
       "      <td>27845.5</td>\n",
       "      <td>41768.25</td>\n",
       "      <td>55691.0</td>\n",
       "    </tr>\n",
       "    <tr>\n",
       "      <th>age</th>\n",
       "      <td>55692.0</td>\n",
       "      <td>44.182917</td>\n",
       "      <td>12.071418</td>\n",
       "      <td>20.0</td>\n",
       "      <td>40.00</td>\n",
       "      <td>40.0</td>\n",
       "      <td>55.00</td>\n",
       "      <td>85.0</td>\n",
       "    </tr>\n",
       "    <tr>\n",
       "      <th>height(cm)</th>\n",
       "      <td>55692.0</td>\n",
       "      <td>164.649321</td>\n",
       "      <td>9.194597</td>\n",
       "      <td>130.0</td>\n",
       "      <td>160.00</td>\n",
       "      <td>165.0</td>\n",
       "      <td>170.00</td>\n",
       "      <td>190.0</td>\n",
       "    </tr>\n",
       "    <tr>\n",
       "      <th>weight(kg)</th>\n",
       "      <td>55692.0</td>\n",
       "      <td>65.864936</td>\n",
       "      <td>12.820306</td>\n",
       "      <td>30.0</td>\n",
       "      <td>55.00</td>\n",
       "      <td>65.0</td>\n",
       "      <td>75.00</td>\n",
       "      <td>135.0</td>\n",
       "    </tr>\n",
       "    <tr>\n",
       "      <th>waist(cm)</th>\n",
       "      <td>55692.0</td>\n",
       "      <td>82.046418</td>\n",
       "      <td>9.274223</td>\n",
       "      <td>51.0</td>\n",
       "      <td>76.00</td>\n",
       "      <td>82.0</td>\n",
       "      <td>88.00</td>\n",
       "      <td>129.0</td>\n",
       "    </tr>\n",
       "    <tr>\n",
       "      <th>eyesight(left)</th>\n",
       "      <td>55692.0</td>\n",
       "      <td>1.012623</td>\n",
       "      <td>0.486873</td>\n",
       "      <td>0.1</td>\n",
       "      <td>0.80</td>\n",
       "      <td>1.0</td>\n",
       "      <td>1.20</td>\n",
       "      <td>9.9</td>\n",
       "    </tr>\n",
       "    <tr>\n",
       "      <th>eyesight(right)</th>\n",
       "      <td>55692.0</td>\n",
       "      <td>1.007443</td>\n",
       "      <td>0.485964</td>\n",
       "      <td>0.1</td>\n",
       "      <td>0.80</td>\n",
       "      <td>1.0</td>\n",
       "      <td>1.20</td>\n",
       "      <td>9.9</td>\n",
       "    </tr>\n",
       "    <tr>\n",
       "      <th>hearing(left)</th>\n",
       "      <td>55692.0</td>\n",
       "      <td>1.025587</td>\n",
       "      <td>0.157902</td>\n",
       "      <td>1.0</td>\n",
       "      <td>1.00</td>\n",
       "      <td>1.0</td>\n",
       "      <td>1.00</td>\n",
       "      <td>2.0</td>\n",
       "    </tr>\n",
       "    <tr>\n",
       "      <th>hearing(right)</th>\n",
       "      <td>55692.0</td>\n",
       "      <td>1.026144</td>\n",
       "      <td>0.159564</td>\n",
       "      <td>1.0</td>\n",
       "      <td>1.00</td>\n",
       "      <td>1.0</td>\n",
       "      <td>1.00</td>\n",
       "      <td>2.0</td>\n",
       "    </tr>\n",
       "    <tr>\n",
       "      <th>systolic</th>\n",
       "      <td>55692.0</td>\n",
       "      <td>121.494218</td>\n",
       "      <td>13.675989</td>\n",
       "      <td>71.0</td>\n",
       "      <td>112.00</td>\n",
       "      <td>120.0</td>\n",
       "      <td>130.00</td>\n",
       "      <td>240.0</td>\n",
       "    </tr>\n",
       "    <tr>\n",
       "      <th>relaxation</th>\n",
       "      <td>55692.0</td>\n",
       "      <td>76.004830</td>\n",
       "      <td>9.679278</td>\n",
       "      <td>40.0</td>\n",
       "      <td>70.00</td>\n",
       "      <td>76.0</td>\n",
       "      <td>82.00</td>\n",
       "      <td>146.0</td>\n",
       "    </tr>\n",
       "    <tr>\n",
       "      <th>fasting blood sugar</th>\n",
       "      <td>55692.0</td>\n",
       "      <td>99.312325</td>\n",
       "      <td>20.795591</td>\n",
       "      <td>46.0</td>\n",
       "      <td>89.00</td>\n",
       "      <td>96.0</td>\n",
       "      <td>104.00</td>\n",
       "      <td>505.0</td>\n",
       "    </tr>\n",
       "    <tr>\n",
       "      <th>Cholesterol</th>\n",
       "      <td>55692.0</td>\n",
       "      <td>196.901422</td>\n",
       "      <td>36.297940</td>\n",
       "      <td>55.0</td>\n",
       "      <td>172.00</td>\n",
       "      <td>195.0</td>\n",
       "      <td>220.00</td>\n",
       "      <td>445.0</td>\n",
       "    </tr>\n",
       "    <tr>\n",
       "      <th>triglyceride</th>\n",
       "      <td>55692.0</td>\n",
       "      <td>126.665697</td>\n",
       "      <td>71.639817</td>\n",
       "      <td>8.0</td>\n",
       "      <td>74.00</td>\n",
       "      <td>108.0</td>\n",
       "      <td>160.00</td>\n",
       "      <td>999.0</td>\n",
       "    </tr>\n",
       "    <tr>\n",
       "      <th>HDL</th>\n",
       "      <td>55692.0</td>\n",
       "      <td>57.290347</td>\n",
       "      <td>14.738963</td>\n",
       "      <td>4.0</td>\n",
       "      <td>47.00</td>\n",
       "      <td>55.0</td>\n",
       "      <td>66.00</td>\n",
       "      <td>618.0</td>\n",
       "    </tr>\n",
       "    <tr>\n",
       "      <th>LDL</th>\n",
       "      <td>55692.0</td>\n",
       "      <td>114.964501</td>\n",
       "      <td>40.926476</td>\n",
       "      <td>1.0</td>\n",
       "      <td>92.00</td>\n",
       "      <td>113.0</td>\n",
       "      <td>136.00</td>\n",
       "      <td>1860.0</td>\n",
       "    </tr>\n",
       "    <tr>\n",
       "      <th>hemoglobin</th>\n",
       "      <td>55692.0</td>\n",
       "      <td>14.622592</td>\n",
       "      <td>1.564498</td>\n",
       "      <td>4.9</td>\n",
       "      <td>13.60</td>\n",
       "      <td>14.8</td>\n",
       "      <td>15.80</td>\n",
       "      <td>21.1</td>\n",
       "    </tr>\n",
       "    <tr>\n",
       "      <th>Urine protein</th>\n",
       "      <td>55692.0</td>\n",
       "      <td>1.087212</td>\n",
       "      <td>0.404882</td>\n",
       "      <td>1.0</td>\n",
       "      <td>1.00</td>\n",
       "      <td>1.0</td>\n",
       "      <td>1.00</td>\n",
       "      <td>6.0</td>\n",
       "    </tr>\n",
       "    <tr>\n",
       "      <th>serum creatinine</th>\n",
       "      <td>55692.0</td>\n",
       "      <td>0.885738</td>\n",
       "      <td>0.221524</td>\n",
       "      <td>0.1</td>\n",
       "      <td>0.80</td>\n",
       "      <td>0.9</td>\n",
       "      <td>1.00</td>\n",
       "      <td>11.6</td>\n",
       "    </tr>\n",
       "    <tr>\n",
       "      <th>AST</th>\n",
       "      <td>55692.0</td>\n",
       "      <td>26.182935</td>\n",
       "      <td>19.355460</td>\n",
       "      <td>6.0</td>\n",
       "      <td>19.00</td>\n",
       "      <td>23.0</td>\n",
       "      <td>28.00</td>\n",
       "      <td>1311.0</td>\n",
       "    </tr>\n",
       "    <tr>\n",
       "      <th>ALT</th>\n",
       "      <td>55692.0</td>\n",
       "      <td>27.036037</td>\n",
       "      <td>30.947853</td>\n",
       "      <td>1.0</td>\n",
       "      <td>15.00</td>\n",
       "      <td>21.0</td>\n",
       "      <td>31.00</td>\n",
       "      <td>2914.0</td>\n",
       "    </tr>\n",
       "    <tr>\n",
       "      <th>Gtp</th>\n",
       "      <td>55692.0</td>\n",
       "      <td>39.952201</td>\n",
       "      <td>50.290539</td>\n",
       "      <td>1.0</td>\n",
       "      <td>17.00</td>\n",
       "      <td>25.0</td>\n",
       "      <td>43.00</td>\n",
       "      <td>999.0</td>\n",
       "    </tr>\n",
       "    <tr>\n",
       "      <th>dental caries</th>\n",
       "      <td>55692.0</td>\n",
       "      <td>0.213334</td>\n",
       "      <td>0.409665</td>\n",
       "      <td>0.0</td>\n",
       "      <td>0.00</td>\n",
       "      <td>0.0</td>\n",
       "      <td>0.00</td>\n",
       "      <td>1.0</td>\n",
       "    </tr>\n",
       "    <tr>\n",
       "      <th>smoking</th>\n",
       "      <td>55692.0</td>\n",
       "      <td>0.367288</td>\n",
       "      <td>0.482070</td>\n",
       "      <td>0.0</td>\n",
       "      <td>0.00</td>\n",
       "      <td>0.0</td>\n",
       "      <td>1.00</td>\n",
       "      <td>1.0</td>\n",
       "    </tr>\n",
       "    <tr>\n",
       "      <th>gender_M</th>\n",
       "      <td>55692.0</td>\n",
       "      <td>0.635657</td>\n",
       "      <td>0.481250</td>\n",
       "      <td>0.0</td>\n",
       "      <td>0.00</td>\n",
       "      <td>1.0</td>\n",
       "      <td>1.00</td>\n",
       "      <td>1.0</td>\n",
       "    </tr>\n",
       "    <tr>\n",
       "      <th>tartar_Y</th>\n",
       "      <td>55692.0</td>\n",
       "      <td>0.555556</td>\n",
       "      <td>0.496908</td>\n",
       "      <td>0.0</td>\n",
       "      <td>0.00</td>\n",
       "      <td>1.0</td>\n",
       "      <td>1.00</td>\n",
       "      <td>1.0</td>\n",
       "    </tr>\n",
       "  </tbody>\n",
       "</table>\n",
       "</div>"
      ],
      "text/plain": [
       "                       count          mean           std    min       25%  \\\n",
       "ID                   55692.0  27845.500000  16077.039933    0.0  13922.75   \n",
       "age                  55692.0     44.182917     12.071418   20.0     40.00   \n",
       "height(cm)           55692.0    164.649321      9.194597  130.0    160.00   \n",
       "weight(kg)           55692.0     65.864936     12.820306   30.0     55.00   \n",
       "waist(cm)            55692.0     82.046418      9.274223   51.0     76.00   \n",
       "eyesight(left)       55692.0      1.012623      0.486873    0.1      0.80   \n",
       "eyesight(right)      55692.0      1.007443      0.485964    0.1      0.80   \n",
       "hearing(left)        55692.0      1.025587      0.157902    1.0      1.00   \n",
       "hearing(right)       55692.0      1.026144      0.159564    1.0      1.00   \n",
       "systolic             55692.0    121.494218     13.675989   71.0    112.00   \n",
       "relaxation           55692.0     76.004830      9.679278   40.0     70.00   \n",
       "fasting blood sugar  55692.0     99.312325     20.795591   46.0     89.00   \n",
       "Cholesterol          55692.0    196.901422     36.297940   55.0    172.00   \n",
       "triglyceride         55692.0    126.665697     71.639817    8.0     74.00   \n",
       "HDL                  55692.0     57.290347     14.738963    4.0     47.00   \n",
       "LDL                  55692.0    114.964501     40.926476    1.0     92.00   \n",
       "hemoglobin           55692.0     14.622592      1.564498    4.9     13.60   \n",
       "Urine protein        55692.0      1.087212      0.404882    1.0      1.00   \n",
       "serum creatinine     55692.0      0.885738      0.221524    0.1      0.80   \n",
       "AST                  55692.0     26.182935     19.355460    6.0     19.00   \n",
       "ALT                  55692.0     27.036037     30.947853    1.0     15.00   \n",
       "Gtp                  55692.0     39.952201     50.290539    1.0     17.00   \n",
       "dental caries        55692.0      0.213334      0.409665    0.0      0.00   \n",
       "smoking              55692.0      0.367288      0.482070    0.0      0.00   \n",
       "gender_M             55692.0      0.635657      0.481250    0.0      0.00   \n",
       "tartar_Y             55692.0      0.555556      0.496908    0.0      0.00   \n",
       "\n",
       "                         50%       75%      max  \n",
       "ID                   27845.5  41768.25  55691.0  \n",
       "age                     40.0     55.00     85.0  \n",
       "height(cm)             165.0    170.00    190.0  \n",
       "weight(kg)              65.0     75.00    135.0  \n",
       "waist(cm)               82.0     88.00    129.0  \n",
       "eyesight(left)           1.0      1.20      9.9  \n",
       "eyesight(right)          1.0      1.20      9.9  \n",
       "hearing(left)            1.0      1.00      2.0  \n",
       "hearing(right)           1.0      1.00      2.0  \n",
       "systolic               120.0    130.00    240.0  \n",
       "relaxation              76.0     82.00    146.0  \n",
       "fasting blood sugar     96.0    104.00    505.0  \n",
       "Cholesterol            195.0    220.00    445.0  \n",
       "triglyceride           108.0    160.00    999.0  \n",
       "HDL                     55.0     66.00    618.0  \n",
       "LDL                    113.0    136.00   1860.0  \n",
       "hemoglobin              14.8     15.80     21.1  \n",
       "Urine protein            1.0      1.00      6.0  \n",
       "serum creatinine         0.9      1.00     11.6  \n",
       "AST                     23.0     28.00   1311.0  \n",
       "ALT                     21.0     31.00   2914.0  \n",
       "Gtp                     25.0     43.00    999.0  \n",
       "dental caries            0.0      0.00      1.0  \n",
       "smoking                  0.0      1.00      1.0  \n",
       "gender_M                 1.0      1.00      1.0  \n",
       "tartar_Y                 1.0      1.00      1.0  "
      ]
     },
     "execution_count": 8,
     "metadata": {},
     "output_type": "execute_result"
    }
   ],
   "source": [
    "df.describe().T"
   ]
  },
  {
   "cell_type": "markdown",
   "id": "d285ce6d",
   "metadata": {},
   "source": [
    "Z wywołania funkcji *describe()* wynika, że dla każdej kolumny istnieją 55692 niepuste wartości, co oznacza, że w zbiorze nie ma wartości pustych dla żadnej kolumny.\n",
    "\n",
    "Na podstawie tych wartości można zauważyć, że odchylenia standardowe różnią się dla różnych cech, co sugeruje, że dane nie zostały ustandaryzowane. Średnie wartości różnią się również dla różnych cech, co oznacza, że dane nie zostały znormalizowane. Może być to spowodowane różnicami w jednostkach, w jakich wyrażane są dane oraz zakresach między różnymi kolumnami."
   ]
  },
  {
   "cell_type": "markdown",
   "id": "d32ba27f",
   "metadata": {},
   "source": [
    "Zauważyć można, że wiele kolumn posiada wartości, które przekraczają trzy odchylenia standardowe od średniej. Przykładowo, dla kolumny *age* w odległości 3 odchyleń standardowych od średniej znajduje się wartość 80. Wartość maksymalna w tej kolumnie wynosi 85. Osoba o podanym wieku okazuje się być outlierem. Trudne jest określenie czy osoba jest paląca, kiedy dochodzi ona do dojrzałego wieku, w którym wiele zaburzeń jest bardziej prawdopodobnych z racji wieku."
   ]
  },
  {
   "cell_type": "code",
   "execution_count": 9,
   "id": "77f91bd6",
   "metadata": {},
   "outputs": [
    {
     "name": "stdout",
     "output_type": "stream",
     "text": [
      "Liczba wierszy przed filtracją: 55692\n",
      "Liczba wierszy po filtracji: 54787\n"
     ]
    }
   ],
   "source": [
    "import numpy as np\n",
    "\n",
    "z_scores = np.abs((df['age'] - df['age'].mean()) / df['age'].std())\n",
    "df_filtered = df[z_scores <= 3]\n",
    "\n",
    "z_scores = np.abs((df['weight(kg)'] - df['weight(kg)'].mean()) / df['weight(kg)'].std())\n",
    "df_filtered = df[z_scores <= 3]\n",
    "\n",
    "z_scores = np.abs((df['height(cm)'] - df['height(cm)'].mean()) / df['height(cm)'].std())\n",
    "df_filtered = df[z_scores <= 3]\n",
    "\n",
    "z_scores = np.abs((df['waist(cm)'] - df['waist(cm)'].mean()) / df['waist(cm)'].std())\n",
    "df_filtered = df[z_scores <= 3]\n",
    "\n",
    "z_scores = np.abs((df['eyesight(left)'] - df['eyesight(left)'].mean()) / df['eyesight(left)'].std())\n",
    "df_filtered = df[z_scores <= 3]\n",
    "\n",
    "z_scores = np.abs((df['eyesight(right)'] - df['eyesight(right)'].mean()) / df['eyesight(right)'].std())\n",
    "df_filtered = df[z_scores <= 3]\n",
    "\n",
    "z_scores = np.abs((df['hearing(left)'] - df['hearing(left)'].mean()) / df['hearing(left)'].std())\n",
    "df_filtered = df[z_scores <= 3]\n",
    "\n",
    "z_scores = np.abs((df['hearing(right)'] - df['hearing(right)'].mean()) / df['hearing(right)'].std())\n",
    "df_filtered = df[z_scores <= 3]\n",
    "\n",
    "z_scores = np.abs((df['systolic'] - df['systolic'].mean()) / df['systolic'].std())\n",
    "df_filtered = df[z_scores <= 3]\n",
    "\n",
    "z_scores = np.abs((df['relaxation'] - df['relaxation'].mean()) / df['relaxation'].std())\n",
    "df_filtered = df[z_scores <= 3]\n",
    "\n",
    "z_scores = np.abs((df['fasting blood sugar'] - df['fasting blood sugar'].mean()) / df['fasting blood sugar'].std())\n",
    "df_filtered = df[z_scores <= 3]\n",
    "\n",
    "z_scores = np.abs((df['Cholesterol'] - df['Cholesterol'].mean()) / df['Cholesterol'].std())\n",
    "df_filtered = df[z_scores <= 3]\n",
    "\n",
    "z_scores = np.abs((df['triglyceride'] - df['triglyceride'].mean()) / df['triglyceride'].std())\n",
    "df_filtered = df[z_scores <= 3]\n",
    "\n",
    "z_scores = np.abs((df['HDL'] - df['HDL'].mean()) / df['HDL'].std())\n",
    "df_filtered = df[z_scores <= 3]\n",
    "\n",
    "z_scores = np.abs((df['LDL'] - df['LDL'].mean()) / df['LDL'].std())\n",
    "df_filtered = df[z_scores <= 3]\n",
    "\n",
    "z_scores = np.abs((df['hemoglobin'] - df['hemoglobin'].mean()) / df['hemoglobin'].std())\n",
    "df_filtered = df[z_scores <= 3]\n",
    "\n",
    "z_scores = np.abs((df['Urine protein'] - df['Urine protein'].mean()) / df['Urine protein'].std())\n",
    "df_filtered = df[z_scores <= 3]\n",
    "\n",
    "z_scores = np.abs((df['serum creatinine'] - df['serum creatinine'].mean()) / df['serum creatinine'].std())\n",
    "df_filtered = df[z_scores <= 3]\n",
    "\n",
    "z_scores = np.abs((df['AST'] - df['AST'].mean()) / df['AST'].std())\n",
    "df_filtered = df[z_scores <= 3]\n",
    "\n",
    "z_scores = np.abs((df['ALT'] - df['ALT'].mean()) / df['ALT'].std())\n",
    "df_filtered = df[z_scores <= 3]\n",
    "\n",
    "z_scores = np.abs((df['Gtp'] - df['Gtp'].mean()) / df['Gtp'].std())\n",
    "df_filtered = df[z_scores <= 3]\n",
    "\n",
    "\n",
    "print(\"Liczba wierszy przed filtracją:\", len(df))\n",
    "print(\"Liczba wierszy po filtracji:\", len(df_filtered))"
   ]
  },
  {
   "cell_type": "markdown",
   "id": "c4db0ce3",
   "metadata": {},
   "source": [
    "# Analiza etykiety"
   ]
  },
  {
   "cell_type": "markdown",
   "id": "b66f7bd9",
   "metadata": {},
   "source": [
    "Celem przewidywań jest kolumna *smoking*, przypisująca osobę o danych parametrach biologicznych do jednej z dwóch kategorii (pali albo nie pali).\n",
    "\n",
    "Pracując z problemem klasyfikacji, warto sprawdzić, jak reprezentowane są dane w kolumnie etykiety."
   ]
  },
  {
   "cell_type": "code",
   "execution_count": 10,
   "id": "8cac14fc",
   "metadata": {},
   "outputs": [
    {
     "data": {
      "image/png": "[encoded data removed]",
      "text/plain": [
       "<Figure size 600x400 with 1 Axes>"
      ]
     },
     "metadata": {},
     "output_type": "display_data"
    }
   ],
   "source": [
    "import matplotlib.pyplot as plt\n",
    "\n",
    "target_dis = df_filtered['smoking'].value_counts()\n",
    "plt.figure(figsize=(6, 4))\n",
    "target_dis.plot(kind='pie', labels=['Niepalący', 'Palący'], autopct='%1.1f%%', colors=['purple', 'orange'])\n",
    "plt.title('Rozkład klas')\n",
    "plt.ylabel('')\n",
    "\n",
    "plt.legend(loc='upper right')\n",
    "\n",
    "plt.show()"
   ]
  },
  {
   "cell_type": "markdown",
   "id": "88071517",
   "metadata": {},
   "source": [
    "Zauważyć można, że większość, bo prawie 2/3 badanych pacjentów jest niepaląca. Kolumna ta jest niezrównoważona, ponieważ jedna klasa występuje znacznie częściej niż druga, co wpływa na wydajność modelu klasyfikacyjnego.\n",
    "\n",
    "Z racji 55k danych w zbiorze *smoking.csv* możemy sobie pozwolić zarówno na metodę oversamplingu, jak i metodę undersamplingu. W przypadku tego wzoru, z uwagi na jego niewielki rozmiar, może jednak okazać się podejście oversamplingu, czyli duplikowania wierszy klasy, której jest w zbiorze zdecydowanie mniej."
   ]
  },
  {
   "cell_type": "markdown",
   "id": "78b47a93",
   "metadata": {},
   "source": [
    "## Oversampling"
   ]
  },
  {
   "cell_type": "markdown",
   "id": "d8658556",
   "metadata": {},
   "source": [
    "Oversampling to technika mająca na celu zduplikowanie losowych wierszy klasy mniejszościowej. W wyniku oversamplingu liczba danych w zbiorze zwiększa się.\n",
    "\n",
    "Aby zrównoważyć obie te grupy użyta zostanie metoda $RandomOverSampler$ z biblioteki *imbalanced-learn*, która polega na losowym duplikowaniu próbek z klasy mniejszościowej."
   ]
  },
  {
   "cell_type": "code",
   "execution_count": 11,
   "id": "bd5e5597",
   "metadata": {},
   "outputs": [],
   "source": [
    "from imblearn.over_sampling import RandomOverSampler\n",
    "\n",
    "X = df_filtered.drop('smoking', axis=1)\n",
    "y = df_filtered['smoking'].values.reshape(-1, 1)\n",
    "\n",
    "over_sampler = RandomOverSampler(random_state=42)\n",
    "X_res, y_res = over_sampler.fit_resample(X, y)"
   ]
  },
  {
   "cell_type": "markdown",
   "id": "1994458f",
   "metadata": {},
   "source": [
    "Poniższy kod pokazuje, jaki podział etykiet występuje przed oversamplingiem i po wykonaniu metody $RandomOverSampler$."
   ]
  },
  {
   "cell_type": "code",
   "execution_count": 12,
   "id": "2c6d7546",
   "metadata": {},
   "outputs": [
    {
     "name": "stdout",
     "output_type": "stream",
     "text": [
      "Liczba próbek przed oversamplingiem:\n",
      "0    34958\n",
      "1    19829\n",
      "Name: count, dtype: int64\n",
      "\n",
      "Liczba próbek po oversamplingu:\n",
      "0    34958\n",
      "1    34958\n",
      "Name: count, dtype: int64\n"
     ]
    }
   ],
   "source": [
    "y_series = pd.Series(y.flatten())\n",
    "y_res_series = pd.Series(y_res.flatten())\n",
    "\n",
    "print(\"Liczba próbek przed oversamplingiem:\")\n",
    "print(y_series.value_counts())   \n",
    "\n",
    "print(\"\\nLiczba próbek po oversamplingu:\")\n",
    "print(y_res_series.value_counts())\n",
    "\n",
    "df_resampled = pd.concat([pd.DataFrame(X_res), pd.DataFrame(y_res, columns=['smoking'])], axis=1)"
   ]
  },
  {
   "cell_type": "markdown",
   "id": "8177fbe9",
   "metadata": {},
   "source": [
    "A tak w tej chwilii wartości kolumny etykiet rozkładają się na wykresie kołowym."
   ]
  },
  {
   "cell_type": "code",
   "execution_count": 13,
   "id": "dcd0f819",
   "metadata": {},
   "outputs": [
    {
     "data": {
      "image/png": "[encoded data removed]",
      "text/plain": [
       "<Figure size 600x400 with 1 Axes>"
      ]
     },
     "metadata": {},
     "output_type": "display_data"
    }
   ],
   "source": [
    "target_dis_resampled = df_resampled['smoking'].value_counts()\n",
    "plt.figure(figsize=(6, 4))\n",
    "target_dis_resampled.plot(kind='pie', labels=['Niepalący', 'Palący'], autopct='%1.1f%%', colors=['purple', 'orange'])\n",
    "plt.title('Rozkład klas')\n",
    "plt.ylabel('')\n",
    "\n",
    "plt.legend(loc='upper right')\n",
    "\n",
    "plt.show()"
   ]
  },
  {
   "cell_type": "markdown",
   "id": "578f2e19",
   "metadata": {},
   "source": [
    "Zbiór danych zostanie teraz podzielony na dwie części: cechy i etykiety. \n",
    "Cechy to kolumny, na podstawie których model będzie przypisywał obiekt (w tym przypadku badanego pacjenta) do jednej z dwóch kategorii. Należą  do nich wszystkie kolumny oprócz kolumn 'smoking', 'ID' (identyfikator to nieistotna cecha) oraz 'oral' atrybut, którego wartości przybierają jedynie jedną wartość (cecha, która nie daje żadnej istotnej informacji). \n",
    "Etykiety (inaczej targety) to wartości które chcemy przewidzieć. Targetem więc będzie kolumna 'smoking', czyli informacja o tym czy dany pacjent jest palący."
   ]
  },
  {
   "cell_type": "code",
   "execution_count": 14,
   "id": "134e9718",
   "metadata": {},
   "outputs": [],
   "source": [
    "data = df_resampled.drop(['smoking', 'ID'], axis = 1)\n",
    "target = df_resampled['smoking']"
   ]
  },
  {
   "cell_type": "markdown",
   "id": "f33b1909",
   "metadata": {},
   "source": [
    "Z wcześniejszego wywołania funkcji *describe()* wynika, że dane numeryczne są nieustandaryzowane (standardowe odchylenia nie są równe 0). Możemy to zaobserwować poniżej."
   ]
  },
  {
   "cell_type": "code",
   "execution_count": 15,
   "id": "c211ebbb",
   "metadata": {},
   "outputs": [
    {
     "name": "stdout",
     "output_type": "stream",
     "text": [
      "Średnia\n",
      "age                     43.557269\n",
      "height(cm)             165.685608\n",
      "weight(kg)              66.957349\n",
      "waist(cm)               82.580550\n",
      "eyesight(left)           1.021745\n",
      "eyesight(right)          1.017927\n",
      "hearing(left)            1.024158\n",
      "hearing(right)           1.024973\n",
      "systolic               121.648492\n",
      "relaxation              76.204789\n",
      "fasting blood sugar     99.588449\n",
      "Cholesterol            196.389811\n",
      "triglyceride           130.361648\n",
      "HDL                     56.426927\n",
      "LDL                    114.639110\n",
      "hemoglobin              14.789884\n",
      "Urine protein            1.086361\n",
      "serum creatinine         0.899256\n",
      "AST                     25.768165\n",
      "ALT                     27.001244\n",
      "Gtp                     37.824604\n",
      "dental caries            0.225671\n",
      "gender_M                 0.701456\n",
      "tartar_Y                 0.569455\n",
      "dtype: float64\n",
      "\n",
      "Standardowe odchylenie\n",
      "age                    11.993539\n",
      "height(cm)              8.983174\n",
      "weight(kg)             12.829474\n",
      "waist(cm)               9.208066\n",
      "eyesight(left)          0.480685\n",
      "eyesight(right)         0.488782\n",
      "hearing(left)           0.153539\n",
      "hearing(right)          0.156043\n",
      "systolic               13.459155\n",
      "relaxation              9.592723\n",
      "fasting blood sugar    21.261265\n",
      "Cholesterol            36.119814\n",
      "triglyceride           72.746820\n",
      "HDL                    14.668761\n",
      "LDL                    41.711398\n",
      "hemoglobin              1.519746\n",
      "Urine protein           0.404943\n",
      "serum creatinine        0.210067\n",
      "AST                    14.942324\n",
      "ALT                    26.494075\n",
      "Gtp                    30.456569\n",
      "dental caries           0.418026\n",
      "gender_M                0.457623\n",
      "tartar_Y                0.495156\n",
      "dtype: float64\n"
     ]
    }
   ],
   "source": [
    "numeric_data = data.select_dtypes(include='number')\n",
    "\n",
    "print(\"Średnia\")\n",
    "print(numeric_data.mean(axis=0))\n",
    "print(\"\\nStandardowe odchylenie\")\n",
    "print(numeric_data.std(axis=0))"
   ]
  },
  {
   "cell_type": "markdown",
   "id": "aecf9731",
   "metadata": {},
   "source": [
    "Z powyższych danych możemy się przekonać, że dane numeryczne nie są ustandaryzowane. Za pomocą funkcji fit_transform z biblioteki sklearn.preprocessing standaryzujemy dane, aby uzyskać odchylenie standardowe równe 1."
   ]
  },
  {
   "cell_type": "code",
   "execution_count": 16,
   "id": "970af695",
   "metadata": {},
   "outputs": [
    {
     "name": "stdout",
     "output_type": "stream",
     "text": [
      "Średnia\n",
      "[ 2.08134264e-16 -3.57730767e-17 -3.77243354e-16  6.50419576e-16\n",
      "  4.79684437e-17  6.50419576e-17  2.41265012e-16 -6.65460529e-16\n",
      " -3.91877795e-16 -5.34970101e-16  9.59368875e-17  6.99201044e-17\n",
      " -1.85369579e-16  4.06512235e-17 -7.15461534e-17 -1.95125873e-16\n",
      " -2.04678910e-16 -1.02441083e-15  1.09758303e-16 -2.92688809e-17\n",
      " -9.75629364e-17 -6.50419576e-17  6.50419576e-17 -4.06512235e-17]\n",
      "Standardowe odchylenie\n",
      "[1. 1. 1. 1. 1. 1. 1. 1. 1. 1. 1. 1. 1. 1. 1. 1. 1. 1. 1. 1. 1. 1. 1. 1.]\n"
     ]
    }
   ],
   "source": [
    "from sklearn.preprocessing import StandardScaler\n",
    "scaler = StandardScaler()\n",
    "scaled_data = scaler.fit_transform(numeric_data)\n",
    "\n",
    "print(\"Średnia\")\n",
    "print(scaled_data.mean(axis=0))\n",
    "print(\"Standardowe odchylenie\")\n",
    "print(scaled_data.std(axis=0))"
   ]
  },
  {
   "cell_type": "markdown",
   "id": "8830df38",
   "metadata": {},
   "source": [
    "Po przeskalowaniu danych otrzymaliśmy ustandaryzowane dane numeryczne. Można to stwierdzić obserwując, że standardowe odchylenie we wszystkich przypadkach wynosi 1."
   ]
  },
  {
   "cell_type": "markdown",
   "id": "1ed2f6f6",
   "metadata": {},
   "source": [
    "## Podział danych"
   ]
  },
  {
   "cell_type": "markdown",
   "id": "cac593e1",
   "metadata": {},
   "source": [
    "Przygotowane i ustandaryzowane dane zostaną nastepnie podzielone na zbiór treningowy i zbiór testowy. Zbiór treningowy zawiera 80% danych całego zbioru, zbiór testowy 20%. Dzięki ustawieniu parametru random_state zapewnione jest, że dane, przy każdym uruchomieniu, będą podzielone na te same zbiory."
   ]
  },
  {
   "cell_type": "code",
   "execution_count": 17,
   "id": "fe9125dd",
   "metadata": {},
   "outputs": [],
   "source": [
    "import torch\n",
    "\n",
    "torch.manual_seed(42)\n",
    "np.random.seed(42)"
   ]
  },
  {
   "cell_type": "code",
   "execution_count": 18,
   "id": "74844ce3",
   "metadata": {},
   "outputs": [],
   "source": [
    "from sklearn.model_selection import train_test_split\n",
    "\n",
    "X_train, X_test, y_train, y_test = train_test_split(scaled_data, target, test_size=0.2, random_state=42)"
   ]
  },
  {
   "cell_type": "markdown",
   "id": "b12651a9",
   "metadata": {},
   "source": [
    "Kod zostanie następnie przygotowany do trenowania modelu przy użyciu PyTorch. Dane/etykiety treningowe i testowe przekształcone zostaną na tensor za pomocą *torch.tensor()*"
   ]
  },
  {
   "cell_type": "code",
   "execution_count": 19,
   "id": "06ed2ff4",
   "metadata": {},
   "outputs": [],
   "source": [
    "import torch.nn as nn\n",
    "import torch.optim as optim\n",
    "\n",
    "x_train = torch.tensor(X_train, dtype=torch.float32)\n",
    "y_train = torch.tensor(y_train.values, dtype=torch.float32)\n",
    "\n",
    "x_test = torch.tensor(X_test, dtype=torch.float32)\n",
    "y_test = torch.tensor(y_test.values, dtype=torch.float32)"
   ]
  },
  {
   "cell_type": "markdown",
   "id": "647c1983",
   "metadata": {},
   "source": [
    "Dane treningowe i testowe połączone zostaną następnie w pary wejście-wyjście za pomocą klasy *TensorData*, przez co ułatwione będzie użycie ich w modelu.\n",
    "\n",
    "Klasa *DataLoader* zostanie użyta w celu utworzenia iteratorów, które umożliwią podział danych na części o równym rozmiarze i dostarczenie tych części do modelu."
   ]
  },
  {
   "cell_type": "markdown",
   "id": "7d4a4253",
   "metadata": {},
   "source": [
    "## Trenowanie modelu"
   ]
  },
  {
   "cell_type": "code",
   "execution_count": 20,
   "id": "935c8da3",
   "metadata": {},
   "outputs": [],
   "source": [
    "from torch.utils.data import DataLoader, TensorDataset\n",
    "\n",
    "train_dataset = TensorDataset(x_train, y_train)\n",
    "train_dataloader = DataLoader(train_dataset, batch_size=50, shuffle=False)\n",
    "\n",
    "test_dataset = TensorDataset(x_test, y_test)\n",
    "test_dataloader = DataLoader(test_dataset, batch_size=50, shuffle=False)"
   ]
  },
  {
   "cell_type": "markdown",
   "id": "41fc1d58",
   "metadata": {},
   "source": [
    "Po przygotowaniu danych możliwe jest utworzenie modelu sieci neuronowej. Sieć składa się z dwóch warstw liniowych:\n",
    "* pierwsza przyjmuje 24 argumenty na wejście, po to aby przekształcić je w 10 wyjść\n",
    "* druga posiada 10 wejść (z wyjścia poprzedniej warstwy), które przekształcone będą w 1 wyjście\n",
    "W pierwszej warstwie liniowej funkcją aktywacji jest funkcja ReLU, która przekształca wartości liniowe na nieliniowe poprzez zastosowanie funkcji max(0, x), co przydatne okazuje się w uczeniu nieliniowych relacji w danych.\n",
    "\n",
    "Druga warstwa liniowa stosuje funkcję sigmoidalną, która przekształca wartość wyjściową na wartość z przedziału (0, 1).\n",
    "\n",
    "Po przejściu przez model na wyjściu powinniśmy otrzymać prawdopodobnieństwo przynależności danej próbki do jednej z dwóch klas."
   ]
  },
  {
   "cell_type": "code",
   "execution_count": 21,
   "id": "e45504d0",
   "metadata": {},
   "outputs": [],
   "source": [
    "model = nn.Sequential(\n",
    "    nn.Linear(24, 10),\n",
    "    nn.ReLU(),\n",
    "    nn.Linear(10, 1),\n",
    "    nn.Sigmoid()\n",
    ")"
   ]
  },
  {
   "cell_type": "markdown",
   "id": "117647b2",
   "metadata": {},
   "source": [
    "Aby możliwa była ocena modelu, skorzystamy z cross-entropii (Binary Cross Entropy Loss). Funkcja *BCELoss()* oblicza stratę między przewidywanymi a rzeczywistymi etykietami.\n",
    "\n",
    "Trenowanie modelu odbywać się będzie na zasadzie aktualizacji wag w celu minimalizacji funkcji straty. Takie działanie zapewnia algorytm Adam, który, za pomocą wstecznej propagacji błędu, oblicza gradienty funkcji straty względem wszystkich wag modelu i na tej podstawie ustanawia nowe wagi."
   ]
  },
  {
   "cell_type": "code",
   "execution_count": 22,
   "id": "22252dde",
   "metadata": {},
   "outputs": [],
   "source": [
    "criterion = nn.BCELoss()\n",
    "optimizer = optim.Adam(model.parameters(), lr=0.001)"
   ]
  },
  {
   "cell_type": "markdown",
   "id": "d66e7056",
   "metadata": {},
   "source": [
    "W trakcie treningu modelu sieci neuronowej, przeprowadzonych zostanie 10 epok. Każda epoka oznacza, przejście przez cały zbiór treningowy, dzięki czemu model uczył się będzie na całym zestawie danych. \n",
    "\n",
    "Każda minigrupa jest przekazywana do modelu, a następnie obliczona jest wartość funkcji straty między wartościami rzeczywistymi i przewidywanymi. Wykonywana jest także wsteczna propagacja, która służy obliczeniu gradientów funkcji straty."
   ]
  },
  {
   "cell_type": "code",
   "execution_count": 23,
   "id": "1f1bf4c6",
   "metadata": {},
   "outputs": [
    {
     "name": "stdout",
     "output_type": "stream",
     "text": [
      "Epoka: 1/10, Błąd (trening): 0.5114\n",
      "Epoka: 2/10, Błąd (trening): 0.4815\n",
      "Epoka: 3/10, Błąd (trening): 0.4764\n",
      "Epoka: 4/10, Błąd (trening): 0.4736\n",
      "Epoka: 5/10, Błąd (trening): 0.4718\n",
      "Epoka: 6/10, Błąd (trening): 0.4707\n",
      "Epoka: 7/10, Błąd (trening): 0.4699\n",
      "Epoka: 8/10, Błąd (trening): 0.4694\n",
      "Epoka: 9/10, Błąd (trening): 0.4689\n",
      "Epoka: 10/10, Błąd (trening): 0.4686\n"
     ]
    }
   ],
   "source": [
    "import matplotlib.pyplot as plt\n",
    "epochs = 10\n",
    "train_losses = []\n",
    "\n",
    "for epoch in range(epochs):\n",
    "    model.train()\n",
    "    train_loss = 0.0\n",
    "    for inputs, labels in train_dataloader:\n",
    "        optimizer.zero_grad()\n",
    "        outputs = model(inputs)\n",
    "        loss = criterion(outputs, labels.view(-1, 1))\n",
    "        loss.backward()\n",
    "        optimizer.step()\n",
    "        train_loss +=    loss.item() * inputs.size(0)\n",
    "    \n",
    "    train_loss /= len(train_dataloader.dataset)\n",
    "    train_losses.append(train_loss)\n",
    "    print(f'Epoka: {epoch+1}/{epochs}, Błąd (trening): {train_loss:.4f}')"
   ]
  },
  {
   "cell_type": "markdown",
   "id": "2daa1293",
   "metadata": {},
   "source": [
    "Podczas trenowania modelu za pomocą 10 epok, średnia strata treningowa stopniowo maleje z każdą kolejną epoką. Początkowa wartość straty wynosiła około 0.5, a po 10 epokach spadła do około 0.46. Malejąca wartość straty oznacza, że model staje się coraz bardziej skuteczny w przewidywaniu etykiet na podstawie danych treningowych."
   ]
  },
  {
   "cell_type": "code",
   "execution_count": 24,
   "id": "1cefe556",
   "metadata": {},
   "outputs": [
    {
     "data": {
      "image/png": "[encoded data removed]",
      "text/plain": [
       "<Figure size 640x480 with 1 Axes>"
      ]
     },
     "metadata": {},
     "output_type": "display_data"
    }
   ],
   "source": [
    "plt.plot(range(1, epochs+1), train_losses, label='Błąd treningowy')\n",
    "plt.xlabel('Epoki')\n",
    "plt.ylabel('Błąd')\n",
    "plt.title('Wykres uczenia się (oversampling)')\n",
    "plt.legend()\n",
    "plt.show()"
   ]
  },
  {
   "cell_type": "markdown",
   "id": "d1ffc2ae",
   "metadata": {},
   "source": [
    "W celu oceny wydajności modelu, przejdziemy przez minigrupy składające się z danych i etykiet treningowych. Dla każdej minigrupy przekazane zostaną dane do modelu w celu uzyskania predykcji, a następnie obliczona zostanie funkcja straty.\n",
    "\n",
    "Na podstawie uzyskanej pod koniec wykonywania się pętli funkcji straty, możliwe będzie określenie stopnia zdolności modelu do radzenia sobie z nowymi danymi."
   ]
  },
  {
   "cell_type": "code",
   "execution_count": 25,
   "id": "71a80275",
   "metadata": {},
   "outputs": [
    {
     "name": "stdout",
     "output_type": "stream",
     "text": [
      "Błąd (test): 0.4675, Dokładność: 0.7738\n",
      "              precision    recall  f1-score   support\n",
      "\n",
      "         0.0       0.84      0.67      0.75      6982\n",
      "         1.0       0.73      0.87      0.79      7002\n",
      "\n",
      "    accuracy                           0.77     13984\n",
      "   macro avg       0.78      0.77      0.77     13984\n",
      "weighted avg       0.78      0.77      0.77     13984\n",
      "\n"
     ]
    }
   ],
   "source": [
    "import torch\n",
    "from sklearn.metrics import classification_report\n",
    "\n",
    "model.eval()\n",
    "test_loss = 0.0\n",
    "correct = 0\n",
    "total = 0\n",
    "predictions = []\n",
    "true_labels = []\n",
    "\n",
    "with torch.no_grad():\n",
    "    for inputs, labels in test_dataloader:\n",
    "        outputs = model(inputs)\n",
    "        loss = criterion(outputs, labels.view(-1, 1))\n",
    "        test_loss += loss.item() * inputs.size(0)\n",
    "        predicted = torch.round(outputs)\n",
    "        predictions.extend(predicted.cpu().numpy().flatten())\n",
    "        true_labels.extend(labels.cpu().numpy().flatten())\n",
    "        correct += (predicted == labels.view(-1, 1)).sum().item()\n",
    "        total += labels.size(0)\n",
    "\n",
    "test_loss /= len(test_dataloader.dataset)\n",
    "accuracy = correct / total\n",
    "print(f'Błąd (test): {test_loss:.4f}, Dokładność: {accuracy:.4f}')\n",
    "\n",
    "print(classification_report(true_labels, predictions))"
   ]
  },
  {
   "cell_type": "markdown",
   "id": "d996b764",
   "metadata": {},
   "source": [
    "Na podstawie wartości straty podczas trenowania i testowania modelu wysnuć można parę interesujących wniosków:\n",
    "* podczas trenowania model zmniejszał wartość straty z każdą kolejną epoką, co oznacza, że model coraz lepiej radził sobie z dopasowaniem do danych treningowych w miarę postępu treningu\n",
    "* wartość straty testowej wynosi 0.4742, co jest zbliżone do wartości straty testowej po 10 epokach (0.4655), co sugeruje, że model dobrze radzi sobie z nowymi danymi\n",
    "* dokładność modelu na danych testowych wynosi 0.7704, co oznacza, że około 77% predykcji modelu jest zgodne z rzeczywistymi etykietami."
   ]
  },
  {
   "cell_type": "markdown",
   "id": "671e25d2",
   "metadata": {},
   "source": [
    "## Undersampling\n",
    "\n",
    "Jest to metoda polegająca na usuwaniu danych z klasy większościowej. Usuwane są losowe rekordy z próbki większościowej, aż obie klasy będą miały tę samą liczność.\n",
    "\n",
    "Aby zrównoważyć obie te grupy użyta zostanie metoda $NearMiss$ z biblioteki imbalanced-learn, która polega na zmniejszeniu liczby próbek dominującej klasy, aby zrównoważyć proporcji klas w zbiorze danych."
   ]
  },
  {
   "cell_type": "code",
   "execution_count": 26,
   "id": "0604d330",
   "metadata": {},
   "outputs": [],
   "source": [
    "from imblearn.under_sampling import NearMiss\n",
    "\n",
    "torch.manual_seed(42)\n",
    "np.random.seed(42)\n",
    "\n",
    "under_sampler = NearMiss()\n",
    "X_res_un, y_res_un = under_sampler.fit_resample(X, y)"
   ]
  },
  {
   "cell_type": "markdown",
   "id": "aa9a9463",
   "metadata": {},
   "source": [
    "Poniższy kod pokazuje, jaki podział etykiet występuje przed undersamplingiem i po wykonaniu metody $NearMiss$."
   ]
  },
  {
   "cell_type": "code",
   "execution_count": 27,
   "id": "2af142b6",
   "metadata": {},
   "outputs": [
    {
     "name": "stdout",
     "output_type": "stream",
     "text": [
      "Liczba próbek przed undersamplingiem:\n",
      "0    34958\n",
      "1    19829\n",
      "Name: count, dtype: int64\n",
      "\n",
      "Liczba próbek po undersamplingu:\n",
      "0    19829\n",
      "1    19829\n",
      "Name: count, dtype: int64\n"
     ]
    }
   ],
   "source": [
    "y_series_un = pd.Series(y.flatten())\n",
    "y_res_series_un = pd.Series(y_res_un.flatten())\n",
    "\n",
    "print(\"Liczba próbek przed undersamplingiem:\")\n",
    "print(y_series_un.value_counts())   \n",
    "\n",
    "print(\"\\nLiczba próbek po undersamplingu:\")\n",
    "print(y_res_series_un.value_counts())\n",
    "\n",
    "df_resampled_un = pd.concat([pd.DataFrame(X_res_un), pd.DataFrame(y_res_un, columns=['smoking'])], axis=1)"
   ]
  },
  {
   "cell_type": "markdown",
   "id": "1da45d52",
   "metadata": {},
   "source": [
    "Także w tym przypadku wartości kolumny *smoking* rozkładają się w stosunku 1:1. Zmienia się natomiast rozmiar zbioru danych, który wynosi teraz nie 70 474, a 40 910 wierszy.\n",
    "\n",
    "Następnie dzielimy zbiór na dane (przy okazji usuwając kolumnę ID) i etykiety, standaryzujemy dane i dzielimy zbiór na zbiór treningowy i testowy."
   ]
  },
  {
   "cell_type": "code",
   "execution_count": 28,
   "id": "13429f02",
   "metadata": {
    "scrolled": false
   },
   "outputs": [],
   "source": [
    "data_un = df_resampled_un.drop(['smoking', 'ID'], axis=1)\n",
    "target_un = df_resampled_un['smoking']\n",
    "\n",
    "numeric_data_un = data_un.select_dtypes(include='number')\n",
    "scaled_un = scaler.fit_transform(numeric_data_un)\n",
    "\n",
    "X_train_un, X_test_un, y_train_un, y_test_un = train_test_split(scaled_un, target_un, test_size=0.2, random_state=42)"
   ]
  },
  {
   "cell_type": "markdown",
   "id": "c0bb077f",
   "metadata": {},
   "source": [
    "Zbiory są następnie przekształcane na tensory oraz dzielone na minigrupy."
   ]
  },
  {
   "cell_type": "code",
   "execution_count": 29,
   "id": "8cd95fa3",
   "metadata": {},
   "outputs": [],
   "source": [
    "x_train_un = torch.tensor(X_train_un, dtype=torch.float32)\n",
    "y_train_un = torch.tensor(y_train_un.values, dtype=torch.float32)\n",
    "x_test_un = torch.tensor(X_test_un, dtype=torch.float32)\n",
    "y_test_un = torch.tensor(y_test_un.values, dtype=torch.float32)\n",
    "\n",
    "train_dataset_un = TensorDataset(x_train_un, y_train_un)\n",
    "train_dataloader_un = DataLoader(train_dataset_un, batch_size=50, shuffle=False)\n",
    "\n",
    "test_dataset_un = TensorDataset(x_test_un, y_test_un)\n",
    "test_dataloader_un = DataLoader(test_dataset_un, batch_size=50, shuffle=False)"
   ]
  },
  {
   "cell_type": "markdown",
   "id": "3af882a4",
   "metadata": {},
   "source": [
    "Tak przekształcone dane trenujemy na stworzonym wcześniej modelu *model* także za pomocą cross-entropii oraz algorytmu optymalizacyjnego Adam."
   ]
  },
  {
   "cell_type": "code",
   "execution_count": 30,
   "id": "6e76af1e",
   "metadata": {},
   "outputs": [],
   "source": [
    "model_un = nn.Sequential(\n",
    "    nn.Linear(24, 10),\n",
    "    nn.ReLU(),\n",
    "    nn.Linear(10, 1),\n",
    "    nn.Sigmoid()\n",
    ")"
   ]
  },
  {
   "cell_type": "code",
   "execution_count": 31,
   "id": "11199881",
   "metadata": {},
   "outputs": [],
   "source": [
    "criterion = nn.BCELoss()\n",
    "optimizer = optim.Adam(model_un.parameters(), lr=0.001)"
   ]
  },
  {
   "cell_type": "markdown",
   "id": "05c71ab6",
   "metadata": {},
   "source": [
    "Zbiór poddany undersamplingowy zostanie poddany trenowaniu na takiim samym modelu, co zbiór oversamplingowy."
   ]
  },
  {
   "cell_type": "code",
   "execution_count": 32,
   "id": "27c51937",
   "metadata": {},
   "outputs": [
    {
     "name": "stdout",
     "output_type": "stream",
     "text": [
      "Epoka: 1/10, Błąd (trening): 0.4991\n",
      "Epoka: 2/10, Błąd (trening): 0.4420\n",
      "Epoka: 3/10, Błąd (trening): 0.4332\n",
      "Epoka: 4/10, Błąd (trening): 0.4296\n",
      "Epoka: 5/10, Błąd (trening): 0.4270\n",
      "Epoka: 6/10, Błąd (trening): 0.4245\n",
      "Epoka: 7/10, Błąd (trening): 0.4226\n",
      "Epoka: 8/10, Błąd (trening): 0.4211\n",
      "Epoka: 9/10, Błąd (trening): 0.4201\n",
      "Epoka: 10/10, Błąd (trening): 0.4195\n"
     ]
    }
   ],
   "source": [
    "train_losses = []\n",
    "\n",
    "for epoch in range(epochs):\n",
    "    model_un.train()\n",
    "    train_loss = 0.0\n",
    "    for inputs, labels in train_dataloader_un:\n",
    "        optimizer.zero_grad()\n",
    "        outputs = model_un(inputs)\n",
    "        loss = criterion(outputs, labels.view(-1, 1))\n",
    "        loss.backward()\n",
    "        optimizer.step()\n",
    "        train_loss += loss.item() * inputs.size(0)\n",
    "    \n",
    "    train_loss /= len(train_dataloader_un.dataset)\n",
    "    train_losses.append(train_loss)\n",
    "    print(f'Epoka: {epoch+1}/{epochs}, Błąd (trening): {train_loss:.4f}')"
   ]
  },
  {
   "cell_type": "markdown",
   "id": "ccbf2b09",
   "metadata": {},
   "source": [
    "Podczas trenowania modelu za pomocą 10 epok, strata treningowa stopniowo maleje z każdą kolejną epoką. Jest to znak, że model się uczy i staje się coraz bardziej skuteczny. "
   ]
  },
  {
   "cell_type": "code",
   "execution_count": 33,
   "id": "2718168c",
   "metadata": {},
   "outputs": [
    {
     "data": {
      "image/png": "[encoded data removed]",
      "text/plain": [
       "<Figure size 640x480 with 1 Axes>"
      ]
     },
     "metadata": {},
     "output_type": "display_data"
    }
   ],
   "source": [
    "plt.plot(range(1, epochs+1), train_losses, label='Błąd treningowy')\n",
    "plt.xlabel('Epoki')\n",
    "plt.ylabel('Błąd')\n",
    "plt.title('Wykres uczenia się (undersampling)')\n",
    "plt.legend()\n",
    "plt.show()"
   ]
  },
  {
   "cell_type": "code",
   "execution_count": 34,
   "id": "c98c0c74",
   "metadata": {},
   "outputs": [
    {
     "name": "stdout",
     "output_type": "stream",
     "text": [
      "Błąd (test): 0.4226, Dokładność: 0.7852\n",
      "              precision    recall  f1-score   support\n",
      "\n",
      "         0.0       0.80      0.76      0.78      3973\n",
      "         1.0       0.77      0.82      0.79      3959\n",
      "\n",
      "    accuracy                           0.79      7932\n",
      "   macro avg       0.79      0.79      0.78      7932\n",
      "weighted avg       0.79      0.79      0.78      7932\n",
      "\n"
     ]
    }
   ],
   "source": [
    "model_un.eval()\n",
    "test_loss = 0.0\n",
    "correct = 0\n",
    "total = 0\n",
    "predictions = []\n",
    "true_labels = []\n",
    "\n",
    "with torch.no_grad():\n",
    "    for inputs, labels in test_dataloader_un:\n",
    "        outputs = model_un(inputs)\n",
    "        loss = criterion(outputs, labels.view(-1, 1))\n",
    "        test_loss += loss.item() * inputs.size(0)\n",
    "        predicted = torch.round(outputs)\n",
    "        predictions.extend(predicted.cpu().numpy().flatten())\n",
    "        true_labels.extend(labels.cpu().numpy().flatten())\n",
    "        correct += (predicted == labels.view(-1, 1)).sum().item()\n",
    "        total += labels.size(0)\n",
    "\n",
    "test_loss /= len(test_dataloader_un.dataset)\n",
    "accuracy = correct / total\n",
    "print(f'Błąd (test): {test_loss:.4f}, Dokładność: {accuracy:.4f}')\n",
    "\n",
    "print(classification_report(true_labels, predictions))"
   ]
  },
  {
   "cell_type": "markdown",
   "id": "5a40eab3",
   "metadata": {},
   "source": [
    "Po przełączeniu modelu na tryb ewaluacji, zauważyć można, że zbiór ten ma większą dokładność w stosunku do danych poddanych oversamplingowi. Funkcja straty po ocenie wydajności modelu na danych testowych także jest mniejsza, gdyż wynosi jedynie 0.4154, w stosunku do 0.4742 z oversamplingu."
   ]
  },
  {
   "cell_type": "markdown",
   "id": "1effc2c3",
   "metadata": {},
   "source": [
    "## Wagi dla etykiet\n",
    "\n",
    "Technika ta polega na przypisaniu wag próbkom w zależności od ich przynależności do jednej z klas, aby wyrównać wpływ każdej klasy na proces uczenia się modelu. \n",
    "\n",
    "Dla każdej z klas określa się wagi. W tym przypadku wagi są odwrotnie proporcjonalne do częstości występowania danej klasy. Klasa liczniej występująca w kolumnie etykiety będzie więc miała mniejszą wagę niż klasa mniejszościowa zbioru."
   ]
  },
  {
   "cell_type": "code",
   "execution_count": 35,
   "id": "0776afa8",
   "metadata": {},
   "outputs": [],
   "source": [
    "df_weight = pd.concat([pd.DataFrame(X), pd.DataFrame(y, columns=['smoking'])], axis=1)"
   ]
  },
  {
   "cell_type": "markdown",
   "id": "48cc08a8",
   "metadata": {},
   "source": [
    "Zbiór zostaje podzielony na dane i etykiety, ustandaryzowane zostają jego dane, a następnie następuje podział zbioru na zbiór treningowy i testowy."
   ]
  },
  {
   "cell_type": "code",
   "execution_count": 36,
   "id": "3983ad7a",
   "metadata": {},
   "outputs": [],
   "source": [
    "data_weight = df_weight.drop(['smoking', 'ID'], axis=1)\n",
    "target_weight = df_weight['smoking']\n",
    "\n",
    "numeric_weight = data_weight.select_dtypes(include='number')\n",
    "scaled_un = scaler.fit_transform(numeric_weight)\n",
    "\n",
    "X_train_weight, X_test_weight, y_train_w, y_test_w = train_test_split(data_weight, target_weight, test_size=0.2, random_state=42)"
   ]
  },
  {
   "cell_type": "markdown",
   "id": "93439410",
   "metadata": {},
   "source": [
    "Następnie dla zbioru treningowego i testowego zostają utworzone tensory oraz następuje ich podział na minigrupy."
   ]
  },
  {
   "cell_type": "code",
   "execution_count": 37,
   "id": "278cfbc6",
   "metadata": {},
   "outputs": [],
   "source": [
    "x_train_weight = torch.tensor(X_train_weight.values, dtype=torch.float32)\n",
    "y_train_weight = torch.tensor(y_train_w.values, dtype=torch.float32)\n",
    "x_test_weight = torch.tensor(X_test_weight.values, dtype=torch.float32)\n",
    "y_test_weight = torch.tensor(y_test_w.values, dtype=torch.float32)\n",
    "\n",
    "train_dataset_weight = TensorDataset(x_train_weight, y_train_weight)\n",
    "train_dataloader_weight = DataLoader(train_dataset_weight, batch_size=50, shuffle=False)\n",
    "\n",
    "test_dataset_weight = TensorDataset(x_test_weight, y_test_weight)\n",
    "test_dataloader_weight = DataLoader(test_dataset_weight, batch_size=50, shuffle=False)"
   ]
  },
  {
   "cell_type": "markdown",
   "id": "f7c48e00",
   "metadata": {},
   "source": [
    "Do trenowania tych danych także użyty zostanie model dwuwarstwowy."
   ]
  },
  {
   "cell_type": "code",
   "execution_count": 38,
   "id": "44d94d58",
   "metadata": {},
   "outputs": [],
   "source": [
    "model_weight = nn.Sequential(\n",
    "    nn.Linear(24, 10),\n",
    "    nn.ReLU(),\n",
    "    nn.Linear(10, 1),\n",
    "    nn.Sigmoid()\n",
    ")"
   ]
  },
  {
   "cell_type": "markdown",
   "id": "f47467a3",
   "metadata": {},
   "source": [
    "Niezbędną częścią tej techniki jest dodanie wag do obu klas. Dla każdej z klas obliczana jest więc waga odwrotnie proporcjonalna do częstości jej występowania.\n",
    "\n",
    "Następnie do funkcji straty *BCELoss()* przypisane są wagi poszczególnych klas. Dla modelu oznacza to, że dla poszczególnych przykładów w zbiorze danych, funkcja straty będzie uwzględniała przypisane im wagi, co prowadzić będzie do zrównoważenia wpływu obu klas na trening modelu."
   ]
  },
  {
   "cell_type": "code",
   "execution_count": 39,
   "id": "a564188f",
   "metadata": {},
   "outputs": [],
   "source": [
    "class_weights = torch.tensor([1/target_dis[0], 1/target_dis[1]])\n",
    "criterion_w = nn.BCELoss(weight=class_weights)\n",
    "optimizer = optim.Adam(model_weight.parameters(), lr=0.001)"
   ]
  },
  {
   "cell_type": "code",
   "execution_count": 40,
   "id": "9ea4082f",
   "metadata": {},
   "outputs": [],
   "source": [
    "# train_losses = []\n",
    "\n",
    "# for epoch in range(epochs):\n",
    "#     model_weight.train()\n",
    "#     train_loss = 0.0\n",
    "#     for inputs, labels in train_dataloader_weight:\n",
    "#         optimizer.zero_grad()\n",
    "#         outputs = model_weight(inputs)\n",
    "        \n",
    "#         target_labels = labels.float().view(-1)\n",
    "#         outputs = outputs.view(-1)\n",
    "        \n",
    "#         print(outputs.size())\n",
    "#         print(target_labels.size())\n",
    "        \n",
    "#         loss = criterion_w(outputs, target_labels)\n",
    "#         loss.backward()\n",
    "#         optimizer.step()\n",
    "#         train_loss += loss.item() * inputs.size(0)\n",
    "    \n",
    "#     train_loss /= len(train_dataloader_weight.dataset)\n",
    "#     train_losses.append(train_loss)\n",
    "#     print(f'Epoka: {epoch+1}/{epochs}, Błąd (trening): {train_loss:.4f}')"
   ]
  },
  {
   "cell_type": "code",
   "execution_count": 41,
   "id": "469b8c19",
   "metadata": {},
   "outputs": [],
   "source": [
    "# plt.plot(range(1, epochs+1), train_losses, label='Błąd treningowy')\n",
    "# plt.xlabel('Epoki')\n",
    "# plt.ylabel('Błąd')\n",
    "# plt.title('Wykres uczenia się')\n",
    "# plt.legend()\n",
    "# plt.show()"
   ]
  },
  {
   "cell_type": "code",
   "execution_count": 42,
   "id": "16eb7fb2",
   "metadata": {},
   "outputs": [],
   "source": [
    "# model_weight.eval()\n",
    "# test_loss = 0.0\n",
    "# correct = 0\n",
    "# total = 0\n",
    "# predictions = []\n",
    "# true_labels = []\n",
    "\n",
    "# with torch.no_grad():\n",
    "#     for inputs, labels in test_dataloader_weight:\n",
    "#         outputs = model_weight(inputs)\n",
    "#         loss = criterion(outputs, labels.view(-1, 1))\n",
    "#         test_loss += loss.item() * inputs.size(0)\n",
    "#         predicted = torch.round(outputs)\n",
    "#         predictions.extend(predicted.cpu().numpy().flatten())\n",
    "#         true_labels.extend(labels.cpu().numpy().flatten())\n",
    "#         correct += (predicted == labels.view(-1, 1)).sum().item()\n",
    "#         total += labels.size(0)\n",
    "\n",
    "# test_loss /= len(test_dataloader_weight.dataset)\n",
    "# accuracy = correct / total\n",
    "# print(f'Błąd (test): {test_loss:.4f}, Dokładność: {accuracy:.4f}')\n",
    "\n",
    "# print(classification_report(true_labels, predictions))"
   ]
  },
  {
   "cell_type": "markdown",
   "id": "c8b9cb5b",
   "metadata": {},
   "source": [
    "# Testowanie dla metody undersamplingu\n",
    "\n",
    "Spośród trzech ukazanych wyżej metod wybrana zostaje metoda undersamplingu, aby ukazać skuteczność innych modeli i optymalizatorów w procesie trenowania modelu."
   ]
  },
  {
   "cell_type": "markdown",
   "id": "7e60f224",
   "metadata": {},
   "source": [
    "Drugi stworzony model będzie zawierał trzy warstwy liniowe:\n",
    "* pierwsza warstwa na wejściu przyjmuje 24 cechy po to, aby przekształcić je następnie w 12 wyjść z neuronu,\n",
    "* druga warstwa przyjmuje wszystkie spośród 12 wyjść z pierwszej warstwy na swoje wejście, na wyjście zaś przekazuje 6 atrybutów,\n",
    "* ostatnia warstwa liniowa ma 6 wejść i 1 wyjście. Ta warstwa ma za zadanie przekształcić dane na pojedynczą wartość wyjściową, która jest poddana funkcji sigmoidalnej.\n",
    "\n",
    "Funkcja ReLU jest funkcją aktywacji nieliniową, która przekształca wartość ujemną na 0, pozostawiając nieujemne wartości niezmienione."
   ]
  },
  {
   "cell_type": "code",
   "execution_count": 43,
   "id": "1c6eb192",
   "metadata": {},
   "outputs": [],
   "source": [
    "model2 = nn.Sequential(\n",
    "    nn.Linear(24, 12),\n",
    "    nn.ReLU(),\n",
    "    nn.Linear(12, 6),\n",
    "    nn.ReLU(),\n",
    "    nn.Linear(6, 1),\n",
    "    nn.Sigmoid()\n",
    ")"
   ]
  },
  {
   "cell_type": "markdown",
   "id": "cb6afea4",
   "metadata": {},
   "source": [
    "Aby możliwa była ocena modelu drugiego, także skorzystamy z cross-entropii (Binary Cross Entropy Loss).\n",
    "\n",
    "Trenowanie modelu odbywać się będzie na zasadzie aktualizacji wag w celu minimalizacji funkcji stratyza pomocą algorytmu Adam, aby łatwe było porównanie modelu2 z modelem pierwszym."
   ]
  },
  {
   "cell_type": "code",
   "execution_count": 44,
   "id": "5ed08088",
   "metadata": {},
   "outputs": [],
   "source": [
    "criterion = nn.BCELoss()\n",
    "optimizer = optim.Adam(model2.parameters(), lr=0.001)"
   ]
  },
  {
   "cell_type": "code",
   "execution_count": 45,
   "id": "60c30aa9",
   "metadata": {},
   "outputs": [
    {
     "name": "stdout",
     "output_type": "stream",
     "text": [
      "Epoka: 1/10, Błąd (trening): 0.4947\n",
      "Epoka: 2/10, Błąd (trening): 0.4294\n",
      "Epoka: 3/10, Błąd (trening): 0.4234\n",
      "Epoka: 4/10, Błąd (trening): 0.4197\n",
      "Epoka: 5/10, Błąd (trening): 0.4173\n",
      "Epoka: 6/10, Błąd (trening): 0.4155\n",
      "Epoka: 7/10, Błąd (trening): 0.4141\n",
      "Epoka: 8/10, Błąd (trening): 0.4130\n",
      "Epoka: 9/10, Błąd (trening): 0.4120\n",
      "Epoka: 10/10, Błąd (trening): 0.4111\n"
     ]
    }
   ],
   "source": [
    "for epoch in range(epochs):\n",
    "    model2.train()\n",
    "    train_loss = 0.0\n",
    "    for inputs, labels in train_dataloader_un:\n",
    "        optimizer.zero_grad()\n",
    "        outputs = model2(inputs)\n",
    "        loss = criterion(outputs, labels.view(-1, 1))\n",
    "        loss.backward()\n",
    "        optimizer.step()\n",
    "        train_loss += loss.item() * inputs.size(0)\n",
    "    \n",
    "    train_loss /= len(train_dataloader_un.dataset)\n",
    "    print(f'Epoka: {epoch+1}/{epochs}, Błąd (trening): {train_loss:.4f}')"
   ]
  },
  {
   "cell_type": "markdown",
   "id": "236b176e",
   "metadata": {},
   "source": [
    "Wartość straty na zbiorze treningowym zmniejsza się wraz z postępem w treningu. Oznacza to, że model stopniowo dostosowuje się do danych treningowych i coraz lepiej przewiduje etykiety dla przykładów treningowych."
   ]
  },
  {
   "cell_type": "code",
   "execution_count": 46,
   "id": "f98d11f4",
   "metadata": {},
   "outputs": [
    {
     "name": "stdout",
     "output_type": "stream",
     "text": [
      "Błąd (test): 0.4135, Dokładność: 0.7941\n",
      "              precision    recall  f1-score   support\n",
      "\n",
      "         0.0       0.81      0.77      0.79      3973\n",
      "         1.0       0.78      0.82      0.80      3959\n",
      "\n",
      "    accuracy                           0.79      7932\n",
      "   macro avg       0.80      0.79      0.79      7932\n",
      "weighted avg       0.80      0.79      0.79      7932\n",
      "\n"
     ]
    }
   ],
   "source": [
    "model2.eval()\n",
    "test_loss = 0.0\n",
    "correct = 0\n",
    "total = 0\n",
    "predictions = []\n",
    "true_labels = []\n",
    "\n",
    "with torch.no_grad():\n",
    "    for inputs, labels in test_dataloader_un:\n",
    "        outputs = model2(inputs)\n",
    "        loss = criterion(outputs, labels.view(-1, 1))\n",
    "        test_loss += loss.item() * inputs.size(0)\n",
    "        predicted = torch.round(outputs)\n",
    "        predictions.extend(predicted.cpu().numpy().flatten())\n",
    "        true_labels.extend(labels.cpu().numpy().flatten())\n",
    "        correct += (predicted == labels.view(-1, 1)).sum().item()\n",
    "        total += labels.size(0)\n",
    "\n",
    "test_loss /= len(test_dataloader_un.dataset)\n",
    "accuracy = correct / total\n",
    "print(f'Błąd (test): {test_loss:.4f}, Dokładność: {accuracy:.4f}')\n",
    "\n",
    "print(classification_report(true_labels, predictions))"
   ]
  },
  {
   "cell_type": "markdown",
   "id": "989390c8",
   "metadata": {},
   "source": [
    "Trzecim testowanym modelem będzie *model3* przedstawiony poniżej. Model ten składa się z dwóch warstw:\n",
    "* pierwsza warstwa liniowa ma 24 wejścia i 6 wyjść. Jest ona odpowiedzialna za transformację danych wejściowych do mniejszego wymiaru, a aktywacje są przekazywane do funkcji aktywacji ReLU.\n",
    "* druga warstwa ma 6 wejść, które przekształca w 1 wyjście, któe następnie poddane jest sigmoidalnej funkcji aktywacji, dzięki czemu wartość wyjściowa znajduje się w zakresie między 0 i 1."
   ]
  },
  {
   "cell_type": "code",
   "execution_count": 47,
   "id": "bc35f4f3",
   "metadata": {},
   "outputs": [],
   "source": [
    "model3 = nn.Sequential(\n",
    "    nn.Linear(24, 6),\n",
    "    nn.ReLU(),\n",
    "    nn.Linear(6, 1),\n",
    "    nn.Sigmoid()\n",
    ")"
   ]
  },
  {
   "cell_type": "markdown",
   "id": "05575e09",
   "metadata": {},
   "source": [
    "Aby możliwe było łatwe porównanie tych trzech modeli, także w tym przypadku użyta zostanie cross-entropia oraz algorytm optymalizacyjny Adam."
   ]
  },
  {
   "cell_type": "code",
   "execution_count": 48,
   "id": "e8ee93f0",
   "metadata": {},
   "outputs": [],
   "source": [
    "criterion = nn.BCELoss()\n",
    "optimizer = optim.Adam(model3.parameters(), lr=0.001)"
   ]
  },
  {
   "cell_type": "code",
   "execution_count": 49,
   "id": "11989fd6",
   "metadata": {},
   "outputs": [
    {
     "name": "stdout",
     "output_type": "stream",
     "text": [
      "Epoka: 1/10, Błąd (trening): 0.5074\n",
      "Epoka: 2/10, Błąd (trening): 0.4438\n",
      "Epoka: 3/10, Błąd (trening): 0.4343\n",
      "Epoka: 4/10, Błąd (trening): 0.4286\n",
      "Epoka: 5/10, Błąd (trening): 0.4248\n",
      "Epoka: 6/10, Błąd (trening): 0.4223\n",
      "Epoka: 7/10, Błąd (trening): 0.4205\n",
      "Epoka: 8/10, Błąd (trening): 0.4191\n",
      "Epoka: 9/10, Błąd (trening): 0.4179\n",
      "Epoka: 10/10, Błąd (trening): 0.4170\n"
     ]
    }
   ],
   "source": [
    "for epoch in range(epochs):\n",
    "    model3.train()\n",
    "    train_loss = 0.0\n",
    "    for inputs, labels in train_dataloader_un:\n",
    "        optimizer.zero_grad()\n",
    "        outputs = model3(inputs)\n",
    "        loss = criterion(outputs, labels.view(-1, 1))\n",
    "        loss.backward()\n",
    "        optimizer.step()\n",
    "        train_loss += loss.item() * inputs.size(0)\n",
    "    \n",
    "    train_loss /= len(train_dataloader_un.dataset)\n",
    "    print(f'Epoka: {epoch+1}/{epochs}, Błąd (trening): {train_loss:.4f}')"
   ]
  },
  {
   "cell_type": "markdown",
   "id": "f8f503f9",
   "metadata": {},
   "source": [
    "Obniżanie się wartości straty oznacza, że modele poprawiają swoje predykcje i stają się coraz lepiej dopasowane do danych treningowych."
   ]
  },
  {
   "cell_type": "code",
   "execution_count": 50,
   "id": "429bdc36",
   "metadata": {},
   "outputs": [
    {
     "name": "stdout",
     "output_type": "stream",
     "text": [
      "Błąd (test): 0.4193, Dokładność: 0.7883\n",
      "              precision    recall  f1-score   support\n",
      "\n",
      "         0.0       0.81      0.75      0.78      3973\n",
      "         1.0       0.77      0.83      0.80      3959\n",
      "\n",
      "    accuracy                           0.79      7932\n",
      "   macro avg       0.79      0.79      0.79      7932\n",
      "weighted avg       0.79      0.79      0.79      7932\n",
      "\n"
     ]
    }
   ],
   "source": [
    "model3.eval()\n",
    "test_loss = 0.0\n",
    "correct = 0\n",
    "total = 0\n",
    "predictions = []\n",
    "true_labels = []\n",
    "\n",
    "with torch.no_grad():\n",
    "    for inputs, labels in test_dataloader_un:\n",
    "        outputs = model3(inputs)\n",
    "        loss = criterion(outputs, labels.view(-1, 1))\n",
    "        test_loss += loss.item() * inputs.size(0)\n",
    "        predicted = torch.round(outputs)\n",
    "        predictions.extend(predicted.cpu().numpy().flatten())\n",
    "        true_labels.extend(labels.cpu().numpy().flatten())\n",
    "        correct += (predicted == labels.view(-1, 1)).sum().item()\n",
    "        total += labels.size(0)\n",
    "\n",
    "test_loss /= len(test_dataloader_un.dataset)\n",
    "accuracy = correct / total\n",
    "print(f'Błąd (test): {test_loss:.4f}, Dokładność: {accuracy:.4f}')\n",
    "\n",
    "print(classification_report(true_labels, predictions))"
   ]
  },
  {
   "cell_type": "markdown",
   "id": "915e06e9",
   "metadata": {},
   "source": [
    "## Inne optymalizatory\n",
    "\n",
    "Model pierwszy ma największą dokładność oraz najmniejszą wartość funkcji straty na zbiorze testowym. Jednak w ciągu 10 epok, różnica między stratą po pierwszej epoce, a stratą pod koniec wyniosła około 0.26.\n",
    "\n",
    "Model drugi znajduje się po środku w zestawieniu modelu zarówno pod względem funkcji straty na zbiorze testowym i dokładności, jak i wydajnością uczenia się po 10 epokach, co oznaczać może, że model ten ma możliwość lepszego wytrenowania, lecz także większe prawdopodobieństwo przetrenowania.\n",
    "\n",
    "Model trzeci posiada największą różnicę między stratą po pierwszej i ostatniej epoce. Wyniki obejmujące dokładność i stratę po przekształceniu danych testowych ma natomiast najgorsze spośród wszystkich pokazanych tu modeli działających na danych poddanych oversamplingowi.\n",
    "\n",
    "Z tego powodu następne testy przeprowadzone zostaną na modelu drugim."
   ]
  },
  {
   "cell_type": "markdown",
   "id": "f8861712",
   "metadata": {},
   "source": [
    "Aby zoptymalizować model *model2* można użyć optymalizatora SGD (Stochastic Gradient Descent). Algorytm ten także wykorzystywany jest do minimalizacji funkcji straty poprzez aktualizację wag modelu w kierunku przeciwnym do gradientu funkcji straty."
   ]
  },
  {
   "cell_type": "code",
   "execution_count": 51,
   "id": "e3bd0a80",
   "metadata": {},
   "outputs": [],
   "source": [
    "model2_sgd = nn.Sequential(\n",
    "    nn.Linear(24, 12),\n",
    "    nn.ReLU(),\n",
    "    nn.Linear(12, 6),\n",
    "    nn.ReLU(),\n",
    "    nn.Linear(6, 1),\n",
    "    nn.Sigmoid()\n",
    ")"
   ]
  },
  {
   "cell_type": "code",
   "execution_count": 52,
   "id": "d3e0dfdb",
   "metadata": {},
   "outputs": [],
   "source": [
    "criterion = nn.BCELoss()\n",
    "optimizer2 = optim.SGD(model2_sgd.parameters(), lr=0.01)"
   ]
  },
  {
   "cell_type": "code",
   "execution_count": null,
   "id": "c9f29693",
   "metadata": {},
   "outputs": [
    {
     "name": "stdout",
     "output_type": "stream",
     "text": [
      "Epoka: 1/10, Błąd (trening): 0.6589\n",
      "Epoka: 2/10, Błąd (trening): 0.5365\n",
      "Epoka: 3/10, Błąd (trening): 0.4721\n",
      "Epoka: 4/10, Błąd (trening): 0.4477\n",
      "Epoka: 5/10, Błąd (trening): 0.4363\n",
      "Epoka: 6/10, Błąd (trening): 0.4311\n",
      "Epoka: 7/10, Błąd (trening): 0.4281\n",
      "Epoka: 8/10, Błąd (trening): 0.4260\n",
      "Epoka: 9/10, Błąd (trening): 0.4244\n"
     ]
    }
   ],
   "source": [
    "for epoch in range(epochs):\n",
    "    model2_sgd.train()\n",
    "    train_loss = 0.0\n",
    "    for inputs, labels in train_dataloader_un:\n",
    "        optimizer2.zero_grad()\n",
    "        outputs = model2_sgd(inputs)\n",
    "        loss = criterion(outputs, labels.view(-1, 1))\n",
    "        loss.backward()\n",
    "        optimizer2.step()\n",
    "        train_loss += loss.item() * inputs.size(0)\n",
    "    \n",
    "    train_loss /= len(train_dataloader_un.dataset)\n",
    "    print(f'Epoka: {epoch+1}/{epochs}, Błąd (trening): {train_loss:.4f}')"
   ]
  },
  {
   "cell_type": "markdown",
   "id": "e52b7555",
   "metadata": {},
   "source": [
    "Model trenowany za pomocą algorytmu optymalizacyjnego SGD dostarcza rezultaty podobne do rezultatów algorytmu Adam. Zauważyć można niewielkie różnice wartości funkcji straty między każdymi kolejnymi dwoma epokami. Różnica strat w tym przypadku wynosi jedynie 0.0016."
   ]
  },
  {
   "cell_type": "code",
   "execution_count": null,
   "id": "17c1baec",
   "metadata": {},
   "outputs": [],
   "source": [
    "model2_sgd.eval()\n",
    "test_loss = 0.0\n",
    "correct = 0\n",
    "total = 0\n",
    "predictions = []\n",
    "true_labels = []\n",
    "\n",
    "with torch.no_grad():\n",
    "    for inputs, labels in test_dataloader_un:\n",
    "        outputs = model2_sgd(inputs)\n",
    "        loss = criterion(outputs, labels.view(-1, 1))\n",
    "        test_loss += loss.item() * inputs.size(0)\n",
    "        predicted = torch.round(outputs)\n",
    "        predictions.extend(predicted.cpu().numpy().flatten())\n",
    "        true_labels.extend(labels.cpu().numpy().flatten())\n",
    "        correct += (predicted == labels.view(-1, 1)).sum().item()\n",
    "        total += labels.size(0)\n",
    "\n",
    "test_loss /= len(test_dataloader_un.dataset)\n",
    "accuracy = correct / total\n",
    "print(f'Błąd (test): {test_loss:.4f}, Dokładność: {accuracy:.4f}')\n",
    "\n",
    "print(classification_report(true_labels, predictions))"
   ]
  },
  {
   "cell_type": "markdown",
   "id": "bf847604",
   "metadata": {},
   "source": [
    "Optymalizator SGD z inną wartością lr"
   ]
  },
  {
   "cell_type": "code",
   "execution_count": null,
   "id": "fb03f569",
   "metadata": {},
   "outputs": [],
   "source": [
    "model2_lr = nn.Sequential(\n",
    "    nn.Linear(24, 12),\n",
    "    nn.ReLU(),\n",
    "    nn.Linear(12, 6),\n",
    "    nn.ReLU(),\n",
    "    nn.Linear(6, 1),\n",
    "    nn.Sigmoid()\n",
    ")"
   ]
  },
  {
   "cell_type": "code",
   "execution_count": null,
   "id": "4e4296e6",
   "metadata": {},
   "outputs": [],
   "source": [
    "criterion = nn.BCELoss()\n",
    "optimizer2 = optim.SGD(model2_lr.parameters(), lr=0.2)"
   ]
  },
  {
   "cell_type": "code",
   "execution_count": null,
   "id": "b1f42fb8",
   "metadata": {},
   "outputs": [],
   "source": [
    "for epoch in range(epochs):\n",
    "    model2_lr.train()\n",
    "    train_loss = 0.0\n",
    "    for inputs, labels in train_dataloader_un:\n",
    "        optimizer2.zero_grad()\n",
    "        outputs = model2_lr(inputs)\n",
    "        loss = criterion(outputs, labels.view(-1, 1))\n",
    "        loss.backward()\n",
    "        optimizer2.step()\n",
    "        train_loss += loss.item() * inputs.size(0)\n",
    "    \n",
    "    train_loss /= len(train_dataloader_un.dataset)\n",
    "    print(f'Epoka: {epoch+1}/{epochs}, Błąd (trening): {train_loss:.4f}')"
   ]
  },
  {
   "cell_type": "code",
   "execution_count": null,
   "id": "efc2b4e0",
   "metadata": {},
   "outputs": [],
   "source": [
    "model2_lr.eval()\n",
    "test_loss = 0.0\n",
    "correct = 0\n",
    "total = 0\n",
    "predictions = []\n",
    "true_labels = []\n",
    "\n",
    "with torch.no_grad():\n",
    "    for inputs, labels in test_dataloader_un:\n",
    "        outputs = model2_lr(inputs)\n",
    "        loss = criterion(outputs, labels.view(-1, 1))\n",
    "        test_loss += loss.item() * inputs.size(0)\n",
    "        predicted = torch.round(outputs)\n",
    "        predictions.extend(predicted.cpu().numpy().flatten())\n",
    "        true_labels.extend(labels.cpu().numpy().flatten())\n",
    "        correct += (predicted == labels.view(-1, 1)).sum().item()\n",
    "        total += labels.size(0)\n",
    "\n",
    "test_loss /= len(test_dataloader_un.dataset)\n",
    "accuracy = correct / total\n",
    "print(f'Błąd (test): {test_loss:.4f}, Dokładność: {accuracy:.4f}')\n",
    "\n",
    "print(classification_report(true_labels, predictions))"
   ]
  },
  {
   "cell_type": "markdown",
   "id": "778aac4b",
   "metadata": {},
   "source": [
    "Optymalizator SGD z momentum"
   ]
  },
  {
   "cell_type": "code",
   "execution_count": null,
   "id": "5ec175c4",
   "metadata": {},
   "outputs": [],
   "source": [
    "model2_momentum = nn.Sequential(\n",
    "    nn.Linear(24, 12),\n",
    "    nn.ReLU(),\n",
    "    nn.Linear(12, 6),\n",
    "    nn.ReLU(),\n",
    "    nn.Linear(6, 1),\n",
    "    nn.Sigmoid()\n",
    ")"
   ]
  },
  {
   "cell_type": "code",
   "execution_count": null,
   "id": "6cfd1fbf",
   "metadata": {},
   "outputs": [],
   "source": [
    "criterion = nn.BCELoss()\n",
    "optimizer_sgd_momentum = optim.SGD(model2_momentum.parameters(), lr=0.01, momentum=0.9)"
   ]
  },
  {
   "cell_type": "code",
   "execution_count": null,
   "id": "3689e881",
   "metadata": {},
   "outputs": [],
   "source": [
    "for epoch in range(epochs):\n",
    "    model2_momentum.train()\n",
    "    train_loss = 0.0\n",
    "    for inputs, labels in train_dataloader_un:\n",
    "        optimizer_sgd_momentum.zero_grad()\n",
    "        outputs = model2_momentum(inputs)\n",
    "        loss = criterion(outputs, labels.view(-1, 1))\n",
    "        loss.backward()\n",
    "        optimizer_sgd_momentum.step()\n",
    "        train_loss += loss.item() * inputs.size(0)\n",
    "    \n",
    "    train_loss /= len(train_dataloader_un.dataset)\n",
    "    print(f'Epoka: {epoch+1}/{epochs}, Błąd (trening): {train_loss:.4f}')"
   ]
  },
  {
   "cell_type": "code",
   "execution_count": null,
   "id": "1aff19d8",
   "metadata": {},
   "outputs": [],
   "source": [
    "model2_momentum.eval()\n",
    "test_loss = 0.0\n",
    "correct = 0\n",
    "total = 0\n",
    "predictions = []\n",
    "true_labels = []\n",
    "\n",
    "with torch.no_grad():\n",
    "    for inputs, labels in test_dataloader_un:\n",
    "        outputs = model2_momentum(inputs)\n",
    "        loss = criterion(outputs, labels.view(-1, 1))\n",
    "        test_loss += loss.item() * inputs.size(0)\n",
    "        predicted = torch.round(outputs)\n",
    "        predictions.extend(predicted.cpu().numpy().flatten())\n",
    "        true_labels.extend(labels.cpu().numpy().flatten())\n",
    "        correct += (predicted == labels.view(-1, 1)).sum().item()\n",
    "        total += labels.size(0)\n",
    "\n",
    "test_loss /= len(test_dataloader_un.dataset)\n",
    "accuracy = correct / total\n",
    "print(f'Błąd (test): {test_loss:.4f}, Dokładność: {accuracy:.4f}')\n",
    "\n",
    "print(classification_report(true_labels, predictions))"
   ]
  },
  {
   "cell_type": "markdown",
   "id": "7b687c3a",
   "metadata": {},
   "source": [
    "Optymalizator RMSprop"
   ]
  },
  {
   "cell_type": "code",
   "execution_count": null,
   "id": "7beb17da",
   "metadata": {},
   "outputs": [],
   "source": [
    "model2_rms = nn.Sequential(\n",
    "    nn.Linear(24, 12),\n",
    "    nn.ReLU(),\n",
    "    nn.Linear(12, 6),\n",
    "    nn.ReLU(),\n",
    "    nn.Linear(6, 1),\n",
    "    nn.Sigmoid()\n",
    ")"
   ]
  },
  {
   "cell_type": "code",
   "execution_count": null,
   "id": "fcf56e2e",
   "metadata": {},
   "outputs": [],
   "source": [
    "criterion = nn.BCELoss()\n",
    "optimizer_rmsprop = optim.RMSprop(model2_rms.parameters(), lr=0.01) "
   ]
  },
  {
   "cell_type": "code",
   "execution_count": null,
   "id": "44d3f71f",
   "metadata": {},
   "outputs": [],
   "source": [
    "for epoch in range(epochs):\n",
    "    model2_rms.train()\n",
    "    train_loss = 0.0\n",
    "    for inputs, labels in train_dataloader_un:\n",
    "        optimizer_rmsprop.zero_grad()\n",
    "        outputs = model2_rms(inputs)\n",
    "        loss = criterion(outputs, labels.view(-1, 1))\n",
    "        loss.backward()\n",
    "        optimizer_rmsprop.step()\n",
    "        train_loss += loss.item() * inputs.size(0)\n",
    "    \n",
    "    train_loss /= len(train_dataloader_un.dataset)\n",
    "    print(f'Epoka: {epoch+1}/{epochs}, Błąd (trening): {train_loss:.4f}')"
   ]
  },
  {
   "cell_type": "code",
   "execution_count": null,
   "id": "7a6c0439",
   "metadata": {},
   "outputs": [],
   "source": [
    "with torch.no_grad():\n",
    "    for inputs, labels in test_dataloader_un:\n",
    "        outputs = model2_sgd(inputs)\n",
    "        loss = criterion(outputs, labels.view(-1, 1))\n",
    "        test_loss += loss.item() * inputs.size(0)\n",
    "        predicted = torch.round(outputs)\n",
    "        predictions.extend(predicted.cpu().numpy().flatten())\n",
    "        true_labels.extend(labels.cpu().numpy().flatten())\n",
    "        correct += (predicted == labels.view(-1, 1)).sum().item()\n",
    "        total += labels.size(0)\n",
    "\n",
    "test_loss /= len(test_dataloader_un.dataset)\n",
    "accuracy = correct / total\n",
    "print(f'Błąd (test): {test_loss:.4f}, Dokładność: {accuracy:.4f}')\n",
    "\n",
    "print(classification_report(true_labels, predictions))"
   ]
  },
  {
   "cell_type": "code",
   "execution_count": null,
   "id": "efe5006c",
   "metadata": {},
   "outputs": [],
   "source": [
    "model2_adam = nn.Sequential(\n",
    "    nn.Linear(24, 12),\n",
    "    nn.ReLU(),\n",
    "    nn.Linear(12, 6),\n",
    "    nn.ReLU(),\n",
    "    nn.Linear(6, 1),\n",
    "    nn.Sigmoid()\n",
    ")"
   ]
  },
  {
   "cell_type": "code",
   "execution_count": null,
   "id": "b9a706ee",
   "metadata": {},
   "outputs": [],
   "source": [
    "criterion = nn.BCELoss()\n",
    "optimizer = optim.Adam(model2_adam.parameters(), lr=0.001)"
   ]
  },
  {
   "cell_type": "code",
   "execution_count": null,
   "id": "5ec148fd",
   "metadata": {},
   "outputs": [],
   "source": [
    "for epoch in range(epochs):\n",
    "    model2_adam.train()\n",
    "    train_loss = 0.0\n",
    "    for inputs, labels in train_dataloader_un:\n",
    "        optimizer.zero_grad()\n",
    "        outputs = model2_adam(inputs)\n",
    "        loss = criterion(outputs, labels.view(-1, 1))\n",
    "        loss.backward()\n",
    "        optimizer.step()\n",
    "        train_loss += loss.item() * inputs.size(0)\n",
    "    \n",
    "    train_loss /= len(train_dataloader_un.dataset)\n",
    "    print(f'Epoka: {epoch+1}/{epochs}, Błąd (trening): {train_loss:.4f}')"
   ]
  },
  {
   "cell_type": "code",
   "execution_count": null,
   "id": "9b115abf",
   "metadata": {},
   "outputs": [],
   "source": [
    "model2_adam.eval()\n",
    "test_loss = 0.0\n",
    "correct = 0\n",
    "total = 0\n",
    "predictions = []\n",
    "true_labels = []\n",
    "\n",
    "with torch.no_grad():\n",
    "    for inputs, labels in test_dataloader_un:\n",
    "        outputs = model2_adam(inputs)\n",
    "        loss = criterion(outputs, labels.view(-1, 1))\n",
    "        test_loss += loss.item() * inputs.size(0)\n",
    "        predicted = torch.round(outputs)\n",
    "        predictions.extend(predicted.cpu().numpy().flatten())\n",
    "        true_labels.extend(labels.cpu().numpy().flatten())\n",
    "        correct += (predicted == labels.view(-1, 1)).sum().item()\n",
    "        total += labels.size(0)\n",
    "\n",
    "test_loss /= len(test_dataloader_un.dataset)\n",
    "accuracy = correct / total\n",
    "print(f'Błąd (test): {test_loss:.4f}, Dokładność: {accuracy:.4f}')\n",
    "\n",
    "print(classification_report(true_labels, predictions))"
   ]
  }
 ],
 "metadata": {
  "kernelspec": {
   "display_name": "Python 3 (ipykernel)",
   "language": "python",
   "name": "python3"
  },
  "language_info": {
   "codemirror_mode": {
    "name": "ipython",
    "version": 3
   },
   "file_extension": ".py",
   "mimetype": "text/x-python",
   "name": "python",
   "nbconvert_exporter": "python",
   "pygments_lexer": "ipython3",
   "version": "3.11.5"
  }
 },
 "nbformat": 4,
 "nbformat_minor": 5
}
