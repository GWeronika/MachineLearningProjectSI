{
 "cells": [
  {
   "cell_type": "markdown",
   "id": "393c2fd4",
   "metadata": {},
   "source": [
    "# Rozpoznanie osób palących na podstawie ich wewnętrznego stanu biologicznego"
   ]
  },
  {
   "cell_type": "markdown",
   "id": "491e359e",
   "metadata": {},
   "source": [
    "Na podstawie zbioru: https://www.kaggle.com/datasets/kukuroo3/body-signal-of-smoking"
   ]
  },
  {
   "cell_type": "code",
   "execution_count": 1,
   "id": "530d2266",
   "metadata": {},
   "outputs": [],
   "source": [
    "import pandas as pd\n",
    "df = pd.read_csv('smoking.csv')"
   ]
  },
  {
   "cell_type": "markdown",
   "id": "fb868e2f",
   "metadata": {},
   "source": [
    "## Opis danych wejściowych"
   ]
  },
  {
   "cell_type": "markdown",
   "id": "df859680",
   "metadata": {},
   "source": [
    "Przedstawienie pierwszych pięciu wierszy zbioru danych za pomocą funkcji *head()*. Zbiór danych zawiera 27 atrybuty przedstawione poniżej."
   ]
  },
  {
   "cell_type": "code",
   "execution_count": 2,
   "id": "caf3aaef",
   "metadata": {},
   "outputs": [
    {
     "data": {
      "text/html": [
       "<div>\n",
       "<style scoped>\n",
       "    .dataframe tbody tr th:only-of-type {\n",
       "        vertical-align: middle;\n",
       "    }\n",
       "\n",
       "    .dataframe tbody tr th {\n",
       "        vertical-align: top;\n",
       "    }\n",
       "\n",
       "    .dataframe thead th {\n",
       "        text-align: right;\n",
       "    }\n",
       "</style>\n",
       "<table border=\"1\" class=\"dataframe\">\n",
       "  <thead>\n",
       "    <tr style=\"text-align: right;\">\n",
       "      <th></th>\n",
       "      <th>ID</th>\n",
       "      <th>gender</th>\n",
       "      <th>age</th>\n",
       "      <th>height(cm)</th>\n",
       "      <th>weight(kg)</th>\n",
       "      <th>waist(cm)</th>\n",
       "      <th>eyesight(left)</th>\n",
       "      <th>eyesight(right)</th>\n",
       "      <th>hearing(left)</th>\n",
       "      <th>hearing(right)</th>\n",
       "      <th>...</th>\n",
       "      <th>hemoglobin</th>\n",
       "      <th>Urine protein</th>\n",
       "      <th>serum creatinine</th>\n",
       "      <th>AST</th>\n",
       "      <th>ALT</th>\n",
       "      <th>Gtp</th>\n",
       "      <th>oral</th>\n",
       "      <th>dental caries</th>\n",
       "      <th>tartar</th>\n",
       "      <th>smoking</th>\n",
       "    </tr>\n",
       "  </thead>\n",
       "  <tbody>\n",
       "    <tr>\n",
       "      <th>0</th>\n",
       "      <td>0</td>\n",
       "      <td>F</td>\n",
       "      <td>40</td>\n",
       "      <td>155</td>\n",
       "      <td>60</td>\n",
       "      <td>81.3</td>\n",
       "      <td>1.2</td>\n",
       "      <td>1.0</td>\n",
       "      <td>1.0</td>\n",
       "      <td>1.0</td>\n",
       "      <td>...</td>\n",
       "      <td>12.9</td>\n",
       "      <td>1.0</td>\n",
       "      <td>0.7</td>\n",
       "      <td>18.0</td>\n",
       "      <td>19.0</td>\n",
       "      <td>27.0</td>\n",
       "      <td>Y</td>\n",
       "      <td>0</td>\n",
       "      <td>Y</td>\n",
       "      <td>0</td>\n",
       "    </tr>\n",
       "    <tr>\n",
       "      <th>1</th>\n",
       "      <td>1</td>\n",
       "      <td>F</td>\n",
       "      <td>40</td>\n",
       "      <td>160</td>\n",
       "      <td>60</td>\n",
       "      <td>81.0</td>\n",
       "      <td>0.8</td>\n",
       "      <td>0.6</td>\n",
       "      <td>1.0</td>\n",
       "      <td>1.0</td>\n",
       "      <td>...</td>\n",
       "      <td>12.7</td>\n",
       "      <td>1.0</td>\n",
       "      <td>0.6</td>\n",
       "      <td>22.0</td>\n",
       "      <td>19.0</td>\n",
       "      <td>18.0</td>\n",
       "      <td>Y</td>\n",
       "      <td>0</td>\n",
       "      <td>Y</td>\n",
       "      <td>0</td>\n",
       "    </tr>\n",
       "    <tr>\n",
       "      <th>2</th>\n",
       "      <td>2</td>\n",
       "      <td>M</td>\n",
       "      <td>55</td>\n",
       "      <td>170</td>\n",
       "      <td>60</td>\n",
       "      <td>80.0</td>\n",
       "      <td>0.8</td>\n",
       "      <td>0.8</td>\n",
       "      <td>1.0</td>\n",
       "      <td>1.0</td>\n",
       "      <td>...</td>\n",
       "      <td>15.8</td>\n",
       "      <td>1.0</td>\n",
       "      <td>1.0</td>\n",
       "      <td>21.0</td>\n",
       "      <td>16.0</td>\n",
       "      <td>22.0</td>\n",
       "      <td>Y</td>\n",
       "      <td>0</td>\n",
       "      <td>N</td>\n",
       "      <td>1</td>\n",
       "    </tr>\n",
       "    <tr>\n",
       "      <th>3</th>\n",
       "      <td>3</td>\n",
       "      <td>M</td>\n",
       "      <td>40</td>\n",
       "      <td>165</td>\n",
       "      <td>70</td>\n",
       "      <td>88.0</td>\n",
       "      <td>1.5</td>\n",
       "      <td>1.5</td>\n",
       "      <td>1.0</td>\n",
       "      <td>1.0</td>\n",
       "      <td>...</td>\n",
       "      <td>14.7</td>\n",
       "      <td>1.0</td>\n",
       "      <td>1.0</td>\n",
       "      <td>19.0</td>\n",
       "      <td>26.0</td>\n",
       "      <td>18.0</td>\n",
       "      <td>Y</td>\n",
       "      <td>0</td>\n",
       "      <td>Y</td>\n",
       "      <td>0</td>\n",
       "    </tr>\n",
       "    <tr>\n",
       "      <th>4</th>\n",
       "      <td>4</td>\n",
       "      <td>F</td>\n",
       "      <td>40</td>\n",
       "      <td>155</td>\n",
       "      <td>60</td>\n",
       "      <td>86.0</td>\n",
       "      <td>1.0</td>\n",
       "      <td>1.0</td>\n",
       "      <td>1.0</td>\n",
       "      <td>1.0</td>\n",
       "      <td>...</td>\n",
       "      <td>12.5</td>\n",
       "      <td>1.0</td>\n",
       "      <td>0.6</td>\n",
       "      <td>16.0</td>\n",
       "      <td>14.0</td>\n",
       "      <td>22.0</td>\n",
       "      <td>Y</td>\n",
       "      <td>0</td>\n",
       "      <td>N</td>\n",
       "      <td>0</td>\n",
       "    </tr>\n",
       "  </tbody>\n",
       "</table>\n",
       "<p>5 rows × 27 columns</p>\n",
       "</div>"
      ],
      "text/plain": [
       "   ID gender  age  height(cm)  weight(kg)  waist(cm)  eyesight(left)  \\\n",
       "0   0      F   40         155          60       81.3             1.2   \n",
       "1   1      F   40         160          60       81.0             0.8   \n",
       "2   2      M   55         170          60       80.0             0.8   \n",
       "3   3      M   40         165          70       88.0             1.5   \n",
       "4   4      F   40         155          60       86.0             1.0   \n",
       "\n",
       "   eyesight(right)  hearing(left)  hearing(right)  ...  hemoglobin  \\\n",
       "0              1.0            1.0             1.0  ...        12.9   \n",
       "1              0.6            1.0             1.0  ...        12.7   \n",
       "2              0.8            1.0             1.0  ...        15.8   \n",
       "3              1.5            1.0             1.0  ...        14.7   \n",
       "4              1.0            1.0             1.0  ...        12.5   \n",
       "\n",
       "   Urine protein  serum creatinine   AST   ALT   Gtp  oral  dental caries  \\\n",
       "0            1.0               0.7  18.0  19.0  27.0     Y              0   \n",
       "1            1.0               0.6  22.0  19.0  18.0     Y              0   \n",
       "2            1.0               1.0  21.0  16.0  22.0     Y              0   \n",
       "3            1.0               1.0  19.0  26.0  18.0     Y              0   \n",
       "4            1.0               0.6  16.0  14.0  22.0     Y              0   \n",
       "\n",
       "   tartar  smoking  \n",
       "0       Y        0  \n",
       "1       Y        0  \n",
       "2       N        1  \n",
       "3       Y        0  \n",
       "4       N        0  \n",
       "\n",
       "[5 rows x 27 columns]"
      ]
     },
     "execution_count": 2,
     "metadata": {},
     "output_type": "execute_result"
    }
   ],
   "source": [
    "df.head()"
   ]
  },
  {
   "cell_type": "markdown",
   "id": "4bc99385",
   "metadata": {},
   "source": [
    "Zapoznanie się z krótkim opisem danych za pomocą funkcji *info()*. Funkcja ta ukazuje ogólne informacje o danych, takie jak liczba wierszy, typy danych oraz ewentualne brakujące wartości."
   ]
  },
  {
   "cell_type": "code",
   "execution_count": 3,
   "id": "b3aa50a7",
   "metadata": {},
   "outputs": [
    {
     "name": "stdout",
     "output_type": "stream",
     "text": [
      "<class 'pandas.core.frame.DataFrame'>\n",
      "RangeIndex: 55692 entries, 0 to 55691\n",
      "Data columns (total 27 columns):\n",
      " #   Column               Non-Null Count  Dtype  \n",
      "---  ------               --------------  -----  \n",
      " 0   ID                   55692 non-null  int64  \n",
      " 1   gender               55692 non-null  object \n",
      " 2   age                  55692 non-null  int64  \n",
      " 3   height(cm)           55692 non-null  int64  \n",
      " 4   weight(kg)           55692 non-null  int64  \n",
      " 5   waist(cm)            55692 non-null  float64\n",
      " 6   eyesight(left)       55692 non-null  float64\n",
      " 7   eyesight(right)      55692 non-null  float64\n",
      " 8   hearing(left)        55692 non-null  float64\n",
      " 9   hearing(right)       55692 non-null  float64\n",
      " 10  systolic             55692 non-null  float64\n",
      " 11  relaxation           55692 non-null  float64\n",
      " 12  fasting blood sugar  55692 non-null  float64\n",
      " 13  Cholesterol          55692 non-null  float64\n",
      " 14  triglyceride         55692 non-null  float64\n",
      " 15  HDL                  55692 non-null  float64\n",
      " 16  LDL                  55692 non-null  float64\n",
      " 17  hemoglobin           55692 non-null  float64\n",
      " 18  Urine protein        55692 non-null  float64\n",
      " 19  serum creatinine     55692 non-null  float64\n",
      " 20  AST                  55692 non-null  float64\n",
      " 21  ALT                  55692 non-null  float64\n",
      " 22  Gtp                  55692 non-null  float64\n",
      " 23  oral                 55692 non-null  object \n",
      " 24  dental caries        55692 non-null  int64  \n",
      " 25  tartar               55692 non-null  object \n",
      " 26  smoking              55692 non-null  int64  \n",
      "dtypes: float64(18), int64(6), object(3)\n",
      "memory usage: 11.5+ MB\n"
     ]
    }
   ],
   "source": [
    "df.info()"
   ]
  },
  {
   "cell_type": "markdown",
   "id": "931fb5e0",
   "metadata": {},
   "source": [
    "Zbiór składa się z 55 692 przykładów. Większość atrybutów ma wartości typu numerycznego (int64 i float64).\n",
    "\n",
    "Wyjątek stanowią trzy pola: gender - opisujące płeć badanego pacjenta, oral - opisujące stan jamy ustnej pacjenta, tartar - opisujące czy pacjent posiada kamień nazębny. Typem tych atrybutów jest object, czyli nadrzędna klasa dla wszystkich obiektów tekstowych stworzonych w Pythonie.\n",
    "\n",
    "Wartości tych trzech pól są powtarzalne, co oznacza, że stanowią one wartości kategorialne.\n",
    "\n",
    "Warto więc sprawdzić powtarzalność tych danych."
   ]
  },
  {
   "cell_type": "code",
   "execution_count": 4,
   "id": "5e272e8e",
   "metadata": {},
   "outputs": [
    {
     "data": {
      "text/plain": [
       "gender\n",
       "M    35401\n",
       "F    20291\n",
       "Name: count, dtype: int64"
      ]
     },
     "execution_count": 4,
     "metadata": {},
     "output_type": "execute_result"
    }
   ],
   "source": [
    "df[\"gender\"].value_counts()"
   ]
  },
  {
   "cell_type": "code",
   "execution_count": 5,
   "id": "8a177308",
   "metadata": {},
   "outputs": [
    {
     "data": {
      "text/plain": [
       "oral\n",
       "Y    55692\n",
       "Name: count, dtype: int64"
      ]
     },
     "execution_count": 5,
     "metadata": {},
     "output_type": "execute_result"
    }
   ],
   "source": [
    "df[\"oral\"].value_counts()"
   ]
  },
  {
   "cell_type": "code",
   "execution_count": 6,
   "id": "e08b2c39",
   "metadata": {},
   "outputs": [
    {
     "data": {
      "text/plain": [
       "tartar\n",
       "Y    30940\n",
       "N    24752\n",
       "Name: count, dtype: int64"
      ]
     },
     "execution_count": 6,
     "metadata": {},
     "output_type": "execute_result"
    }
   ],
   "source": [
    "df[\"tartar\"].value_counts()"
   ]
  },
  {
   "cell_type": "markdown",
   "id": "8e4da98f",
   "metadata": {},
   "source": [
    "Zauważyć można, że zarówno wartości atrybutu *gender*, jak i *tartar* są wartościami typu binarnego (zawierają tylko dwie kategorie). Natomiast wartość atrybutu *oral* posiada tylko jedną kategorię dla wszystkich wierszy, co prowadzi do wniosków, że można usunąć te kolumnę.\n",
    "\n",
    "Oba binarne atrybuty zostaną więc, za pomocą funkcji *replace()*, przekształcone na wartość binarną, gdzie\n",
    "- dla *gender*: 0-F, 1-M,\n",
    "- dla *tartar*: 0-N, 1-Y."
   ]
  },
  {
   "cell_type": "code",
   "execution_count": 7,
   "id": "39f49984",
   "metadata": {},
   "outputs": [],
   "source": [
    "from sklearn.preprocessing import OneHotEncoder\n",
    "\n",
    "encoder = OneHotEncoder(sparse_output=False, drop='first')\n",
    "encoded_data = encoder.fit_transform(df[['gender', 'oral', 'tartar']])\n",
    "\n",
    "encoded_df = pd.DataFrame(encoded_data, columns=encoder.get_feature_names_out(['gender', 'oral', 'tartar']))\n",
    "\n",
    "df.drop(['gender', 'oral', 'tartar'], axis=1, inplace=True)\n",
    "\n",
    "df = pd.concat([df.reset_index(drop=True), encoded_df], axis=1)"
   ]
  },
  {
   "cell_type": "markdown",
   "id": "d7bde46f",
   "metadata": {},
   "source": [
    "Po wykonaniu tej operacji, dla obu kolumn zostały utworzone nowe kolumny binarne. Każda z tych kolumn reprezentuje jedną z unikalnych wartości, a wiersze zawierają wartości 0 lub 1."
   ]
  },
  {
   "cell_type": "markdown",
   "id": "f5351641",
   "metadata": {},
   "source": [
    "## Analiza eksploracyjna"
   ]
  },
  {
   "cell_type": "markdown",
   "id": "351a0a98",
   "metadata": {},
   "source": [
    "Analiza wszystkich pól numerycznych metodą *describe()*, która daje możliwość podsumowania atrybutów numerycznych. Obejmuje ona średnie, odchylenia standardowe, minimum, maksimum zbioru i inne wartości opisujące dane."
   ]
  },
  {
   "cell_type": "code",
   "execution_count": 8,
   "id": "13761e05",
   "metadata": {},
   "outputs": [
    {
     "data": {
      "text/html": [
       "<div>\n",
       "<style scoped>\n",
       "    .dataframe tbody tr th:only-of-type {\n",
       "        vertical-align: middle;\n",
       "    }\n",
       "\n",
       "    .dataframe tbody tr th {\n",
       "        vertical-align: top;\n",
       "    }\n",
       "\n",
       "    .dataframe thead th {\n",
       "        text-align: right;\n",
       "    }\n",
       "</style>\n",
       "<table border=\"1\" class=\"dataframe\">\n",
       "  <thead>\n",
       "    <tr style=\"text-align: right;\">\n",
       "      <th></th>\n",
       "      <th>count</th>\n",
       "      <th>mean</th>\n",
       "      <th>std</th>\n",
       "      <th>min</th>\n",
       "      <th>25%</th>\n",
       "      <th>50%</th>\n",
       "      <th>75%</th>\n",
       "      <th>max</th>\n",
       "    </tr>\n",
       "  </thead>\n",
       "  <tbody>\n",
       "    <tr>\n",
       "      <th>ID</th>\n",
       "      <td>55692.0</td>\n",
       "      <td>27845.500000</td>\n",
       "      <td>16077.039933</td>\n",
       "      <td>0.0</td>\n",
       "      <td>13922.75</td>\n",
       "      <td>27845.5</td>\n",
       "      <td>41768.25</td>\n",
       "      <td>55691.0</td>\n",
       "    </tr>\n",
       "    <tr>\n",
       "      <th>age</th>\n",
       "      <td>55692.0</td>\n",
       "      <td>44.182917</td>\n",
       "      <td>12.071418</td>\n",
       "      <td>20.0</td>\n",
       "      <td>40.00</td>\n",
       "      <td>40.0</td>\n",
       "      <td>55.00</td>\n",
       "      <td>85.0</td>\n",
       "    </tr>\n",
       "    <tr>\n",
       "      <th>height(cm)</th>\n",
       "      <td>55692.0</td>\n",
       "      <td>164.649321</td>\n",
       "      <td>9.194597</td>\n",
       "      <td>130.0</td>\n",
       "      <td>160.00</td>\n",
       "      <td>165.0</td>\n",
       "      <td>170.00</td>\n",
       "      <td>190.0</td>\n",
       "    </tr>\n",
       "    <tr>\n",
       "      <th>weight(kg)</th>\n",
       "      <td>55692.0</td>\n",
       "      <td>65.864936</td>\n",
       "      <td>12.820306</td>\n",
       "      <td>30.0</td>\n",
       "      <td>55.00</td>\n",
       "      <td>65.0</td>\n",
       "      <td>75.00</td>\n",
       "      <td>135.0</td>\n",
       "    </tr>\n",
       "    <tr>\n",
       "      <th>waist(cm)</th>\n",
       "      <td>55692.0</td>\n",
       "      <td>82.046418</td>\n",
       "      <td>9.274223</td>\n",
       "      <td>51.0</td>\n",
       "      <td>76.00</td>\n",
       "      <td>82.0</td>\n",
       "      <td>88.00</td>\n",
       "      <td>129.0</td>\n",
       "    </tr>\n",
       "    <tr>\n",
       "      <th>eyesight(left)</th>\n",
       "      <td>55692.0</td>\n",
       "      <td>1.012623</td>\n",
       "      <td>0.486873</td>\n",
       "      <td>0.1</td>\n",
       "      <td>0.80</td>\n",
       "      <td>1.0</td>\n",
       "      <td>1.20</td>\n",
       "      <td>9.9</td>\n",
       "    </tr>\n",
       "    <tr>\n",
       "      <th>eyesight(right)</th>\n",
       "      <td>55692.0</td>\n",
       "      <td>1.007443</td>\n",
       "      <td>0.485964</td>\n",
       "      <td>0.1</td>\n",
       "      <td>0.80</td>\n",
       "      <td>1.0</td>\n",
       "      <td>1.20</td>\n",
       "      <td>9.9</td>\n",
       "    </tr>\n",
       "    <tr>\n",
       "      <th>hearing(left)</th>\n",
       "      <td>55692.0</td>\n",
       "      <td>1.025587</td>\n",
       "      <td>0.157902</td>\n",
       "      <td>1.0</td>\n",
       "      <td>1.00</td>\n",
       "      <td>1.0</td>\n",
       "      <td>1.00</td>\n",
       "      <td>2.0</td>\n",
       "    </tr>\n",
       "    <tr>\n",
       "      <th>hearing(right)</th>\n",
       "      <td>55692.0</td>\n",
       "      <td>1.026144</td>\n",
       "      <td>0.159564</td>\n",
       "      <td>1.0</td>\n",
       "      <td>1.00</td>\n",
       "      <td>1.0</td>\n",
       "      <td>1.00</td>\n",
       "      <td>2.0</td>\n",
       "    </tr>\n",
       "    <tr>\n",
       "      <th>systolic</th>\n",
       "      <td>55692.0</td>\n",
       "      <td>121.494218</td>\n",
       "      <td>13.675989</td>\n",
       "      <td>71.0</td>\n",
       "      <td>112.00</td>\n",
       "      <td>120.0</td>\n",
       "      <td>130.00</td>\n",
       "      <td>240.0</td>\n",
       "    </tr>\n",
       "    <tr>\n",
       "      <th>relaxation</th>\n",
       "      <td>55692.0</td>\n",
       "      <td>76.004830</td>\n",
       "      <td>9.679278</td>\n",
       "      <td>40.0</td>\n",
       "      <td>70.00</td>\n",
       "      <td>76.0</td>\n",
       "      <td>82.00</td>\n",
       "      <td>146.0</td>\n",
       "    </tr>\n",
       "    <tr>\n",
       "      <th>fasting blood sugar</th>\n",
       "      <td>55692.0</td>\n",
       "      <td>99.312325</td>\n",
       "      <td>20.795591</td>\n",
       "      <td>46.0</td>\n",
       "      <td>89.00</td>\n",
       "      <td>96.0</td>\n",
       "      <td>104.00</td>\n",
       "      <td>505.0</td>\n",
       "    </tr>\n",
       "    <tr>\n",
       "      <th>Cholesterol</th>\n",
       "      <td>55692.0</td>\n",
       "      <td>196.901422</td>\n",
       "      <td>36.297940</td>\n",
       "      <td>55.0</td>\n",
       "      <td>172.00</td>\n",
       "      <td>195.0</td>\n",
       "      <td>220.00</td>\n",
       "      <td>445.0</td>\n",
       "    </tr>\n",
       "    <tr>\n",
       "      <th>triglyceride</th>\n",
       "      <td>55692.0</td>\n",
       "      <td>126.665697</td>\n",
       "      <td>71.639817</td>\n",
       "      <td>8.0</td>\n",
       "      <td>74.00</td>\n",
       "      <td>108.0</td>\n",
       "      <td>160.00</td>\n",
       "      <td>999.0</td>\n",
       "    </tr>\n",
       "    <tr>\n",
       "      <th>HDL</th>\n",
       "      <td>55692.0</td>\n",
       "      <td>57.290347</td>\n",
       "      <td>14.738963</td>\n",
       "      <td>4.0</td>\n",
       "      <td>47.00</td>\n",
       "      <td>55.0</td>\n",
       "      <td>66.00</td>\n",
       "      <td>618.0</td>\n",
       "    </tr>\n",
       "    <tr>\n",
       "      <th>LDL</th>\n",
       "      <td>55692.0</td>\n",
       "      <td>114.964501</td>\n",
       "      <td>40.926476</td>\n",
       "      <td>1.0</td>\n",
       "      <td>92.00</td>\n",
       "      <td>113.0</td>\n",
       "      <td>136.00</td>\n",
       "      <td>1860.0</td>\n",
       "    </tr>\n",
       "    <tr>\n",
       "      <th>hemoglobin</th>\n",
       "      <td>55692.0</td>\n",
       "      <td>14.622592</td>\n",
       "      <td>1.564498</td>\n",
       "      <td>4.9</td>\n",
       "      <td>13.60</td>\n",
       "      <td>14.8</td>\n",
       "      <td>15.80</td>\n",
       "      <td>21.1</td>\n",
       "    </tr>\n",
       "    <tr>\n",
       "      <th>Urine protein</th>\n",
       "      <td>55692.0</td>\n",
       "      <td>1.087212</td>\n",
       "      <td>0.404882</td>\n",
       "      <td>1.0</td>\n",
       "      <td>1.00</td>\n",
       "      <td>1.0</td>\n",
       "      <td>1.00</td>\n",
       "      <td>6.0</td>\n",
       "    </tr>\n",
       "    <tr>\n",
       "      <th>serum creatinine</th>\n",
       "      <td>55692.0</td>\n",
       "      <td>0.885738</td>\n",
       "      <td>0.221524</td>\n",
       "      <td>0.1</td>\n",
       "      <td>0.80</td>\n",
       "      <td>0.9</td>\n",
       "      <td>1.00</td>\n",
       "      <td>11.6</td>\n",
       "    </tr>\n",
       "    <tr>\n",
       "      <th>AST</th>\n",
       "      <td>55692.0</td>\n",
       "      <td>26.182935</td>\n",
       "      <td>19.355460</td>\n",
       "      <td>6.0</td>\n",
       "      <td>19.00</td>\n",
       "      <td>23.0</td>\n",
       "      <td>28.00</td>\n",
       "      <td>1311.0</td>\n",
       "    </tr>\n",
       "    <tr>\n",
       "      <th>ALT</th>\n",
       "      <td>55692.0</td>\n",
       "      <td>27.036037</td>\n",
       "      <td>30.947853</td>\n",
       "      <td>1.0</td>\n",
       "      <td>15.00</td>\n",
       "      <td>21.0</td>\n",
       "      <td>31.00</td>\n",
       "      <td>2914.0</td>\n",
       "    </tr>\n",
       "    <tr>\n",
       "      <th>Gtp</th>\n",
       "      <td>55692.0</td>\n",
       "      <td>39.952201</td>\n",
       "      <td>50.290539</td>\n",
       "      <td>1.0</td>\n",
       "      <td>17.00</td>\n",
       "      <td>25.0</td>\n",
       "      <td>43.00</td>\n",
       "      <td>999.0</td>\n",
       "    </tr>\n",
       "    <tr>\n",
       "      <th>dental caries</th>\n",
       "      <td>55692.0</td>\n",
       "      <td>0.213334</td>\n",
       "      <td>0.409665</td>\n",
       "      <td>0.0</td>\n",
       "      <td>0.00</td>\n",
       "      <td>0.0</td>\n",
       "      <td>0.00</td>\n",
       "      <td>1.0</td>\n",
       "    </tr>\n",
       "    <tr>\n",
       "      <th>smoking</th>\n",
       "      <td>55692.0</td>\n",
       "      <td>0.367288</td>\n",
       "      <td>0.482070</td>\n",
       "      <td>0.0</td>\n",
       "      <td>0.00</td>\n",
       "      <td>0.0</td>\n",
       "      <td>1.00</td>\n",
       "      <td>1.0</td>\n",
       "    </tr>\n",
       "    <tr>\n",
       "      <th>gender_M</th>\n",
       "      <td>55692.0</td>\n",
       "      <td>0.635657</td>\n",
       "      <td>0.481250</td>\n",
       "      <td>0.0</td>\n",
       "      <td>0.00</td>\n",
       "      <td>1.0</td>\n",
       "      <td>1.00</td>\n",
       "      <td>1.0</td>\n",
       "    </tr>\n",
       "    <tr>\n",
       "      <th>tartar_Y</th>\n",
       "      <td>55692.0</td>\n",
       "      <td>0.555556</td>\n",
       "      <td>0.496908</td>\n",
       "      <td>0.0</td>\n",
       "      <td>0.00</td>\n",
       "      <td>1.0</td>\n",
       "      <td>1.00</td>\n",
       "      <td>1.0</td>\n",
       "    </tr>\n",
       "  </tbody>\n",
       "</table>\n",
       "</div>"
      ],
      "text/plain": [
       "                       count          mean           std    min       25%  \\\n",
       "ID                   55692.0  27845.500000  16077.039933    0.0  13922.75   \n",
       "age                  55692.0     44.182917     12.071418   20.0     40.00   \n",
       "height(cm)           55692.0    164.649321      9.194597  130.0    160.00   \n",
       "weight(kg)           55692.0     65.864936     12.820306   30.0     55.00   \n",
       "waist(cm)            55692.0     82.046418      9.274223   51.0     76.00   \n",
       "eyesight(left)       55692.0      1.012623      0.486873    0.1      0.80   \n",
       "eyesight(right)      55692.0      1.007443      0.485964    0.1      0.80   \n",
       "hearing(left)        55692.0      1.025587      0.157902    1.0      1.00   \n",
       "hearing(right)       55692.0      1.026144      0.159564    1.0      1.00   \n",
       "systolic             55692.0    121.494218     13.675989   71.0    112.00   \n",
       "relaxation           55692.0     76.004830      9.679278   40.0     70.00   \n",
       "fasting blood sugar  55692.0     99.312325     20.795591   46.0     89.00   \n",
       "Cholesterol          55692.0    196.901422     36.297940   55.0    172.00   \n",
       "triglyceride         55692.0    126.665697     71.639817    8.0     74.00   \n",
       "HDL                  55692.0     57.290347     14.738963    4.0     47.00   \n",
       "LDL                  55692.0    114.964501     40.926476    1.0     92.00   \n",
       "hemoglobin           55692.0     14.622592      1.564498    4.9     13.60   \n",
       "Urine protein        55692.0      1.087212      0.404882    1.0      1.00   \n",
       "serum creatinine     55692.0      0.885738      0.221524    0.1      0.80   \n",
       "AST                  55692.0     26.182935     19.355460    6.0     19.00   \n",
       "ALT                  55692.0     27.036037     30.947853    1.0     15.00   \n",
       "Gtp                  55692.0     39.952201     50.290539    1.0     17.00   \n",
       "dental caries        55692.0      0.213334      0.409665    0.0      0.00   \n",
       "smoking              55692.0      0.367288      0.482070    0.0      0.00   \n",
       "gender_M             55692.0      0.635657      0.481250    0.0      0.00   \n",
       "tartar_Y             55692.0      0.555556      0.496908    0.0      0.00   \n",
       "\n",
       "                         50%       75%      max  \n",
       "ID                   27845.5  41768.25  55691.0  \n",
       "age                     40.0     55.00     85.0  \n",
       "height(cm)             165.0    170.00    190.0  \n",
       "weight(kg)              65.0     75.00    135.0  \n",
       "waist(cm)               82.0     88.00    129.0  \n",
       "eyesight(left)           1.0      1.20      9.9  \n",
       "eyesight(right)          1.0      1.20      9.9  \n",
       "hearing(left)            1.0      1.00      2.0  \n",
       "hearing(right)           1.0      1.00      2.0  \n",
       "systolic               120.0    130.00    240.0  \n",
       "relaxation              76.0     82.00    146.0  \n",
       "fasting blood sugar     96.0    104.00    505.0  \n",
       "Cholesterol            195.0    220.00    445.0  \n",
       "triglyceride           108.0    160.00    999.0  \n",
       "HDL                     55.0     66.00    618.0  \n",
       "LDL                    113.0    136.00   1860.0  \n",
       "hemoglobin              14.8     15.80     21.1  \n",
       "Urine protein            1.0      1.00      6.0  \n",
       "serum creatinine         0.9      1.00     11.6  \n",
       "AST                     23.0     28.00   1311.0  \n",
       "ALT                     21.0     31.00   2914.0  \n",
       "Gtp                     25.0     43.00    999.0  \n",
       "dental caries            0.0      0.00      1.0  \n",
       "smoking                  0.0      1.00      1.0  \n",
       "gender_M                 1.0      1.00      1.0  \n",
       "tartar_Y                 1.0      1.00      1.0  "
      ]
     },
     "execution_count": 8,
     "metadata": {},
     "output_type": "execute_result"
    }
   ],
   "source": [
    "df.describe().T"
   ]
  },
  {
   "cell_type": "markdown",
   "id": "d285ce6d",
   "metadata": {},
   "source": [
    "Z wywołania funkcji *describe()* wynika, że dla każdej kolumny istnieją 55692 niepuste wartości, co oznacza, że w zbiorze nie ma wartości pustych dla żadnej kolumny.\n",
    "\n",
    "Na podstawie tych wartości można zauważyć, że odchylenia standardowe różnią się dla różnych cech, co sugeruje, że dane nie zostały ustandaryzowane. Średnie wartości różnią się również dla różnych cech, co oznacza, że dane nie zostały znormalizowane. Może być to spowodowane różnicami w jednostkach, w jakich wyrażane są dane oraz zakresach między różnymi kolumnami."
   ]
  },
  {
   "cell_type": "markdown",
   "id": "b94f8805",
   "metadata": {},
   "source": [
    "Usuwanie outlierów"
   ]
  },
  {
   "cell_type": "code",
   "execution_count": 9,
   "id": "d3670a14",
   "metadata": {},
   "outputs": [
    {
     "data": {
      "image/png": "[encoded data removed]",
      "text/plain": [
       "<Figure size 2000x2000 with 30 Axes>"
      ]
     },
     "metadata": {},
     "output_type": "display_data"
    }
   ],
   "source": [
    "df.hist(figsize = (20, 20), bins = 12, legend = False);"
   ]
  },
  {
   "cell_type": "markdown",
   "id": "c4db0ce3",
   "metadata": {},
   "source": [
    "# Analiza etykiety"
   ]
  },
  {
   "cell_type": "markdown",
   "id": "b66f7bd9",
   "metadata": {},
   "source": [
    "Celem przewidywań jest kolumna *smoking*, przypisująca osobę o danych parametrach biologicznych do jednej z dwóch kategorii (pali albo nie pali).\n",
    "\n",
    "Pracując z problemem klasyfikacji, warto sprawdzić, jak reprezentowane są dane w kolumnie etykiety."
   ]
  },
  {
   "cell_type": "code",
   "execution_count": 10,
   "id": "8cac14fc",
   "metadata": {},
   "outputs": [
    {
     "data": {
      "image/png": "[encoded data removed]",
      "text/plain": [
       "<Figure size 600x400 with 1 Axes>"
      ]
     },
     "metadata": {},
     "output_type": "display_data"
    }
   ],
   "source": [
    "import matplotlib.pyplot as plt\n",
    "\n",
    "target_dis = df['smoking'].value_counts()\n",
    "plt.figure(figsize=(6, 4))\n",
    "target_dis.plot(kind='pie', labels=['Niepalący', 'Palący'], autopct='%1.1f%%', colors=['purple', 'orange'])\n",
    "plt.title('Rozkład klas')\n",
    "plt.ylabel('')\n",
    "\n",
    "plt.legend(loc='upper right')\n",
    "\n",
    "plt.show()"
   ]
  },
  {
   "cell_type": "markdown",
   "id": "88071517",
   "metadata": {},
   "source": [
    "Zauważyć można, że większość, bo aż 2/3 badanych pacjentów jest niepaląca. Kolumna ta jest niezrównoważona, ponieważ jedna klasa występuje znacznie częściej niż druga, co wpływa na wydajność modelu klasyfikacyjnego.\n",
    "\n",
    "Z racji 55k danych w zbiorze *smoking.csv* możemy sobie pozwolić zarówno na metodę oversamplingu, jak i metodę undersamplingu. W przypadku tego wzoru, z uwagi na jego niewielki rozmiar, może jednak okazać się podejście oversamplingu, czyli duplikowania wierszy klasy, której jest w zbiorze zdecydowanie mniej."
   ]
  },
  {
   "cell_type": "markdown",
   "id": "78b47a93",
   "metadata": {},
   "source": [
    "## Oversampling"
   ]
  },
  {
   "cell_type": "markdown",
   "id": "d8658556",
   "metadata": {},
   "source": [
    "Oversampling to technika mająca na celu zduplikowanie losowych wierszy klasy mniejszościowej. W wyniku oversamplingu liczba danych w zbiorze zwiększa się.\n",
    "\n",
    "Aby zrównoważyć obie te grupy użyta zostanie metoda $RandomOverSampler$ z biblioteki *imbalanced-learn*, która polega na losowym duplikowaniu próbek z klasy mniejszościowej."
   ]
  },
  {
   "cell_type": "code",
   "execution_count": 11,
   "id": "bd5e5597",
   "metadata": {},
   "outputs": [],
   "source": [
    "from imblearn.over_sampling import RandomOverSampler\n",
    "\n",
    "X = df.drop('smoking', axis=1)\n",
    "y = df['smoking'].values.reshape(-1, 1)\n",
    "\n",
    "over_sampler = RandomOverSampler(random_state=42)\n",
    "X_res, y_res = over_sampler.fit_resample(X, y)"
   ]
  },
  {
   "cell_type": "markdown",
   "id": "1994458f",
   "metadata": {},
   "source": [
    "Poniższy kod pokazuje, jaki podział etykiet występuje przed oversamplingiem i po wykonaniu metody $RandomOverSampler$."
   ]
  },
  {
   "cell_type": "code",
   "execution_count": 12,
   "id": "2c6d7546",
   "metadata": {},
   "outputs": [
    {
     "name": "stdout",
     "output_type": "stream",
     "text": [
      "Liczba próbek przed oversamplingiem:\n",
      "0    35237\n",
      "1    20455\n",
      "Name: count, dtype: int64\n",
      "\n",
      "Liczba próbek po oversamplingu:\n",
      "0    35237\n",
      "1    35237\n",
      "Name: count, dtype: int64\n"
     ]
    }
   ],
   "source": [
    "y_series = pd.Series(y.flatten())\n",
    "y_res_series = pd.Series(y_res.flatten())\n",
    "\n",
    "print(\"Liczba próbek przed oversamplingiem:\")\n",
    "print(y_series.value_counts())   \n",
    "\n",
    "print(\"\\nLiczba próbek po oversamplingu:\")\n",
    "print(y_res_series.value_counts())\n",
    "\n",
    "df_resampled = pd.concat([pd.DataFrame(X_res), pd.DataFrame(y_res, columns=['smoking'])], axis=1)"
   ]
  },
  {
   "cell_type": "markdown",
   "id": "8177fbe9",
   "metadata": {},
   "source": [
    "A tak w tej chwilii wartości kolumny etykiet rozkładają się na wykresie kołowym."
   ]
  },
  {
   "cell_type": "code",
   "execution_count": 13,
   "id": "dcd0f819",
   "metadata": {},
   "outputs": [
    {
     "data": {
      "image/png": "[encoded data removed]",
      "text/plain": [
       "<Figure size 600x400 with 1 Axes>"
      ]
     },
     "metadata": {},
     "output_type": "display_data"
    }
   ],
   "source": [
    "target_dis_resampled = df_resampled['smoking'].value_counts()\n",
    "plt.figure(figsize=(6, 4))\n",
    "target_dis_resampled.plot(kind='pie', labels=['Niepalący', 'Palący'], autopct='%1.1f%%', colors=['purple', 'orange'])\n",
    "plt.title('Rozkład klas')\n",
    "plt.ylabel('')\n",
    "\n",
    "plt.legend(loc='upper right')\n",
    "\n",
    "plt.show()"
   ]
  },
  {
   "cell_type": "markdown",
   "id": "578f2e19",
   "metadata": {},
   "source": [
    "Zbiór danych zostanie teraz podzielony na dwie części: cechy i etykiety. \n",
    "Cechy to kolumny, na podstawie których model będzie przypisywał obiekt (w tym przypadku badanego pacjenta) do jednej z dwóch kategorii. Należą  do nich wszystkie kolumny oprócz kolumn 'smoking', 'ID' (identyfikator to nieistotna cecha) oraz 'oral' atrybut, którego wartości przybierają jedynie jedną wartość (cecha, która nie daje żadnej istotnej informacji). \n",
    "Etykiety (inaczej targety) to wartości które chcemy przewidzieć. Targetem więc będzie kolumna 'smoking', czyli informacja o tym czy dany pacjent jest palący."
   ]
  },
  {
   "cell_type": "code",
   "execution_count": 14,
   "id": "134e9718",
   "metadata": {},
   "outputs": [],
   "source": [
    "data = df_resampled.drop(['smoking', 'ID'], axis = 1)\n",
    "target = df_resampled['smoking']"
   ]
  },
  {
   "cell_type": "markdown",
   "id": "f33b1909",
   "metadata": {},
   "source": [
    "Z wcześniejszego wywołania funkcji *describe()* wynika, że dane numeryczne są nieustandaryzowane (standardowe odchylenia nie są równe 0). Możemy to zaobserwować poniżej."
   ]
  },
  {
   "cell_type": "code",
   "execution_count": 15,
   "id": "c211ebbb",
   "metadata": {},
   "outputs": [
    {
     "name": "stdout",
     "output_type": "stream",
     "text": [
      "Średnia\n",
      "age                     43.621406\n",
      "height(cm)             165.649034\n",
      "weight(kg)              66.931776\n",
      "waist(cm)               82.629215\n",
      "eyesight(left)           1.020481\n",
      "eyesight(right)          1.016012\n",
      "hearing(left)            1.024392\n",
      "hearing(right)           1.025187\n",
      "systolic               121.810682\n",
      "relaxation              76.323155\n",
      "fasting blood sugar     99.882680\n",
      "Cholesterol            196.712802\n",
      "triglyceride           131.705962\n",
      "HDL                     56.581917\n",
      "LDL                    114.497432\n",
      "hemoglobin              14.797178\n",
      "Urine protein            1.089210\n",
      "serum creatinine         0.898926\n",
      "AST                     26.534438\n",
      "ALT                     27.902333\n",
      "Gtp                     43.361410\n",
      "dental caries            0.225232\n",
      "gender_M                 0.703891\n",
      "tartar_Y                 0.568806\n",
      "dtype: float64\n",
      "\n",
      "Standardowe odchylenie\n",
      "age                    11.987445\n",
      "height(cm)              8.955666\n",
      "weight(kg)             12.817178\n",
      "waist(cm)               9.227103\n",
      "eyesight(left)          0.483686\n",
      "eyesight(right)         0.482555\n",
      "hearing(left)           0.154264\n",
      "hearing(right)          0.156693\n",
      "systolic               13.597845\n",
      "relaxation              9.681197\n",
      "fasting blood sugar    21.692508\n",
      "Cholesterol            36.325697\n",
      "triglyceride           73.778310\n",
      "HDL                    14.743415\n",
      "LDL                    40.811215\n",
      "hemoglobin              1.522371\n",
      "Urine protein           0.412065\n",
      "serum creatinine        0.215462\n",
      "AST                    19.532766\n",
      "ALT                    30.294936\n",
      "Gtp                    54.207622\n",
      "dental caries           0.417738\n",
      "gender_M                0.456543\n",
      "tartar_Y                0.495247\n",
      "dtype: float64\n"
     ]
    }
   ],
   "source": [
    "numeric_data = data.select_dtypes(include='number')\n",
    "\n",
    "print(\"Średnia\")\n",
    "print(numeric_data.mean(axis=0))\n",
    "print(\"\\nStandardowe odchylenie\")\n",
    "print(numeric_data.std(axis=0))"
   ]
  },
  {
   "cell_type": "markdown",
   "id": "aecf9731",
   "metadata": {},
   "source": [
    "Z powyższych danych możemy się przekonać, że dane numeryczne nie są ustandaryzowane. Za pomocą funkcji fit_transform z biblioteki sklearn.preprocessing standaryzujemy dane, aby uzyskać odchylenie standardowe równe 1."
   ]
  },
  {
   "cell_type": "code",
   "execution_count": 16,
   "id": "970af695",
   "metadata": {},
   "outputs": [
    {
     "name": "stdout",
     "output_type": "stream",
     "text": [
      "Średnia\n",
      "[ 2.45202477e-16 -1.38410345e-15  4.61367818e-16  5.45252876e-16\n",
      " -2.00840186e-16  2.16165341e-16 -3.86758512e-16 -3.08317917e-16\n",
      " -1.09695845e-16 -7.25928385e-16 -1.93580903e-17  2.44194243e-16\n",
      " -5.48479224e-17  1.74222812e-16 -1.02436561e-16  1.96807251e-15\n",
      "  1.14132074e-16  5.00083998e-16 -1.20988064e-18  3.22634838e-18\n",
      "  4.19425289e-17  1.93580903e-17  6.45269675e-17 -4.03293547e-17]\n",
      "Standardowe odchylenie\n",
      "[1. 1. 1. 1. 1. 1. 1. 1. 1. 1. 1. 1. 1. 1. 1. 1. 1. 1. 1. 1. 1. 1. 1. 1.]\n"
     ]
    }
   ],
   "source": [
    "from sklearn.preprocessing import StandardScaler\n",
    "scaler = StandardScaler()\n",
    "scaled_data = scaler.fit_transform(numeric_data)\n",
    "\n",
    "print(\"Średnia\")\n",
    "print(scaled_data.mean(axis=0))\n",
    "print(\"Standardowe odchylenie\")\n",
    "print(scaled_data.std(axis=0))"
   ]
  },
  {
   "cell_type": "markdown",
   "id": "8830df38",
   "metadata": {},
   "source": [
    "Po przeskalowaniu danych otrzymaliśmy ustandaryzowane dane numeryczne. Można to stwierdzić obserwując, że standardowe odchylenie we wszystkich przypadkach wynosi 1."
   ]
  },
  {
   "cell_type": "markdown",
   "id": "1ed2f6f6",
   "metadata": {},
   "source": [
    "## Podział danych"
   ]
  },
  {
   "cell_type": "markdown",
   "id": "cac593e1",
   "metadata": {},
   "source": [
    "Przygotowane i ustandaryzowane dane zostaną nastepnie podzielone na zbiór treningowy i zbiór testowy. Zbiór treningowy zawiera 80% danych całego zbioru, zbiór testowy 20%. Dzięki ustawieniu parametru random_state zapewnione jest, że dane, przy każdym uruchomieniu, będą podzielone na te same zbiory."
   ]
  },
  {
   "cell_type": "code",
   "execution_count": 17,
   "id": "74844ce3",
   "metadata": {},
   "outputs": [],
   "source": [
    "from sklearn.model_selection import train_test_split\n",
    "\n",
    "X_train, X_test, y_train, y_test = train_test_split(scaled_data, target, test_size=0.2, random_state=42)"
   ]
  },
  {
   "cell_type": "markdown",
   "id": "b12651a9",
   "metadata": {},
   "source": [
    "Kod zostanie następnie przygotowany do trenowania modelu przy użyciu PyTorch. Dane/etykiety treningowe i testowe przekształcone zostaną na tensor za pomocą *torch.tensor()*"
   ]
  },
  {
   "cell_type": "code",
   "execution_count": 18,
   "id": "06ed2ff4",
   "metadata": {},
   "outputs": [],
   "source": [
    "import torch\n",
    "import torch.nn as nn\n",
    "import torch.optim as optim\n",
    "\n",
    "x_train = torch.tensor(X_train, dtype=torch.float32)\n",
    "y_train = torch.tensor(y_train.values, dtype=torch.float32)\n",
    "\n",
    "x_test = torch.tensor(X_test, dtype=torch.float32)\n",
    "y_test = torch.tensor(y_test.values, dtype=torch.float32)"
   ]
  },
  {
   "cell_type": "markdown",
   "id": "647c1983",
   "metadata": {},
   "source": [
    "Dane treningowe i testowe połączone zostaną następnie w pary wejście-wyjście za pomocą klasy *TensorData*, przez co ułatwione będzie użycie ich w modelu.\n",
    "\n",
    "Klasa *DataLoader* zostanie użyta w celu utworzenia iteratorów, które umożliwią podział danych na części o równym rozmiarze i dostarczenie tych części do modelu."
   ]
  },
  {
   "cell_type": "markdown",
   "id": "7d4a4253",
   "metadata": {},
   "source": [
    "## Trenowanie modelu"
   ]
  },
  {
   "cell_type": "code",
   "execution_count": 19,
   "id": "935c8da3",
   "metadata": {},
   "outputs": [],
   "source": [
    "from torch.utils.data import DataLoader, TensorDataset\n",
    "\n",
    "train_dataset = TensorDataset(x_train, y_train)\n",
    "train_dataloader = DataLoader(train_dataset, batch_size=50, shuffle=False)\n",
    "\n",
    "test_dataset = TensorDataset(x_test, y_test)\n",
    "test_dataloader = DataLoader(test_dataset, batch_size=50, shuffle=False)"
   ]
  },
  {
   "cell_type": "markdown",
   "id": "41fc1d58",
   "metadata": {},
   "source": [
    "Po przygotowaniu danych możliwe jest utworzenie modelu sieci neuronowej. Sieć składa się z dwóch warstw liniowych:\n",
    "* pierwsza przyjmuje 24 argumenty na wejście, po to aby przekształcić je w 10 wyjść\n",
    "* druga posiada 10 wejść (z wyjścia poprzedniej warstwy), które przekształcone będą w 1 wyjście\n",
    "W pierwszej warstwie liniowej funkcją aktywacji jest funkcja ReLU, która przekształca wartości liniowe na nieliniowe poprzez zastosowanie funkcji max(0, x), co przydatne okazuje się w uczeniu nieliniowych relacji w danych.\n",
    "\n",
    "Druga warstwa liniowa stosuje funkcję sigmoidalną, która przekształca wartość wyjściową na wartość z przedziału (0, 1).\n",
    "\n",
    "Po przejściu przez model na wyjściu powinniśmy otrzymać prawdopodobnieństwo przynależności danej próbki do jednej z dwóch klas."
   ]
  },
  {
   "cell_type": "code",
   "execution_count": 20,
   "id": "e45504d0",
   "metadata": {},
   "outputs": [],
   "source": [
    "model = nn.Sequential(\n",
    "    nn.Linear(24, 10),\n",
    "    nn.ReLU(),\n",
    "    nn.Linear(10, 1),\n",
    "    nn.Sigmoid()\n",
    ")"
   ]
  },
  {
   "cell_type": "markdown",
   "id": "117647b2",
   "metadata": {},
   "source": [
    "Aby możliwa była ocena modelu, skorzystamy z cross-entropii (Binary Cross Entropy Loss). Funkcja *BCELoss()* oblicza stratę między przewidywanymi a rzeczywistymi etykietami.\n",
    "\n",
    "Trenowanie modelu odbywać się będzie na zasadzie aktualizacji wag w celu minimalizacji funkcji straty. Takie działanie zapewnia algorytm Adam, który, za pomocą wstecznej propagacji błędu, oblicza gradienty funkcji straty względem wszystkich wag modelu i na tej podstawie ustanawia nowe wagi."
   ]
  },
  {
   "cell_type": "code",
   "execution_count": 21,
   "id": "22252dde",
   "metadata": {},
   "outputs": [],
   "source": [
    "criterion = nn.BCELoss()\n",
    "optimizer = optim.Adam(model.parameters(), lr=0.001)"
   ]
  },
  {
   "cell_type": "markdown",
   "id": "d66e7056",
   "metadata": {},
   "source": [
    "W trakcie treningu modelu sieci neuronowej, przeprowadzonych zostanie 10 epok. Każda epoka oznacza, przejście przez cały zbiór treningowy, dzięki czemu model uczył się będzie na całym zestawie danych. \n",
    "\n",
    "Każda minigrupa jest przekazywana do modelu, a następnie obliczona jest wartość funkcji straty między wartościami rzeczywistymi i przewidywanymi. Wykonywana jest także wsteczna propagacja, która służy obliczeniu gradientów funkcji straty."
   ]
  },
  {
   "cell_type": "code",
   "execution_count": 22,
   "id": "1f1bf4c6",
   "metadata": {},
   "outputs": [
    {
     "name": "stdout",
     "output_type": "stream",
     "text": [
      "Epoka: 1/10, Strata (trening): 0.5114\n",
      "Epoka: 2/10, Strata (trening): 0.4760\n",
      "Epoka: 3/10, Strata (trening): 0.4719\n",
      "Epoka: 4/10, Strata (trening): 0.4699\n",
      "Epoka: 5/10, Strata (trening): 0.4687\n",
      "Epoka: 6/10, Strata (trening): 0.4677\n",
      "Epoka: 7/10, Strata (trening): 0.4671\n",
      "Epoka: 8/10, Strata (trening): 0.4666\n",
      "Epoka: 9/10, Strata (trening): 0.4662\n",
      "Epoka: 10/10, Strata (trening): 0.4659\n"
     ]
    }
   ],
   "source": [
    "epochs = 10\n",
    "\n",
    "for epoch in range(epochs):\n",
    "    model.train()\n",
    "    train_loss = 0.0\n",
    "    for inputs, labels in train_dataloader:\n",
    "        optimizer.zero_grad()\n",
    "        outputs = model(inputs)\n",
    "        loss = criterion(outputs, labels.view(-1, 1))\n",
    "        loss.backward()\n",
    "        optimizer.step()\n",
    "        train_loss +=    loss.item() * inputs.size(0)\n",
    "    \n",
    "    train_loss /= len(train_dataloader.dataset)\n",
    "    print(f'Epoka: {epoch+1}/{epochs}, Strata (trening): {train_loss:.4f}')"
   ]
  },
  {
   "cell_type": "markdown",
   "id": "2daa1293",
   "metadata": {},
   "source": [
    "Podczas trenowania modelu za pomocą 10 epok, średnia strata treningowa stopniowo maleje z każdą kolejną epoką. Początkowa wartość straty wynosiła około 0.5, a po 10 epokach spadła do około 0.46. Malejąca wartość straty oznacza, że model staje się coraz bardziej skuteczny w przewidywaniu etykiet na podstawie danych treningowych."
   ]
  },
  {
   "cell_type": "markdown",
   "id": "d1ffc2ae",
   "metadata": {},
   "source": [
    "W celu oceny wydajności modelu, przejdziemy przez minigrupy składające się z danych i etykiet treningowych. Dla każdej minigrupy przekazane zostaną dane do modelu w celu uzyskania predykcji, a następnie obliczona zostanie funkcja straty.\n",
    "\n",
    "Na podstawie uzyskanej pod koniec wykonywania się pętli funkcji straty, możliwe będzie określenie stopnia zdolności modelu do radzenia sobie z nowymi danymi."
   ]
  },
  {
   "cell_type": "code",
   "execution_count": 23,
   "id": "71a80275",
   "metadata": {},
   "outputs": [
    {
     "name": "stdout",
     "output_type": "stream",
     "text": [
      "Strata (test): 0.4746, Dokładność: 0.7706\n"
     ]
    }
   ],
   "source": [
    "model.eval()\n",
    "test_loss = 0.0\n",
    "correct = 0\n",
    "total = 0\n",
    "\n",
    "with torch.no_grad():\n",
    "    for inputs, labels in test_dataloader:\n",
    "        outputs = model(inputs)\n",
    "        loss = criterion(outputs, labels.view(-1, 1))\n",
    "        test_loss += loss.item() * inputs.size(0)\n",
    "        predicted = torch.round(outputs)\n",
    "        correct += (predicted == labels.view(-1, 1)).sum().item()\n",
    "        total += labels.size(0)\n",
    "\n",
    "test_loss /= len(test_dataloader.dataset)\n",
    "accuracy = correct / total\n",
    "print(f'Strata (test): {test_loss:.4f}, Dokładność: {accuracy:.4f}')"
   ]
  },
  {
   "cell_type": "markdown",
   "id": "d996b764",
   "metadata": {},
   "source": [
    "Na podstawie wartości straty podczas trenowania i testowania modelu wysnuć można parę interesujących wniosków:\n",
    "* podczas trenowania model zmniejszał wartość straty z każdą kolejną epoką, co oznacza, że model coraz lepiej radził sobie z dopasowaniem do danych treningowych w miarę postępu treningu\n",
    "* wartość straty testowej wynosi 0.4742, co jest zbliżone do wartości straty testowej po 10 epokach (0.4655), co sugeruje, że model dobrze radzi sobie z nowymi danymi\n",
    "* dokładność modelu na danych testowych wynosi 0.7704, co oznacza, że około 77% predykcji modelu jest zgodne z rzeczywistymi etykietami."
   ]
  },
  {
   "cell_type": "markdown",
   "id": "671e25d2",
   "metadata": {},
   "source": [
    "## Undersampling\n",
    "\n",
    "Jest to metoda polegająca na usuwaniu danych z klasy większościowej. Usuwane są losowe rekordy z próbki większościowej, aż obie klasy będą miały tę samą liczność.\n",
    "\n",
    "Aby zrównoważyć obie te grupy użyta zostanie metoda $NearMiss$ z biblioteki imbalanced-learn, która polega na zmniejszeniu liczby próbek dominującej klasy, aby zrównoważyć proporcji klas w zbiorze danych."
   ]
  },
  {
   "cell_type": "code",
   "execution_count": 24,
   "id": "0604d330",
   "metadata": {},
   "outputs": [],
   "source": [
    "from imblearn.under_sampling import NearMiss\n",
    "\n",
    "under_sampler = NearMiss()\n",
    "X_res_un, y_res_un = under_sampler.fit_resample(X, y)"
   ]
  },
  {
   "cell_type": "markdown",
   "id": "aa9a9463",
   "metadata": {},
   "source": [
    "Poniższy kod pokazuje, jaki podział etykiet występuje przed undersamplingiem i po wykonaniu metody $NearMiss$."
   ]
  },
  {
   "cell_type": "code",
   "execution_count": 25,
   "id": "2af142b6",
   "metadata": {},
   "outputs": [
    {
     "name": "stdout",
     "output_type": "stream",
     "text": [
      "Liczba próbek przed undersamplingiem:\n",
      "0    35237\n",
      "1    20455\n",
      "Name: count, dtype: int64\n",
      "\n",
      "Liczba próbek po undersamplingu:\n",
      "0    20455\n",
      "1    20455\n",
      "Name: count, dtype: int64\n"
     ]
    }
   ],
   "source": [
    "y_series_un = pd.Series(y.flatten())\n",
    "y_res_series_un = pd.Series(y_res_un.flatten())\n",
    "\n",
    "print(\"Liczba próbek przed undersamplingiem:\")\n",
    "print(y_series_un.value_counts())   \n",
    "\n",
    "print(\"\\nLiczba próbek po undersamplingu:\")\n",
    "print(y_res_series_un.value_counts())\n",
    "\n",
    "df_resampled_un = pd.concat([pd.DataFrame(X_res_un), pd.DataFrame(y_res_un, columns=['smoking'])], axis=1)"
   ]
  },
  {
   "cell_type": "markdown",
   "id": "1da45d52",
   "metadata": {},
   "source": [
    "Także w tym przypadku wartości kolumny *smoking* rozkładają się w stosunku 1:1. Zmienia się natomiast rozmiar zbioru danych, który wynosi teraz nie 70 474, a 40 910 wierszy.\n",
    "\n",
    "Następnie dzielimy zbiór na dane (przy okazji usuwając kolumnę ID) i etykiety, standaryzujemy dane i dzielimy zbiór na zbiór treningowy i testowy."
   ]
  },
  {
   "cell_type": "code",
   "execution_count": 26,
   "id": "13429f02",
   "metadata": {
    "scrolled": false
   },
   "outputs": [],
   "source": [
    "data_un = df_resampled_un.drop(['smoking', 'ID'], axis=1)\n",
    "target_un = df_resampled_un['smoking']\n",
    "\n",
    "numeric_data_un = data_un.select_dtypes(include='number')\n",
    "scaled_un = scaler.fit_transform(numeric_data_un)\n",
    "\n",
    "X_train_un, X_test_un, y_train_un, y_test_un = train_test_split(scaled_un, target_un, test_size=0.2, random_state=42)"
   ]
  },
  {
   "cell_type": "markdown",
   "id": "c0bb077f",
   "metadata": {},
   "source": [
    "Zbiory są następnie przekształcane na tensory oraz dzielone na minigrupy."
   ]
  },
  {
   "cell_type": "code",
   "execution_count": 27,
   "id": "8cd95fa3",
   "metadata": {},
   "outputs": [],
   "source": [
    "x_train_un = torch.tensor(X_train_un, dtype=torch.float32)\n",
    "y_train_un = torch.tensor(y_train_un.values, dtype=torch.float32)\n",
    "x_test_un = torch.tensor(X_test_un, dtype=torch.float32)\n",
    "y_test_un = torch.tensor(y_test_un.values, dtype=torch.float32)\n",
    "\n",
    "train_dataset_un = TensorDataset(x_train_un, y_train_un)\n",
    "train_dataloader_un = DataLoader(train_dataset_un, batch_size=50, shuffle=False)\n",
    "\n",
    "test_dataset_un = TensorDataset(x_test_un, y_test_un)\n",
    "test_dataloader_un = DataLoader(test_dataset_un, batch_size=50, shuffle=False)"
   ]
  },
  {
   "cell_type": "markdown",
   "id": "3af882a4",
   "metadata": {},
   "source": [
    "Tak przekształcone dane trenujemy na stworzonym wcześniej modelu *model* także za pomocą cross-entropii oraz algorytmu optymalizacyjnego Adam."
   ]
  },
  {
   "cell_type": "code",
   "execution_count": 28,
   "id": "27c51937",
   "metadata": {},
   "outputs": [
    {
     "name": "stdout",
     "output_type": "stream",
     "text": [
      "Epoka: 1/10, Strata (trening): 0.4301\n",
      "Epoka: 2/10, Strata (trening): 0.4227\n",
      "Epoka: 3/10, Strata (trening): 0.4193\n",
      "Epoka: 4/10, Strata (trening): 0.4166\n",
      "Epoka: 5/10, Strata (trening): 0.4148\n",
      "Epoka: 6/10, Strata (trening): 0.4132\n",
      "Epoka: 7/10, Strata (trening): 0.4119\n",
      "Epoka: 8/10, Strata (trening): 0.4107\n",
      "Epoka: 9/10, Strata (trening): 0.4098\n",
      "Epoka: 10/10, Strata (trening): 0.4091\n"
     ]
    }
   ],
   "source": [
    "for epoch in range(epochs):\n",
    "    model.train()\n",
    "    train_loss = 0.0\n",
    "    for inputs, labels in train_dataloader_un:\n",
    "        optimizer.zero_grad()\n",
    "        outputs = model(inputs)\n",
    "        loss = criterion(outputs, labels.view(-1, 1))\n",
    "        loss.backward()\n",
    "        optimizer.step()\n",
    "        train_loss += loss.item() * inputs.size(0)\n",
    "    \n",
    "    train_loss /= len(train_dataloader_un.dataset)\n",
    "    print(f'Epoka: {epoch+1}/{epochs}, Strata (trening): {train_loss:.4f}')"
   ]
  },
  {
   "cell_type": "markdown",
   "id": "ccbf2b09",
   "metadata": {},
   "source": [
    "Podczas trenowania modelu za pomocą 10 epok, strata treningowa stopniowo maleje z każdą kolejną epoką. Jest to znak, że model się uczy i staje się coraz bardziej skuteczny. "
   ]
  },
  {
   "cell_type": "code",
   "execution_count": 29,
   "id": "c98c0c74",
   "metadata": {},
   "outputs": [
    {
     "name": "stdout",
     "output_type": "stream",
     "text": [
      "Strata (test): 0.4187, Dokładność: 0.7881\n"
     ]
    }
   ],
   "source": [
    "model.eval()\n",
    "test_loss = 0.0\n",
    "correct = 0\n",
    "total = 0\n",
    "\n",
    "with torch.no_grad():\n",
    "    for inputs, labels in test_dataloader_un:\n",
    "        outputs = model(inputs)\n",
    "        loss = criterion(outputs, labels.view(-1, 1))\n",
    "        test_loss += loss.item() * inputs.size(0)\n",
    "        predicted = torch.round(outputs)\n",
    "        correct += (predicted == labels.view(-1, 1)).sum().item()\n",
    "        total += labels.size(0)\n",
    "\n",
    "test_loss /= len(test_dataloader_un.dataset)\n",
    "accuracy = correct / total\n",
    "print(f'Strata (test): {test_loss:.4f}, Dokładność: {accuracy:.4f}')"
   ]
  },
  {
   "cell_type": "markdown",
   "id": "5a40eab3",
   "metadata": {},
   "source": [
    "Po przełączeniu modelu na tryb ewaluacji, zauważyć można, że zbiór ten ma większą dokładność w stosunku do danych poddanych oversamplingowi. Funkcja straty po ocenie wydajności modelu na danych testowych także jest mniejsza, gdyż wynosi jedynie 0.4154, w stosunku do 0.4742 z oversamplingu."
   ]
  },
  {
   "cell_type": "markdown",
   "id": "1effc2c3",
   "metadata": {},
   "source": [
    "## Wagi dla etykiet\n",
    "\n",
    "Technika ta polega na przypisaniu wag próbkom w zależności od ich przynależności do jednej z klas, aby wyrównać wpływ każdej klasy na proces uczenia się modelu. \n",
    "\n",
    "Dla każdej z klas określa się wagi. W tym przypadku wagi są odwrotnie proporcjonalne do częstości ystępowania danej klasy. Klasa liczniej występująca w kolumnie etykiety będzie więc miała mniejszą wagę niż klasa mniejszościowa zbioru."
   ]
  },
  {
   "cell_type": "code",
   "execution_count": 30,
   "id": "0776afa8",
   "metadata": {},
   "outputs": [],
   "source": [
    "df_weight = pd.concat([pd.DataFrame(X), pd.DataFrame(y, columns=['smoking'])], axis=1)"
   ]
  },
  {
   "cell_type": "markdown",
   "id": "48cc08a8",
   "metadata": {},
   "source": [
    "Zbiór zostaje podzielony na dane i etykiety, ustandaryzowane zostają jego dane, a następnie następuje podział zbioru na zbiór treningowy i testowy."
   ]
  },
  {
   "cell_type": "code",
   "execution_count": 31,
   "id": "3983ad7a",
   "metadata": {},
   "outputs": [],
   "source": [
    "data_weight = df_weight.drop(['smoking', 'ID'], axis=1)\n",
    "target_weight = df_weight['smoking']\n",
    "\n",
    "numeric_weight = data_weight.select_dtypes(include='number')\n",
    "scaled_un = scaler.fit_transform(numeric_weight)\n",
    "\n",
    "X_train_weight, X_test_weight, y_train_w, y_test_w = train_test_split(data_weight, target_weight, test_size=0.2, random_state=42)"
   ]
  },
  {
   "cell_type": "markdown",
   "id": "93439410",
   "metadata": {},
   "source": [
    "Następnie dla zbioru treningowego i testowego zostają utworzone tensory oraz następuje ich podział na minigrupy."
   ]
  },
  {
   "cell_type": "code",
   "execution_count": 32,
   "id": "278cfbc6",
   "metadata": {},
   "outputs": [],
   "source": [
    "x_train_weight = torch.tensor(X_train_weight.values, dtype=torch.float32)\n",
    "y_train_weight = torch.tensor(y_train_w.values, dtype=torch.float32)\n",
    "x_test_weight = torch.tensor(X_test_weight.values, dtype=torch.float32)\n",
    "y_test_weight = torch.tensor(y_test_w.values, dtype=torch.float32)\n",
    "\n",
    "train_dataset_weight = TensorDataset(x_train_weight, y_train_weight)\n",
    "train_dataloader_weight = DataLoader(train_dataset_weight, batch_size=50, shuffle=False)\n",
    "\n",
    "test_dataset_weight = TensorDataset(x_test_weight, y_test_weight)\n",
    "test_dataloader_weight = DataLoader(test_dataset_weight, batch_size=50, shuffle=False)"
   ]
  },
  {
   "cell_type": "markdown",
   "id": "f47467a3",
   "metadata": {},
   "source": [
    "Niezbędną częścią tej techniki jest dodanie wag do obu klas. Dla każdej z klas obliczana jest więc waga odwrotnie proporcjonalna do częstości jej występowania.\n",
    "\n",
    "Następnie do funkcji straty *BCELoss()* przypisane są wagi poszczególnych klas. Dla modelu oznacza to, że dla poszczególnych przykładów w zbiorze danych, funkcja straty będzie uwzględniała przypisane im wagi, co prowadzić będzie do zrównoważenia wpływu obu klas na trening modelu."
   ]
  },
  {
   "cell_type": "code",
   "execution_count": 33,
   "id": "408d8f67",
   "metadata": {},
   "outputs": [],
   "source": [
    "class_weights = torch.tensor([1/target_dis[0], 1/target_dis[1]])\n",
    "criterion_w = nn.BCELoss(weight=class_weights)"
   ]
  },
  {
   "cell_type": "code",
   "execution_count": 34,
   "id": "9ea4082f",
   "metadata": {},
   "outputs": [],
   "source": [
    "# epochs = 10\n",
    "# for epoch in range(epochs):\n",
    "#     model.train()\n",
    "#     train_loss = 0.0\n",
    "#     for inputs, labels in train_dataloader_weight:\n",
    "#         optimizer.zero_grad()\n",
    "#         outputs = model(inputs)\n",
    "#         labels = labels.view(-1, 1)\n",
    "#         loss = criterion_w(outputs, labels)\n",
    "#         loss.backward()\n",
    "#         optimizer.step()\n",
    "#         train_loss += loss.item() * inputs.size(0)\n",
    "    \n",
    "#     train_loss /= len(train_dataloader_weight.dataset)\n",
    "#     print(f'Epoka: {epoch+1}/{epochs}, Strata (trening): {train_loss:.4f}')"
   ]
  },
  {
   "cell_type": "markdown",
   "id": "c8b9cb5b",
   "metadata": {},
   "source": [
    "# Testowanie dla metody undersamplingu\n",
    "\n",
    "Spośród trzech ukazanych wyżej metod wybrana zostaje metoda undersamplingu, aby ukazać skuteczność innych modeli i optymalizatorów w procesie trenowania modelu."
   ]
  },
  {
   "cell_type": "markdown",
   "id": "7e60f224",
   "metadata": {},
   "source": [
    "Drugi stworzony model będzie zawierał trzy warstwy liniowe:\n",
    "* pierwsza warstwa na wejściu przyjmuje 24 cechy po to, aby przekształcić je następnie w 12 wyjść z neuronu,\n",
    "* druga warstwa przyjmuje wszystkie spośród 12 wyjść z pierwszej warstwy na swoje wejście, na wyjście zaś przekazuje 6 atrybutów,\n",
    "* ostatnia warstwa liniowa ma 6 wejść i 1 wyjście. Ta warstwa ma za zadanie przekształcić dane na pojedynczą wartość wyjściową, która jest poddana funkcji sigmoidalnej.\n",
    "\n",
    "Funkcja ReLU jest funkcją aktywacji nieliniową, która przekształca wartość ujemną na 0, pozostawiając nieujemne wartości niezmienione."
   ]
  },
  {
   "cell_type": "code",
   "execution_count": 35,
   "id": "1c6eb192",
   "metadata": {},
   "outputs": [],
   "source": [
    "model2 = nn.Sequential(\n",
    "    nn.Linear(24, 12),\n",
    "    nn.ReLU(),\n",
    "    nn.Linear(12, 6),\n",
    "    nn.ReLU(),\n",
    "    nn.Linear(6, 1),\n",
    "    nn.Sigmoid()\n",
    ")"
   ]
  },
  {
   "cell_type": "markdown",
   "id": "cb6afea4",
   "metadata": {},
   "source": [
    "Aby możliwa była ocena modelu drugiego, także skorzystamy z cross-entropii (Binary Cross Entropy Loss).\n",
    "\n",
    "Trenowanie modelu odbywać się będzie na zasadzie aktualizacji wag w celu minimalizacji funkcji stratyza pomocą algorytmu Adam, aby łatwe było porównanie modelu2 z modelem pierwszym."
   ]
  },
  {
   "cell_type": "code",
   "execution_count": 36,
   "id": "5ed08088",
   "metadata": {},
   "outputs": [],
   "source": [
    "criterion = nn.BCELoss()\n",
    "optimizer = optim.Adam(model2.parameters(), lr=0.001)"
   ]
  },
  {
   "cell_type": "code",
   "execution_count": 37,
   "id": "60c30aa9",
   "metadata": {},
   "outputs": [
    {
     "name": "stdout",
     "output_type": "stream",
     "text": [
      "Epoka: 1/10, Strata (trening): 0.4876\n",
      "Epoka: 2/10, Strata (trening): 0.4260\n",
      "Epoka: 3/10, Strata (trening): 0.4190\n",
      "Epoka: 4/10, Strata (trening): 0.4156\n",
      "Epoka: 5/10, Strata (trening): 0.4131\n",
      "Epoka: 6/10, Strata (trening): 0.4110\n",
      "Epoka: 7/10, Strata (trening): 0.4094\n",
      "Epoka: 8/10, Strata (trening): 0.4080\n",
      "Epoka: 9/10, Strata (trening): 0.4068\n",
      "Epoka: 10/10, Strata (trening): 0.4057\n"
     ]
    }
   ],
   "source": [
    "for epoch in range(epochs):\n",
    "    model2.train()\n",
    "    train_loss = 0.0\n",
    "    for inputs, labels in train_dataloader_un:\n",
    "        optimizer.zero_grad()\n",
    "        outputs = model2(inputs)\n",
    "        loss = criterion(outputs, labels.view(-1, 1))\n",
    "        loss.backward()\n",
    "        optimizer.step()\n",
    "        train_loss += loss.item() * inputs.size(0)\n",
    "    \n",
    "    train_loss /= len(train_dataloader_un.dataset)\n",
    "    print(f'Epoka: {epoch+1}/{epochs}, Strata (trening): {train_loss:.4f}')"
   ]
  },
  {
   "cell_type": "markdown",
   "id": "236b176e",
   "metadata": {},
   "source": [
    "Wartość straty na zbiorze treningowym zmniejsza się wraz z postępem w treningu. Oznacza to, że model stopniowo dostosowuje się do danych treningowych i coraz lepiej przewiduje etykiety dla przykładów treningowych."
   ]
  },
  {
   "cell_type": "code",
   "execution_count": 38,
   "id": "f98d11f4",
   "metadata": {},
   "outputs": [
    {
     "name": "stdout",
     "output_type": "stream",
     "text": [
      "Strata (test): 0.4151, Dokładność: 0.7889\n"
     ]
    }
   ],
   "source": [
    "model2.eval()\n",
    "test_loss = 0.0\n",
    "correct = 0\n",
    "total = 0\n",
    "\n",
    "with torch.no_grad():\n",
    "    for inputs, labels in test_dataloader_un:\n",
    "        outputs = model2(inputs)\n",
    "        loss = criterion(outputs, labels.view(-1, 1))\n",
    "        test_loss += loss.item() * inputs.size(0)\n",
    "        predicted = torch.round(outputs)\n",
    "        correct += (predicted == labels.view(-1, 1)).sum().item()\n",
    "        total += labels.size(0)\n",
    "\n",
    "test_loss /= len(test_dataloader_un.dataset)\n",
    "accuracy = correct / total\n",
    "print(f'Strata (test): {test_loss:.4f}, Dokładność: {accuracy:.4f}')"
   ]
  },
  {
   "cell_type": "markdown",
   "id": "989390c8",
   "metadata": {},
   "source": [
    "Trzecim testowanym modelem będzie *model3* przedstawiony poniżej. Model ten składa się z dwóch warstw:\n",
    "* pierwsza warstwa liniowa ma 24 wejścia i 6 wyjść. Jest ona odpowiedzialna za transformację danych wejściowych do mniejszego wymiaru, a aktywacje są przekazywane do funkcji aktywacji ReLU.\n",
    "* druga warstwa ma 6 wejść, które przekształca w 1 wyjście, któe następnie poddane jest sigmoidalnej funkcji aktywacji, dzięki czemu wartość wyjściowa znajduje się w zakresie między 0 i 1."
   ]
  },
  {
   "cell_type": "code",
   "execution_count": 39,
   "id": "bc35f4f3",
   "metadata": {},
   "outputs": [],
   "source": [
    "model3 = nn.Sequential(\n",
    "    nn.Linear(24, 6),\n",
    "    nn.ReLU(),\n",
    "    nn.Linear(6, 1),\n",
    "    nn.Sigmoid()\n",
    ")"
   ]
  },
  {
   "cell_type": "markdown",
   "id": "05575e09",
   "metadata": {},
   "source": [
    "Aby możliwe było łatwe porównanie tych trzech modeli, także w tym przypadku użyta zostanie cross-entropia oraz algorytm optymalizacyjny Adam."
   ]
  },
  {
   "cell_type": "code",
   "execution_count": 40,
   "id": "e8ee93f0",
   "metadata": {},
   "outputs": [],
   "source": [
    "criterion = nn.BCELoss()\n",
    "optimizer = optim.Adam(model3.parameters(), lr=0.001)"
   ]
  },
  {
   "cell_type": "code",
   "execution_count": 41,
   "id": "11989fd6",
   "metadata": {},
   "outputs": [
    {
     "name": "stdout",
     "output_type": "stream",
     "text": [
      "Epoka: 1/10, Strata (trening): 0.5035\n",
      "Epoka: 2/10, Strata (trening): 0.4332\n",
      "Epoka: 3/10, Strata (trening): 0.4226\n",
      "Epoka: 4/10, Strata (trening): 0.4183\n",
      "Epoka: 5/10, Strata (trening): 0.4161\n",
      "Epoka: 6/10, Strata (trening): 0.4142\n",
      "Epoka: 7/10, Strata (trening): 0.4127\n",
      "Epoka: 8/10, Strata (trening): 0.4116\n",
      "Epoka: 9/10, Strata (trening): 0.4107\n",
      "Epoka: 10/10, Strata (trening): 0.4101\n"
     ]
    }
   ],
   "source": [
    "for epoch in range(epochs):\n",
    "    model3.train()\n",
    "    train_loss = 0.0\n",
    "    for inputs, labels in train_dataloader_un:\n",
    "        optimizer.zero_grad()\n",
    "        outputs = model3(inputs)\n",
    "        loss = criterion(outputs, labels.view(-1, 1))\n",
    "        loss.backward()\n",
    "        optimizer.step()\n",
    "        train_loss += loss.item() * inputs.size(0)\n",
    "    \n",
    "    train_loss /= len(train_dataloader_un.dataset)\n",
    "    print(f'Epoka: {epoch+1}/{epochs}, Strata (trening): {train_loss:.4f}')"
   ]
  },
  {
   "cell_type": "markdown",
   "id": "f8f503f9",
   "metadata": {},
   "source": [
    "Obniżanie się wartości straty oznacza, że modele poprawiają swoje predykcje i stają się coraz lepiej dopasowane do danych treningowych."
   ]
  },
  {
   "cell_type": "code",
   "execution_count": 42,
   "id": "429bdc36",
   "metadata": {},
   "outputs": [
    {
     "name": "stdout",
     "output_type": "stream",
     "text": [
      "Strata (test): 0.4197, Dokładność: 0.7871\n"
     ]
    }
   ],
   "source": [
    "model3.eval()\n",
    "test_loss = 0.0\n",
    "correct = 0\n",
    "total = 0\n",
    "\n",
    "with torch.no_grad():\n",
    "    for inputs, labels in test_dataloader_un:\n",
    "        outputs = model3(inputs)\n",
    "        loss = criterion(outputs, labels.view(-1, 1))\n",
    "        test_loss += loss.item() * inputs.size(0)\n",
    "        predicted = torch.round(outputs)\n",
    "        correct += (predicted == labels.view(-1, 1)).sum().item()\n",
    "        total += labels.size(0)\n",
    "\n",
    "test_loss /= len(test_dataloader_un.dataset)\n",
    "accuracy = correct / total\n",
    "print(f'Strata (test): {test_loss:.4f}, Dokładność: {accuracy:.4f}')"
   ]
  },
  {
   "cell_type": "markdown",
   "id": "915e06e9",
   "metadata": {},
   "source": [
    "## Podsumowanie modeli na zbiorze poddanym undersamplingowi\n",
    "\n",
    "Model pierwszy ma największą dokładność oraz najmniejszą wartość funkcji straty na zbiorze testowym. Jednak w ciągu 10 epok, różnica między stratą po pierwszej epoce, a stratą pod koniec wyniosła około 0.26.\n",
    "\n",
    "Model drugi znajduje się po środku w zestawieniu modelu zarówno pod względem funkcji straty na zbiorze testowym i dokładności, jak i wydajnością uczenia się po 10 epokach, co oznaczać może, że model ten ma możliwość lepszego wytrenowania, lecz także większe prawdopodobieństwo przetrenowania.\n",
    "\n",
    "Model trzeci posiada największą różnicę między stratą po pierwszej i ostatniej epoce. Wyniki obejmujące dokładność i stratę po przekształceniu danych testowych ma natomiast najgorsze spośród wszystkich pokazanych tu modeli działających na danych poddanych oversamplingowi.\n",
    "\n",
    "Z tego powodu następne testy przeprowadzone zostaną na modelu drugim."
   ]
  },
  {
   "cell_type": "markdown",
   "id": "f8861712",
   "metadata": {},
   "source": [
    "Aby zoptymalizować model *model2* można użyć optymalizatora SGD (Stochastic Gradient Descent). Algorytm ten także wykorzystywany jest do minimalizacji funkcji straty poprzez aktualizację wag modelu w kierunku przeciwnym do gradientu funkcji straty."
   ]
  },
  {
   "cell_type": "code",
   "execution_count": 43,
   "id": "2a9f13fb",
   "metadata": {},
   "outputs": [],
   "source": [
    "criterion = nn.BCELoss()\n",
    "optimizer2 = optim.SGD(model2.parameters(), lr=0.01)"
   ]
  },
  {
   "cell_type": "code",
   "execution_count": 44,
   "id": "c9f29693",
   "metadata": {},
   "outputs": [
    {
     "name": "stdout",
     "output_type": "stream",
     "text": [
      "Epoka: 1/10, Strata (trening): 0.4034\n",
      "Epoka: 2/10, Strata (trening): 0.4030\n",
      "Epoka: 3/10, Strata (trening): 0.4028\n",
      "Epoka: 4/10, Strata (trening): 0.4026\n",
      "Epoka: 5/10, Strata (trening): 0.4024\n",
      "Epoka: 6/10, Strata (trening): 0.4023\n",
      "Epoka: 7/10, Strata (trening): 0.4022\n",
      "Epoka: 8/10, Strata (trening): 0.4020\n",
      "Epoka: 9/10, Strata (trening): 0.4019\n",
      "Epoka: 10/10, Strata (trening): 0.4018\n"
     ]
    }
   ],
   "source": [
    "for epoch in range(epochs):\n",
    "    model2.train()\n",
    "    train_loss = 0.0\n",
    "    for inputs, labels in train_dataloader_un:\n",
    "        optimizer2.zero_grad()\n",
    "        outputs = model2(inputs)\n",
    "        loss = criterion(outputs, labels.view(-1, 1))\n",
    "        loss.backward()\n",
    "        optimizer2.step()\n",
    "        train_loss += loss.item() * inputs.size(0)\n",
    "    \n",
    "    train_loss /= len(train_dataloader_un.dataset)\n",
    "    print(f'Epoka: {epoch+1}/{epochs}, Strata (trening): {train_loss:.4f}')"
   ]
  },
  {
   "cell_type": "markdown",
   "id": "e52b7555",
   "metadata": {},
   "source": [
    "Model trenowany za pomocą algorytmu optymalizacyjnego SGD dostarcza rezultaty podobne do rezultatów algorytmu Adam. Zauważyć można niewielkie różnice wartości funkcji straty między każdymi kolejnymi dwoma epokami. Różnica strat w tym przypadku wynosi jedynie 0.0016."
   ]
  }
 ],
 "metadata": {
  "kernelspec": {
   "display_name": "Python 3 (ipykernel)",
   "language": "python",
   "name": "python3"
  },
  "language_info": {
   "codemirror_mode": {
    "name": "ipython",
    "version": 3
   },
   "file_extension": ".py",
   "mimetype": "text/x-python",
   "name": "python",
   "nbconvert_exporter": "python",
   "pygments_lexer": "ipython3",
   "version": "3.11.5"
  }
 },
 "nbformat": 4,
 "nbformat_minor": 5
}
